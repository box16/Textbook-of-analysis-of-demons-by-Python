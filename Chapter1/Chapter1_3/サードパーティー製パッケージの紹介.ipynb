{
 "cells": [
  {
   "cell_type": "markdown",
   "id": "yellow-marble",
   "metadata": {},
   "source": [
    "# 1.3.2サードパーティー製パッケージの紹介\n",
    "\n",
    "Jupyter Notebook<br>\n",
    "* Webブラウザ上でPythonが実行できるようにする環境パッケージ\n",
    "* コードの実行結果や、グラフ出力、それらの再実行、保存も行える\n",
    "* GitHubに保存することで見た目そのまま保持できる\n",
    "\n",
    "Numpy<br>\n",
    "* 数値計算を扱うパッケージ\n",
    "* 配列や行列を効率よく扱う事が出来る\n",
    "* 配列内部のデータを直接変換したり、行列、ベクトルの足し算を容易に、高速に計算できる\n",
    "\n",
    "pandas<br>\n",
    "* Numpyを基盤としたDataFrame構造を提供するパッケージ\n",
    "* DataFrameとは独自の構造で、表形式の2次元データを柔軟に取り扱えるのが特徴\n",
    "* データの変換、加工を効率よく行うことが出来る\n",
    "\n",
    "Matplotlib<br>\n",
    "* データの可視化を行うパッケージ\n",
    "* 折れ線、ヒストグラム等様々なグラフを描画出来る\n",
    "\n",
    "scikit-learn<br>\n",
    "* 機械学習のアルゴリズムや評価用ツールが集まったパッケージ\n",
    "* 機械学習全般のタスクをこれで行える\n",
    "\n",
    "Scipy<br>\n",
    "* 科学技術計算をサポートするパッケージ\n",
    "* scikit-learnで多用される\n",
    "* 高度な統計処理や線形代数、フーリエ変換を行うことが出来る"
   ]
  }
 ],
 "metadata": {
  "kernelspec": {
   "display_name": "Python 3",
   "language": "python",
   "name": "python3"
  },
  "language_info": {
   "codemirror_mode": {
    "name": "ipython",
    "version": 3
   },
   "file_extension": ".py",
   "mimetype": "text/x-python",
   "name": "python",
   "nbconvert_exporter": "python",
   "pygments_lexer": "ipython3",
   "version": "3.7.4"
  }
 },
 "nbformat": 4,
 "nbformat_minor": 5
}
