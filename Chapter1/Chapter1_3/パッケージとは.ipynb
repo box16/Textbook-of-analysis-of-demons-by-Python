{
 "cells": [
  {
   "cell_type": "markdown",
   "id": "expected-distance",
   "metadata": {},
   "source": [
    "# 1.3.1パッケージとは\n",
    "\n",
    "Pythonに機能を追加したり、支援したりするものの総称をパッケージという<br>\n",
    "Pythonが元々備えている標準ライブラリやサードパーティー製ライブラリがある<br>\n",
    "Pythonではこのサードパーティーが豊富であるために、低コストで高リターンな結果が得られる<br>"
   ]
  }
 ],
 "metadata": {
  "kernelspec": {
   "display_name": "Python 3",
   "language": "python",
   "name": "python3"
  },
  "language_info": {
   "codemirror_mode": {
    "name": "ipython",
    "version": 3
   },
   "file_extension": ".py",
   "mimetype": "text/x-python",
   "name": "python",
   "nbconvert_exporter": "python",
   "pygments_lexer": "ipython3",
   "version": "3.7.4"
  }
 },
 "nbformat": 4,
 "nbformat_minor": 5
}
