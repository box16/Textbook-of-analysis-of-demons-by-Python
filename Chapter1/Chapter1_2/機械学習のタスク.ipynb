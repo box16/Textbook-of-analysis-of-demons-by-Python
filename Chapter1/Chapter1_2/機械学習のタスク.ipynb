{
 "cells": [
  {
   "cell_type": "markdown",
   "id": "indian-robertson",
   "metadata": {},
   "source": [
    "# 1.2.3機械学習のタスク\n",
    "\n",
    "教師あり学習<br>\n",
    "* 正解があらかじめ用意されているデータに対して学習を重ねる機械学習の手法\n",
    "* 正解の事を正解ラベルという\n",
    "* 正解ラベルを目的変数とし、それ以外のデータを説明変数とする手法\n",
    "* 説明変数は特徴データ、特徴量とも呼ばれる\n",
    "* また、教師あり学習の中で、目的変数の種類によって、回帰と分類に分けられる\n",
    "* 回帰\n",
    "* 目的変数が連続値である場合\n",
    "* 売上金予測、気温予測\n",
    "* 分類\n",
    "* 目的変数が離散値である場合\n",
    "* 動物の顔分類\n",
    "\n",
    "教師なし学習<br>\n",
    "* 正解があらかじめ用意されていないデータに対して学習を重ねる機械学習の手法\n",
    "* 主に、クラスタリング、次元削除というタスクを行う\n",
    "* クラスタリング\n",
    "* 与えられたデータの特徴を見出し、それによって、データを複数のクラスに分類する\n",
    "* 睡眠時間とテストの点数をクラスタリングしてみる等の事が出来る\n",
    "* 次元削除\n",
    "* 大量の説明変数によって説明される目的変数があるとする\n",
    "* 次元削除はこの説明変数を少なくしても同様に説明できるままであるように調整する手法の亊\n",
    "* おもに主成分分析という名前で知られる\n",
    "\n",
    "強化学習<br>\n",
    "* ブラックボックス内のエージェントが飴と鞭を与えられ、報酬を最大化するような行動を取るように学習していく手法\n",
    "* ゲームのルールを与えて、ひたすらに対戦させることで学習させる\n",
    "\n",
    "[![Image](https://gyazo.com/3ef19ec7e1c98ed527d143cdf412c6cc/thumb/1000)](https://gyazo.com/3ef19ec7e1c98ed527d143cdf412c6cc)<br>"
   ]
  },
  {
   "cell_type": "code",
   "execution_count": null,
   "id": "polished-respondent",
   "metadata": {},
   "outputs": [],
   "source": []
  }
 ],
 "metadata": {
  "kernelspec": {
   "display_name": "Python 3",
   "language": "python",
   "name": "python3"
  },
  "language_info": {
   "codemirror_mode": {
    "name": "ipython",
    "version": 3
   },
   "file_extension": ".py",
   "mimetype": "text/x-python",
   "name": "python",
   "nbconvert_exporter": "python",
   "pygments_lexer": "ipython3",
   "version": "3.7.4"
  }
 },
 "nbformat": 4,
 "nbformat_minor": 5
}
