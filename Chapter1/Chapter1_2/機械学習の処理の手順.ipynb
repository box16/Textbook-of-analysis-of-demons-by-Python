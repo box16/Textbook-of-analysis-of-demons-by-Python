{
 "cells": [
  {
   "cell_type": "markdown",
   "id": "answering-validation",
   "metadata": {},
   "source": [
    "# 1.2.4機械学習の処理の手順\n",
    "\n",
    "教師あり学習を例にとる<br>\n",
    "処理の流れを以下の8stepに分割できる<br>\n",
    "\n",
    "1. データ入手<br>\n",
    "* まずはデータが必要\n",
    "* データの概要を捉えて目的を達成できるようなデータかも確認する\n",
    "* Numpy,Pandasが用いられる\n",
    "2. データ加工<br>\n",
    "* 学習の為に、データを整える\n",
    "* データが欠損していたり型が揃っていなかったりする場合はここで対応する\n",
    "* Numpy,Pandasが用いられる\n",
    "3. データ可視化<br>\n",
    "* まとまったデータを表やグラフで可視化していく\n",
    "* 学習に必要なデータが揃っているかをグラフィックスで確認する\n",
    "* Matplotlibやpandasが用いられる\n",
    "4. アルゴリズム選択<br>\n",
    "* 機械学習のアルゴリズムを選択する\n",
    "* ここが一番難しい\n",
    "* scikit-learnが用いられる\n",
    "5. 学習プロセス<br>\n",
    "* モデルの学習を行う\n",
    "* ここでハイパーパラメータを設定する\n",
    "* 学習に必要な設定のこと\n",
    "* scikit-learnが用いられる\n",
    "6. 精度評価<br>\n",
    "* ある程度学習したらそれを用いて予測を行う\n",
    "* あらゆる角度から結果を評価する\n",
    "* scikit-learnが用いられる\n",
    "7. 試験運用<br>\n",
    "* ある程度性能が保証できたらこれを運用する\n",
    "* 運用の過程で改善点が見つかれば都度修正する\n",
    "8. 結果利用<br>\n",
    "* 最終的な成果物として製品に活用したりする\n",
    "\n",
    "[![Image](https://gyazo.com/f8f85cd92df9db57d2fdda9c093edef1/thumb/1000)](https://gyazo.com/f8f85cd92df9db57d2fdda9c093edef1)<br>"
   ]
  }
 ],
 "metadata": {
  "kernelspec": {
   "display_name": "Python 3",
   "language": "python",
   "name": "python3"
  },
  "language_info": {
   "codemirror_mode": {
    "name": "ipython",
    "version": 3
   },
   "file_extension": ".py",
   "mimetype": "text/x-python",
   "name": "python",
   "nbconvert_exporter": "python",
   "pygments_lexer": "ipython3",
   "version": "3.7.4"
  }
 },
 "nbformat": 4,
 "nbformat_minor": 5
}
