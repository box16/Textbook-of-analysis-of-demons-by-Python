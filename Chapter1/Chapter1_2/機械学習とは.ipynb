{
 "cells": [
  {
   "cell_type": "markdown",
   "id": "built-mozambique",
   "metadata": {},
   "source": [
    "# 1.2.1機械学習とは\n",
    "\n",
    "機械学習<br>\n",
    "* 大量のデータから、アルゴリズムによって、その特徴や予測を行う式を導き出すこと\n",
    "* この式の事をモデルという\n",
    "\n",
    "大量の入力データと、それを処理するアルゴリズムによって、モデルが出力される<br>\n",
    "\n",
    "モデルに未知のデータを入力することで、その特徴や将来を予測できる<br>\n",
    "[![Image](https://gyazo.com/cd1e5554874cae90d0d14e8962193644/thumb/1000)](https://gyazo.com/cd1e5554874cae90d0d14e8962193644)<br>"
   ]
  }
 ],
 "metadata": {
  "kernelspec": {
   "display_name": "Python 3",
   "language": "python",
   "name": "python3"
  },
  "language_info": {
   "codemirror_mode": {
    "name": "ipython",
    "version": 3
   },
   "file_extension": ".py",
   "mimetype": "text/x-python",
   "name": "python",
   "nbconvert_exporter": "python",
   "pygments_lexer": "ipython3",
   "version": "3.7.4"
  }
 },
 "nbformat": 4,
 "nbformat_minor": 5
}
