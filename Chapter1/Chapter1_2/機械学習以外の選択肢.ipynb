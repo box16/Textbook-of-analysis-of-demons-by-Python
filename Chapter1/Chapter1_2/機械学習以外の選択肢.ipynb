{
 "cells": [
  {
   "cell_type": "markdown",
   "id": "medical-senegal",
   "metadata": {},
   "source": [
    "# 1.2.2機械学習以外の選択肢\n",
    "\n",
    "ルールベース<br>\n",
    "* 大量の条件分岐によって、データを処理するアルゴリズム\n",
    "* 機械学習はその条件分岐を自動生成するようなものと考えてよい\n",
    "* 大量の条件分岐を書くよりか機械学習に任せた方が良い場合もある\n",
    "\n",
    "統計的手法<br>\n",
    "* 回帰式や、統計的推定によって将来を予測する方法\n",
    "* 機械学習の多くは統計的手法をベースに考案されているため、実質同じものと考えて良い\n",
    "* 統計的なテクニックを多用し複雑に組み合わせたものが機械学習とも言える\n"
   ]
  },
  {
   "cell_type": "code",
   "execution_count": null,
   "id": "accurate-guarantee",
   "metadata": {},
   "outputs": [],
   "source": []
  }
 ],
 "metadata": {
  "kernelspec": {
   "display_name": "Python 3",
   "language": "python",
   "name": "python3"
  },
  "language_info": {
   "codemirror_mode": {
    "name": "ipython",
    "version": 3
   },
   "file_extension": ".py",
   "mimetype": "text/x-python",
   "name": "python",
   "nbconvert_exporter": "python",
   "pygments_lexer": "ipython3",
   "version": "3.7.4"
  }
 },
 "nbformat": 4,
 "nbformat_minor": 5
}
