{
 "cells": [
  {
   "cell_type": "markdown",
   "id": "nasty-theorem",
   "metadata": {},
   "source": [
    "# 1.1.3データサイエンティストとは\n",
    "\n",
    "データサイエンティストとは<br>\n",
    "* 数学、情報工学、対象分野の専門知識(ドメイン知識)を持つ、データ分析、データ解析が行える人材\n",
    "[![Image](https://gyazo.com/c5f8725a754f5fe738f67971d5c6e60a/thumb/1000)](https://gyazo.com/c5f8725a754f5fe738f67971d5c6e60a)<br>\n",
    "\n",
    "データサイエンティストの役割<br>\n",
    "* モデル、アルゴリズムの構築\n",
    "* 新たな解放や新技術への取り組み\n",
    "* 解決したい課題に向き合う実務\n",
    "* データとの向き合い方の提示\n",
    "* 分析結果の評価"
   ]
  },
  {
   "cell_type": "code",
   "execution_count": null,
   "id": "tender-tunisia",
   "metadata": {},
   "outputs": [],
   "source": []
  }
 ],
 "metadata": {
  "kernelspec": {
   "display_name": "Python 3",
   "language": "python",
   "name": "python3"
  },
  "language_info": {
   "codemirror_mode": {
    "name": "ipython",
    "version": 3
   },
   "file_extension": ".py",
   "mimetype": "text/x-python",
   "name": "python",
   "nbconvert_exporter": "python",
   "pygments_lexer": "ipython3",
   "version": "3.7.4"
  }
 },
 "nbformat": 4,
 "nbformat_minor": 5
}
