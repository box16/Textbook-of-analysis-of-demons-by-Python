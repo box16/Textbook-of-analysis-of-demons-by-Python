{
 "cells": [
  {
   "cell_type": "markdown",
   "id": "regional-hawaii",
   "metadata": {},
   "source": [
    "# 1.1.1データ分析を取り巻く状況\n",
    "\n",
    "ビッグデータの時代<br>\n",
    "* あらゆる情報がテキストデータとして取り扱う事が出来るようになった\n",
    "* インターネットの発達により情報収集が楽になった\n",
    "* コンピュータの高性能化によりデータ生成が楽になった\n",
    "\n",
    "家庭でデータ分析、機械学習が出来るレベルにまでなっている<br>\n",
    "[![Image](https://gyazo.com/aa7788fe8b1e50c4df3cf9e1acadeaa7/thumb/1000)](https://gyazo.com/aa7788fe8b1e50c4df3cf9e1acadeaa7)<br>"
   ]
  },
  {
   "cell_type": "code",
   "execution_count": null,
   "id": "apparent-favor",
   "metadata": {},
   "outputs": [],
   "source": []
  }
 ],
 "metadata": {
  "kernelspec": {
   "display_name": "Python 3",
   "language": "python",
   "name": "python3"
  },
  "language_info": {
   "codemirror_mode": {
    "name": "ipython",
    "version": 3
   },
   "file_extension": ".py",
   "mimetype": "text/x-python",
   "name": "python",
   "nbconvert_exporter": "python",
   "pygments_lexer": "ipython3",
   "version": "3.7.4"
  }
 },
 "nbformat": 4,
 "nbformat_minor": 5
}
