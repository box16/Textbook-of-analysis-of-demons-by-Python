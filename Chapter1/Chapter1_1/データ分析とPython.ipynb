{
 "cells": [
  {
   "cell_type": "markdown",
   "id": "painful-bradford",
   "metadata": {},
   "source": [
    "# 1.1.2データ分析とPython\n",
    "\n",
    "データ分析におけるPythonの役割<br>\n",
    "* ビックデータ分析は大量のデータに触れることになる\n",
    "* テキスト、画像、音声...\n",
    "* これらを同時に簡易に扱う事が出来るPythonは重宝される\n",
    "[![Image](https://gyazo.com/b1f0200482222b2171dd10aeebea18a0/thumb/1000)](https://gyazo.com/b1f0200482222b2171dd10aeebea18a0)<br>\n",
    "\n",
    "Pythonの特徴<br>\n",
    "* 言語仕様が分かりやすい\n",
    "* コンパイル不要\n",
    "* 標準ライブラリとサードパーティーライブラリが豊富\n",
    "* データ分析以外の適用範囲が広い\n",
    "* オープンソース\n",
    "\n",
    "Pythonが得意な分野<br>\n",
    "* サーバー系ツール\n",
    "* Webシステムの構築\n",
    "* IoTデバイスの操作\n",
    "* 3Dグラフィックス\n",
    "[![Image](https://gyazo.com/9a6759a529c34de6fb183349c2fc6ff1/thumb/1000)](https://gyazo.com/9a6759a529c34de6fb183349c2fc6ff1)<br>\n",
    "\n",
    "Pythonが苦手な分野<br>\n",
    "* Webアプリなどのフロントエンド\n",
    "* デスクトップGUI\n",
    "* 速度向上を目的とした低レイヤー処理\n",
    "* 超大規模、ミッションクリティカルな処理\n",
    "\n",
    "Pythonでデータ分析に使われるツール<br>\n",
    "* Jupyter Notebook\n",
    "* NumPy\n",
    "* pandas\n",
    "* Matplotlib\n",
    "* SciPy\n",
    "* scikit-learn\n",
    "\n",
    "Python以外の選択肢<br>\n",
    "* Rは統計を中心としたライブラリが豊富\n",
    "* 統計においてはPythonより特化している\n",
    "* Webへの応用やサーバーサイドでの稼働においてはRだけでは難しい事もある\n",
    "* Microsoft Excel\n",
    "* GUIでの操作ができすぐに使える\n",
    "* データの取り込みなどにはVBA等でプログラミングする必要がある\n",
    "* Javaを含むその他の言語\n",
    "* 出来ないことは無いがライブラリが少なかったり、サンプルが少なかったりする\n",
    "* 統合的に見てPythonは低コスト、高リターンの言語であるためPythonを選択するのがbetter"
   ]
  },
  {
   "cell_type": "code",
   "execution_count": null,
   "id": "prepared-fantasy",
   "metadata": {},
   "outputs": [],
   "source": []
  }
 ],
 "metadata": {
  "kernelspec": {
   "display_name": "Python 3",
   "language": "python",
   "name": "python3"
  },
  "language_info": {
   "codemirror_mode": {
    "name": "ipython",
    "version": 3
   },
   "file_extension": ".py",
   "mimetype": "text/x-python",
   "name": "python",
   "nbconvert_exporter": "python",
   "pygments_lexer": "ipython3",
   "version": "3.7.4"
  }
 },
 "nbformat": 4,
 "nbformat_minor": 5
}
