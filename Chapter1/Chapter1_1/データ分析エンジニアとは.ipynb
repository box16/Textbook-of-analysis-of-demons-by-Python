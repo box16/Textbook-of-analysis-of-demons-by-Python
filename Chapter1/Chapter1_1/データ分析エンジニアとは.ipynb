{
 "cells": [
  {
   "cell_type": "markdown",
   "id": "gorgeous-image",
   "metadata": {},
   "source": [
    "# 1.1.4データ分析エンジニアとは\n",
    "\n",
    "データ分析エンジニアとは<br>\n",
    "* データ工学(情報工学を基盤にデータと向き合う分野)の人\n",
    "* データベース技術から、データ活用に至るあらゆる技術を持つ人\n",
    "\n",
    "データ分析エンジニアが持つべき技術<br>\n",
    "* データハンドリング\n",
    "* つまり、データ入手や加工のこと\n",
    "* データの可視化\n",
    "* プログラミング\n",
    "* インフラレイヤー\n",
    "* 環境構築、サーバーサイド取り扱いなど\n",
    "[![Image](https://gyazo.com/d70ce9dc5de32689a60a92b4588040a3/thumb/1000)](https://gyazo.com/d70ce9dc5de32689a60a92b4588040a3)<br>\n",
    "\n",
    "データ分析エンジニアが付加的に持つべき技術<br>\n",
    "* 機械学習\n",
    "* 数学\n",
    "* 対象分野の専門知識\n",
    "* [![Image](https://gyazo.com/5a6f4f0868f4c668b243ed2b022dd886/thumb/1000)](https://gyazo.com/5a6f4f0868f4c668b243ed2b022dd886)\n",
    "\n",
    "[![Image](https://gyazo.com/97a6b37da50e57542bd06d355325cd76/thumb/1000)](https://gyazo.com/97a6b37da50e57542bd06d355325cd76)<br>\n",
    "\n",
    "データ分析エンジニアという大きな範囲に、データサイエンティストが居る感じ<br>"
   ]
  },
  {
   "cell_type": "code",
   "execution_count": null,
   "id": "sustainable-remains",
   "metadata": {},
   "outputs": [],
   "source": []
  }
 ],
 "metadata": {
  "kernelspec": {
   "display_name": "Python 3",
   "language": "python",
   "name": "python3"
  },
  "language_info": {
   "codemirror_mode": {
    "name": "ipython",
    "version": 3
   },
   "file_extension": ".py",
   "mimetype": "text/x-python",
   "name": "python",
   "nbconvert_exporter": "python",
   "pygments_lexer": "ipython3",
   "version": "3.7.4"
  }
 },
 "nbformat": 4,
 "nbformat_minor": 5
}
