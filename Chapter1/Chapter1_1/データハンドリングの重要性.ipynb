{
 "cells": [
  {
   "cell_type": "markdown",
   "id": "suitable-personal",
   "metadata": {},
   "source": [
    "# 1.1.5データハンドリングの重要性\n",
    "\n",
    "データハンドリングはとても重要で、機械学習の業務においてデータハンドリングは9~8割程を占める<br>\n",
    "* 前処理とも言われる作業\n",
    "* データの入手、再加工、繋ぎ合わせや可視化などを何回も行う\n",
    "* データが不足している場合はデータを集める\n",
    "* 機械学習の方法によってはデータを整形して学習用にする"
   ]
  },
  {
   "cell_type": "code",
   "execution_count": null,
   "id": "floppy-boating",
   "metadata": {},
   "outputs": [],
   "source": []
  }
 ],
 "metadata": {
  "kernelspec": {
   "display_name": "Python 3",
   "language": "python",
   "name": "python3"
  },
  "language_info": {
   "codemirror_mode": {
    "name": "ipython",
    "version": 3
   },
   "file_extension": ".py",
   "mimetype": "text/x-python",
   "name": "python",
   "nbconvert_exporter": "python",
   "pygments_lexer": "ipython3",
   "version": "3.7.4"
  }
 },
 "nbformat": 4,
 "nbformat_minor": 5
}
