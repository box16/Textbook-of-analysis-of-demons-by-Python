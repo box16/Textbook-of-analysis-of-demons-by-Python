{
 "cells": [
  {
   "cell_type": "code",
   "execution_count": 2,
   "id": "funny-hands",
   "metadata": {},
   "outputs": [],
   "source": [
    "import numpy"
   ]
  },
  {
   "cell_type": "markdown",
   "id": "pretty-penguin",
   "metadata": {},
   "source": [
    "### 簡単な行列の作成、確認"
   ]
  },
  {
   "cell_type": "code",
   "execution_count": 5,
   "id": "compatible-bandwidth",
   "metadata": {},
   "outputs": [
    {
     "data": {
      "text/plain": [
       "'[1 2 3]'"
      ]
     },
     "execution_count": 5,
     "metadata": {},
     "output_type": "execute_result"
    }
   ],
   "source": [
    "# 一次元配列を作成する\n",
    "# 引数にPython標準のリストを渡す\n",
    "array = numpy.array([1,2,3])\n",
    "str(array)"
   ]
  },
  {
   "cell_type": "code",
   "execution_count": 6,
   "id": "dutch-reggae",
   "metadata": {},
   "outputs": [
    {
     "data": {
      "text/plain": [
       "numpy.ndarray"
      ]
     },
     "execution_count": 6,
     "metadata": {},
     "output_type": "execute_result"
    }
   ],
   "source": [
    "type(array)"
   ]
  },
  {
   "cell_type": "code",
   "execution_count": 7,
   "id": "constitutional-capability",
   "metadata": {},
   "outputs": [
    {
     "data": {
      "text/plain": [
       "(3,)"
      ]
     },
     "execution_count": 7,
     "metadata": {},
     "output_type": "execute_result"
    }
   ],
   "source": [
    "# ndarray型がどのような構成になっているのかを調べる\n",
    "array.shape"
   ]
  },
  {
   "cell_type": "markdown",
   "id": "solar-diana",
   "metadata": {},
   "source": [
    "(3,)という事は、1次元配列の3要素であるという事  \n",
    "つまり  \n",
    "$1 \\times 3$行列ということ"
   ]
  },
  {
   "cell_type": "code",
   "execution_count": 8,
   "id": "everyday-pavilion",
   "metadata": {},
   "outputs": [
    {
     "data": {
      "text/plain": [
       "'[[1 2 3]\\n [4 5 6]]'"
      ]
     },
     "execution_count": 8,
     "metadata": {},
     "output_type": "execute_result"
    }
   ],
   "source": [
    "array_2 = numpy.array([[1,2,3],[4,5,6]])\n",
    "str(array_2)"
   ]
  },
  {
   "cell_type": "code",
   "execution_count": 10,
   "id": "military-sussex",
   "metadata": {},
   "outputs": [
    {
     "data": {
      "text/plain": [
       "(2, 3)"
      ]
     },
     "execution_count": 10,
     "metadata": {},
     "output_type": "execute_result"
    }
   ],
   "source": [
    "array_2.shape"
   ]
  },
  {
   "cell_type": "markdown",
   "id": "attached-valuable",
   "metadata": {},
   "source": [
    "つまり  \n",
    "$2\\times 3$行列"
   ]
  },
  {
   "cell_type": "markdown",
   "id": "outside-loading",
   "metadata": {},
   "source": [
    "### 行列の変換"
   ]
  },
  {
   "cell_type": "code",
   "execution_count": 11,
   "id": "powered-satellite",
   "metadata": {},
   "outputs": [
    {
     "data": {
      "text/plain": [
       "'[0 1 2 3 4 5]'"
      ]
     },
     "execution_count": 11,
     "metadata": {},
     "output_type": "execute_result"
    }
   ],
   "source": [
    "array = numpy.array([0,1,2,3,4,5])\n",
    "str(array)"
   ]
  },
  {
   "cell_type": "markdown",
   "id": "novel-market",
   "metadata": {},
   "source": [
    "reshapeメソッドに$N\\times M$行列に変換するという意味で、**タプル**を渡す"
   ]
  },
  {
   "cell_type": "code",
   "execution_count": 13,
   "id": "informal-advisory",
   "metadata": {},
   "outputs": [
    {
     "data": {
      "text/plain": [
       "'[[0 1 2]\\n [3 4 5]]'"
      ]
     },
     "execution_count": 13,
     "metadata": {},
     "output_type": "execute_result"
    }
   ],
   "source": [
    "convert_array = array.reshape((2,3))\n",
    "str(convert_array)"
   ]
  },
  {
   "cell_type": "code",
   "execution_count": 14,
   "id": "atmospheric-palmer",
   "metadata": {},
   "outputs": [
    {
     "ename": "ValueError",
     "evalue": "cannot reshape array of size 6 into shape (4,2)",
     "output_type": "error",
     "traceback": [
      "\u001b[1;31m---------------------------------------------------------------------------\u001b[0m",
      "\u001b[1;31mValueError\u001b[0m                                Traceback (most recent call last)",
      "\u001b[1;32m<ipython-input-14-9e0f1ad775c8>\u001b[0m in \u001b[0;36m<module>\u001b[1;34m\u001b[0m\n\u001b[0;32m      1\u001b[0m \u001b[1;31m# 変換後の行列は、要素数と辻褄が合わないといけない\u001b[0m\u001b[1;33m\u001b[0m\u001b[1;33m\u001b[0m\u001b[1;33m\u001b[0m\u001b[0m\n\u001b[1;32m----> 2\u001b[1;33m \u001b[0merror_array\u001b[0m \u001b[1;33m=\u001b[0m \u001b[0marray\u001b[0m\u001b[1;33m.\u001b[0m\u001b[0mreshape\u001b[0m\u001b[1;33m(\u001b[0m\u001b[1;33m(\u001b[0m\u001b[1;36m4\u001b[0m\u001b[1;33m,\u001b[0m\u001b[1;36m2\u001b[0m\u001b[1;33m)\u001b[0m\u001b[1;33m)\u001b[0m\u001b[1;33m\u001b[0m\u001b[1;33m\u001b[0m\u001b[0m\n\u001b[0m\u001b[0;32m      3\u001b[0m \u001b[0mstr\u001b[0m\u001b[1;33m(\u001b[0m\u001b[0merror_array\u001b[0m\u001b[1;33m)\u001b[0m\u001b[1;33m\u001b[0m\u001b[1;33m\u001b[0m\u001b[0m\n",
      "\u001b[1;31mValueError\u001b[0m: cannot reshape array of size 6 into shape (4,2)"
     ]
    }
   ],
   "source": [
    "# 変換後の行列は、要素数と辻褄が合わないといけない\n",
    "error_array = array.reshape((4,2))\n",
    "str(error_array)"
   ]
  },
  {
   "cell_type": "markdown",
   "id": "coated-cream",
   "metadata": {},
   "source": [
    "多次元配列を一次元配列に変換する方法は二つある  \n",
    "1. ravelメソッド : 参照を返す\n",
    "2. flattenメソッド : コピーを返す\n",
    "  \n",
    "メモリ消費を押さえたいならravelメソッド  \n",
    "副作用が怖いならflattenメソッド  \n",
    "という使い分けがよさそう"
   ]
  },
  {
   "cell_type": "code",
   "execution_count": 19,
   "id": "internal-trigger",
   "metadata": {},
   "outputs": [
    {
     "name": "stdout",
     "output_type": "stream",
     "text": [
      "origin_array \n",
      " [[1 2 3]\n",
      " [4 5 6]]\n",
      "convert_array \n",
      " [1 2 3 4 5 6]\n",
      "===========================\n",
      "origin_array \n",
      " [[    1     2     3]\n",
      " [99999     5     6]]\n",
      "convert_array \n",
      " [    1     2     3 99999     5     6]\n"
     ]
    }
   ],
   "source": [
    "# ravelは参照を返す\n",
    "origin_array = numpy.array([[1,2,3],[4,5,6]])\n",
    "print(f\"origin_array \\n {origin_array}\")\n",
    "\n",
    "convert_array = origin_array.ravel()\n",
    "print(f\"convert_array \\n {convert_array}\")\n",
    "\n",
    "print(\"===========================\")\n",
    "\n",
    "# convertの変更がoriginに影響を及ぼす\n",
    "convert_array[3] = 99999\n",
    "\n",
    "print(f\"origin_array \\n {origin_array}\")\n",
    "print(f\"convert_array \\n {convert_array}\")"
   ]
  },
  {
   "cell_type": "code",
   "execution_count": 20,
   "id": "vietnamese-interim",
   "metadata": {},
   "outputs": [
    {
     "name": "stdout",
     "output_type": "stream",
     "text": [
      "origin_array \n",
      " [[1 2 3]\n",
      " [4 5 6]]\n",
      "convert_array \n",
      " [1 2 3 4 5 6]\n",
      "===========================\n",
      "origin_array \n",
      " [[1 2 3]\n",
      " [4 5 6]]\n",
      "convert_array \n",
      " [    1     2     3 99999     5     6]\n"
     ]
    }
   ],
   "source": [
    "# flattenはコピーを返す\n",
    "origin_array = numpy.array([[1,2,3],[4,5,6]])\n",
    "print(f\"origin_array \\n {origin_array}\")\n",
    "\n",
    "convert_array = origin_array.flatten()\n",
    "print(f\"convert_array \\n {convert_array}\")\n",
    "\n",
    "print(\"===========================\")\n",
    "\n",
    "# convertの変更がoriginに影響を及ぼさない\n",
    "convert_array[3] = 99999\n",
    "\n",
    "print(f\"origin_array \\n {origin_array}\")\n",
    "print(f\"convert_array \\n {convert_array}\")"
   ]
  },
  {
   "cell_type": "markdown",
   "id": "burning-society",
   "metadata": {},
   "source": [
    "### データ型(dtype)\n",
    "dtypeメンバにアクセスすることで、データ型を知ることが出来る"
   ]
  },
  {
   "cell_type": "code",
   "execution_count": 21,
   "id": "valuable-outside",
   "metadata": {},
   "outputs": [
    {
     "data": {
      "text/plain": [
       "dtype('int32')"
      ]
     },
     "execution_count": 21,
     "metadata": {},
     "output_type": "execute_result"
    }
   ],
   "source": [
    "array = numpy.array([1,2,3])\n",
    "array.dtype"
   ]
  },
  {
   "cell_type": "code",
   "execution_count": 22,
   "id": "former-ladder",
   "metadata": {},
   "outputs": [
    {
     "data": {
      "text/plain": [
       "dtype('int16')"
      ]
     },
     "execution_count": 22,
     "metadata": {},
     "output_type": "execute_result"
    }
   ],
   "source": [
    "# データ型を指定することが出来る\n",
    "array = numpy.array([1,2,3],dtype=numpy.int16)\n",
    "array.dtype"
   ]
  },
  {
   "cell_type": "markdown",
   "id": "acknowledged-vertical",
   "metadata": {},
   "source": [
    "astypeメソッドで型変換もできる"
   ]
  },
  {
   "cell_type": "code",
   "execution_count": 24,
   "id": "gross-freight",
   "metadata": {},
   "outputs": [
    {
     "name": "stdout",
     "output_type": "stream",
     "text": [
      "int16\n",
      "float16\n"
     ]
    }
   ],
   "source": [
    "array = numpy.array([1,2,3],dtype=numpy.int16)\n",
    "print(array.dtype)\n",
    "\n",
    "print(array.astype(numpy.float16).dtype)"
   ]
  },
  {
   "cell_type": "markdown",
   "id": "korean-masters",
   "metadata": {},
   "source": [
    "### インデックスとスライス\n",
    "Numpyのndarrayでは、Python標準配列と同様にインデックス指定と、スライスが使用できる"
   ]
  },
  {
   "cell_type": "code",
   "execution_count": 25,
   "id": "average-martial",
   "metadata": {},
   "outputs": [],
   "source": [
    "array = numpy.array([1,2,3])"
   ]
  },
  {
   "cell_type": "code",
   "execution_count": 26,
   "id": "exciting-craps",
   "metadata": {},
   "outputs": [
    {
     "data": {
      "text/plain": [
       "1"
      ]
     },
     "execution_count": 26,
     "metadata": {},
     "output_type": "execute_result"
    }
   ],
   "source": [
    "array[0]"
   ]
  },
  {
   "cell_type": "code",
   "execution_count": 27,
   "id": "greater-grace",
   "metadata": {},
   "outputs": [
    {
     "data": {
      "text/plain": [
       "3"
      ]
     },
     "execution_count": 27,
     "metadata": {},
     "output_type": "execute_result"
    }
   ],
   "source": [
    "array[2]"
   ]
  },
  {
   "cell_type": "code",
   "execution_count": 28,
   "id": "geographic-coast",
   "metadata": {},
   "outputs": [
    {
     "ename": "IndexError",
     "evalue": "index 99 is out of bounds for axis 0 with size 3",
     "output_type": "error",
     "traceback": [
      "\u001b[1;31m---------------------------------------------------------------------------\u001b[0m",
      "\u001b[1;31mIndexError\u001b[0m                                Traceback (most recent call last)",
      "\u001b[1;32m<ipython-input-28-8a7fe5ef2382>\u001b[0m in \u001b[0;36m<module>\u001b[1;34m\u001b[0m\n\u001b[1;32m----> 1\u001b[1;33m \u001b[0marray\u001b[0m\u001b[1;33m[\u001b[0m\u001b[1;36m99\u001b[0m\u001b[1;33m]\u001b[0m\u001b[1;33m\u001b[0m\u001b[1;33m\u001b[0m\u001b[0m\n\u001b[0m",
      "\u001b[1;31mIndexError\u001b[0m: index 99 is out of bounds for axis 0 with size 3"
     ]
    }
   ],
   "source": [
    "array[99]"
   ]
  },
  {
   "cell_type": "code",
   "execution_count": 29,
   "id": "saved-booth",
   "metadata": {},
   "outputs": [
    {
     "data": {
      "text/plain": [
       "array([2, 3])"
      ]
     },
     "execution_count": 29,
     "metadata": {},
     "output_type": "execute_result"
    }
   ],
   "source": [
    "array[1:]"
   ]
  },
  {
   "cell_type": "code",
   "execution_count": 30,
   "id": "proud-heritage",
   "metadata": {},
   "outputs": [
    {
     "data": {
      "text/plain": [
       "array([1, 2, 3])"
      ]
     },
     "execution_count": 30,
     "metadata": {},
     "output_type": "execute_result"
    }
   ],
   "source": [
    "array[0:99]"
   ]
  },
  {
   "cell_type": "code",
   "execution_count": 31,
   "id": "religious-chapel",
   "metadata": {},
   "outputs": [
    {
     "data": {
      "text/plain": [
       "array([1, 2, 3])"
      ]
     },
     "execution_count": 31,
     "metadata": {},
     "output_type": "execute_result"
    }
   ],
   "source": [
    "array[:99]"
   ]
  },
  {
   "cell_type": "code",
   "execution_count": 32,
   "id": "fifteen-thread",
   "metadata": {},
   "outputs": [
    {
     "data": {
      "text/plain": [
       "3"
      ]
     },
     "execution_count": 32,
     "metadata": {},
     "output_type": "execute_result"
    }
   ],
   "source": [
    "array[-1]"
   ]
  },
  {
   "cell_type": "code",
   "execution_count": 33,
   "id": "religious-smooth",
   "metadata": {},
   "outputs": [
    {
     "data": {
      "text/plain": [
       "array([3])"
      ]
     },
     "execution_count": 33,
     "metadata": {},
     "output_type": "execute_result"
    }
   ],
   "source": [
    "array[-1:99]"
   ]
  },
  {
   "cell_type": "code",
   "execution_count": 34,
   "id": "fitted-ambassador",
   "metadata": {},
   "outputs": [],
   "source": [
    "array_2 = numpy.array([[1,2,3],[4,5,6]])"
   ]
  },
  {
   "cell_type": "code",
   "execution_count": 35,
   "id": "australian-palmer",
   "metadata": {},
   "outputs": [
    {
     "data": {
      "text/plain": [
       "array([1, 2, 3])"
      ]
     },
     "execution_count": 35,
     "metadata": {},
     "output_type": "execute_result"
    }
   ],
   "source": [
    "array_2[0]"
   ]
  },
  {
   "cell_type": "code",
   "execution_count": 36,
   "id": "composite-amber",
   "metadata": {},
   "outputs": [
    {
     "ename": "IndexError",
     "evalue": "index 3 is out of bounds for axis 0 with size 2",
     "output_type": "error",
     "traceback": [
      "\u001b[1;31m---------------------------------------------------------------------------\u001b[0m",
      "\u001b[1;31mIndexError\u001b[0m                                Traceback (most recent call last)",
      "\u001b[1;32m<ipython-input-36-0b6334c17bf9>\u001b[0m in \u001b[0;36m<module>\u001b[1;34m\u001b[0m\n\u001b[1;32m----> 1\u001b[1;33m \u001b[0marray_2\u001b[0m\u001b[1;33m[\u001b[0m\u001b[1;36m3\u001b[0m\u001b[1;33m]\u001b[0m\u001b[1;33m\u001b[0m\u001b[1;33m\u001b[0m\u001b[0m\n\u001b[0m",
      "\u001b[1;31mIndexError\u001b[0m: index 3 is out of bounds for axis 0 with size 2"
     ]
    }
   ],
   "source": [
    "array_2[3]"
   ]
  },
  {
   "cell_type": "code",
   "execution_count": 37,
   "id": "rental-milwaukee",
   "metadata": {},
   "outputs": [
    {
     "data": {
      "text/plain": [
       "2"
      ]
     },
     "execution_count": 37,
     "metadata": {},
     "output_type": "execute_result"
    }
   ],
   "source": [
    "array_2[0][1]"
   ]
  },
  {
   "cell_type": "code",
   "execution_count": 42,
   "id": "intellectual-paradise",
   "metadata": {},
   "outputs": [
    {
     "data": {
      "text/plain": [
       "2"
      ]
     },
     "execution_count": 42,
     "metadata": {},
     "output_type": "execute_result"
    }
   ],
   "source": [
    "# ，区切りで指定も出来る\n",
    "array_2[0,1]"
   ]
  },
  {
   "cell_type": "code",
   "execution_count": 43,
   "id": "static-mobility",
   "metadata": {},
   "outputs": [
    {
     "data": {
      "text/plain": [
       "array([2, 3])"
      ]
     },
     "execution_count": 43,
     "metadata": {},
     "output_type": "execute_result"
    }
   ],
   "source": [
    "array_2[0,1:]"
   ]
  },
  {
   "cell_type": "code",
   "execution_count": 39,
   "id": "resistant-squad",
   "metadata": {},
   "outputs": [
    {
     "data": {
      "text/plain": [
       "array([3, 6])"
      ]
     },
     "execution_count": 39,
     "metadata": {},
     "output_type": "execute_result"
    }
   ],
   "source": [
    "# すべての行を取得し、それらの3番目の要素を抽出する\n",
    "array_2[:,2]"
   ]
  },
  {
   "cell_type": "code",
   "execution_count": 40,
   "id": "declared-johns",
   "metadata": {},
   "outputs": [
    {
     "data": {
      "text/plain": [
       "array([4, 5, 6])"
      ]
     },
     "execution_count": 40,
     "metadata": {},
     "output_type": "execute_result"
    }
   ],
   "source": [
    "array_2[1,:]"
   ]
  },
  {
   "cell_type": "code",
   "execution_count": 44,
   "id": "leading-equilibrium",
   "metadata": {},
   "outputs": [
    {
     "data": {
      "text/plain": [
       "array([[1, 3],\n",
       "       [4, 6]])"
      ]
     },
     "execution_count": 44,
     "metadata": {},
     "output_type": "execute_result"
    }
   ],
   "source": [
    "# すべての行に対して、1番目と3番目の要素を抽出する\n",
    "array_2[:,[0,2]]"
   ]
  },
  {
   "cell_type": "markdown",
   "id": "mysterious-manual",
   "metadata": {},
   "source": [
    "### データの再代入\n",
    "インデックス指定で値を変更できる"
   ]
  },
  {
   "cell_type": "code",
   "execution_count": 45,
   "id": "close-complexity",
   "metadata": {},
   "outputs": [],
   "source": [
    "array = numpy.array([1,2,3])\n",
    "array_2 = numpy.array([[1,2,3],[4,5,6]])"
   ]
  },
  {
   "cell_type": "code",
   "execution_count": 46,
   "id": "accepting-hierarchy",
   "metadata": {},
   "outputs": [
    {
     "data": {
      "text/plain": [
       "'[4 2 3]'"
      ]
     },
     "execution_count": 46,
     "metadata": {},
     "output_type": "execute_result"
    }
   ],
   "source": [
    "array[0] = 99\n",
    "str(array)"
   ]
  },
  {
   "cell_type": "code",
   "execution_count": 49,
   "id": "amber-visit",
   "metadata": {},
   "outputs": [
    {
     "data": {
      "text/plain": [
       "'[[ 1  2  3]\\n [ 4  5 99]]'"
      ]
     },
     "execution_count": 49,
     "metadata": {},
     "output_type": "execute_result"
    }
   ],
   "source": [
    "array_2[1,2] = 99\n",
    "str(array_2)"
   ]
  },
  {
   "cell_type": "code",
   "execution_count": 50,
   "id": "egyptian-toddler",
   "metadata": {},
   "outputs": [
    {
     "name": "stdout",
     "output_type": "stream",
     "text": [
      "[[-99   2   3]\n",
      " [-99   5  99]]\n"
     ]
    }
   ],
   "source": [
    "# 複数個まとめて変換も可能\n",
    "array_2[:,0] = -99\n",
    "print(array_2)"
   ]
  },
  {
   "cell_type": "markdown",
   "id": "appreciated-underwear",
   "metadata": {},
   "source": [
    "### 深いコピー(copy)\n",
    "配列を複製する時には注意しないといけないところがある。  \n",
    "参照による複製と、コピーによる複製の違い。"
   ]
  },
  {
   "cell_type": "code",
   "execution_count": 52,
   "id": "religious-scroll",
   "metadata": {},
   "outputs": [
    {
     "name": "stdout",
     "output_type": "stream",
     "text": [
      "[1 2 3]\n",
      "[1 2 3]\n",
      "===========\n",
      "[9999    2    3]\n",
      "[9999    2    3]\n"
     ]
    }
   ],
   "source": [
    "array = numpy.array([1,2,3])\n",
    "reference_array = array\n",
    "\n",
    "print(array)\n",
    "print(reference_array)\n",
    "\n",
    "print(\"===========\")\n",
    "reference_array[0] = 9999\n",
    "\n",
    "print(array)\n",
    "print(reference_array)"
   ]
  },
  {
   "cell_type": "markdown",
   "id": "mighty-farmer",
   "metadata": {},
   "source": [
    "上記のように、単純に代入する場合は、**参照による複製**となる  \n",
    "つまり、指すアドレスは同一であるため、  \n",
    "**コピー先の変更が、オリジナルに影響を及ぼしてしまう**  \n",
    "  \n",
    "これとは別に、コピーによる複製もある"
   ]
  },
  {
   "cell_type": "code",
   "execution_count": 53,
   "id": "subjective-stream",
   "metadata": {},
   "outputs": [
    {
     "name": "stdout",
     "output_type": "stream",
     "text": [
      "[1 2 3]\n",
      "[1 2 3]\n",
      "===========\n",
      "[1 2 3]\n",
      "[9999    2    3]\n"
     ]
    }
   ],
   "source": [
    "array = numpy.array([1,2,3])\n",
    "reference_array = array.copy()\n",
    "\n",
    "print(array)\n",
    "print(reference_array)\n",
    "\n",
    "print(\"===========\")\n",
    "reference_array[0] = 9999\n",
    "\n",
    "print(array)\n",
    "print(reference_array)"
   ]
  },
  {
   "cell_type": "markdown",
   "id": "fluid-trademark",
   "metadata": {},
   "source": [
    "この場合は、  \n",
    "**コピー先の変更が、オリジナルに影響を及ぼさない**  \n",
    "  \n",
    "代入時に、全く同じ値を持つ、別のものを作成するという事  \n",
    "そのため、二つが指すアドレスは異なる"
   ]
  },
  {
   "cell_type": "markdown",
   "id": "chinese-leeds",
   "metadata": {},
   "source": [
    "Python標準の配列のスライスはコピーが渡されるが、  \n",
    "**Numpyのスライスは参照が渡される点に注意する**"
   ]
  },
  {
   "cell_type": "code",
   "execution_count": 56,
   "id": "american-therapy",
   "metadata": {},
   "outputs": [
    {
     "name": "stdout",
     "output_type": "stream",
     "text": [
      "python_array : [1, 2, 3]\n",
      "copy_py_array : [9999, 2, 3]\n",
      "\n",
      "numpy_array : [9999    2    3]\n",
      "copy_np_array : [9999    2    3]\n"
     ]
    }
   ],
   "source": [
    "python_array = [1,2,3]\n",
    "numpy_array = numpy.array([1,2,3])\n",
    "\n",
    "copy_py_array = python_array[::]\n",
    "copy_np_array = numpy_array[::]\n",
    "\n",
    "copy_py_array[0] = 9999\n",
    "copy_np_array[0] = 9999\n",
    "\n",
    "print(f\"python_array : {python_array}\\ncopy_py_array : {copy_py_array}\")\n",
    "print()\n",
    "print(f\"numpy_array : {numpy_array}\\ncopy_np_array : {copy_np_array}\")"
   ]
  },
  {
   "cell_type": "markdown",
   "id": "arctic-swimming",
   "metadata": {},
   "source": [
    "コピーと一口にいう場合、大体は、参照によるコピーも含まれる  \n",
    "この曖昧さを避けるために、  \n",
    "  \n",
    "参照によるコピー : **浅いコピー(shallow copy)**  \n",
    "コピーによるコピー : **深いコピー(deep copy)**\n",
    "  \n",
    "特別するのが一般的"
   ]
  },
  {
   "cell_type": "markdown",
   "id": "hungarian-polyester",
   "metadata": {},
   "source": [
    "### 数列を返す(arange)\n",
    "Pythno標準で言うところのrangeメソッド  \n",
    "numpyにもrangeのように、指定した値を自動生成するメソッドがある"
   ]
  },
  {
   "cell_type": "code",
   "execution_count": 62,
   "id": "acknowledged-demonstration",
   "metadata": {},
   "outputs": [
    {
     "name": "stdout",
     "output_type": "stream",
     "text": [
      "[0, 1, 2, 3, 4, 5, 6, 7, 8, 9]\n",
      "\n",
      "[0 1 2 3 4 5 6 7 8 9]\n"
     ]
    }
   ],
   "source": [
    "print(list(range(10)))\n",
    "print()\n",
    "print(numpy.arange(10))"
   ]
  },
  {
   "cell_type": "code",
   "execution_count": 63,
   "id": "hungry-democrat",
   "metadata": {},
   "outputs": [
    {
     "name": "stdout",
     "output_type": "stream",
     "text": [
      "[1, 2, 3, 4, 5, 6, 7, 8, 9]\n",
      "\n",
      "[1 2 3 4 5 6 7 8 9]\n"
     ]
    }
   ],
   "source": [
    "print(list(range(1,10)))\n",
    "print()\n",
    "print(numpy.arange(1,10))"
   ]
  },
  {
   "cell_type": "code",
   "execution_count": 64,
   "id": "corporate-stroke",
   "metadata": {},
   "outputs": [
    {
     "name": "stdout",
     "output_type": "stream",
     "text": [
      "<class 'list'>\n",
      "\n",
      "<class 'numpy.ndarray'>\n"
     ]
    }
   ],
   "source": [
    "print(type(list(range(1,10))))\n",
    "print()\n",
    "print(type(numpy.arange(1,10)))"
   ]
  },
  {
   "cell_type": "code",
   "execution_count": 65,
   "id": "characteristic-hearts",
   "metadata": {},
   "outputs": [
    {
     "data": {
      "text/plain": [
       "array([1, 3, 5, 7, 9])"
      ]
     },
     "execution_count": 65,
     "metadata": {},
     "output_type": "execute_result"
    }
   ],
   "source": [
    "numpy.arange(1,10,2)"
   ]
  },
  {
   "cell_type": "markdown",
   "id": "invisible-southeast",
   "metadata": {},
   "source": [
    "### 乱数生成\n",
    "Python標準のrandomよりも、Numpyのrandomの方が、高速で強力な乱数を生成できる  \n",
    "具体的には$N\\times M$行列を乱数で埋めるという事が出来る"
   ]
  },
  {
   "cell_type": "code",
   "execution_count": 68,
   "id": "straight-immunology",
   "metadata": {},
   "outputs": [
    {
     "data": {
      "text/plain": [
       "array([[0.40532172, 0.02859866],\n",
       "       [0.16785248, 0.66684003],\n",
       "       [0.78899653, 0.546466  ]])"
      ]
     },
     "execution_count": 68,
     "metadata": {},
     "output_type": "execute_result"
    }
   ],
   "source": [
    "# N Mをタプルで指定して、乱数で埋めた行列を生成する\n",
    "# 実行の度に異なる値が生成される\n",
    "random_array = numpy.random.random((3,2))\n",
    "random_array"
   ]
  },
  {
   "cell_type": "code",
   "execution_count": 71,
   "id": "scientific-coral",
   "metadata": {},
   "outputs": [
    {
     "data": {
      "text/plain": [
       "array([[0.5488135 , 0.71518937],\n",
       "       [0.60276338, 0.54488318],\n",
       "       [0.4236548 , 0.64589411]])"
      ]
     },
     "execution_count": 71,
     "metadata": {},
     "output_type": "execute_result"
    }
   ],
   "source": [
    "# シード値を指定すれば、生成される乱数は毎回同じになる\n",
    "numpy.random.seed(0)\n",
    "random_array = numpy.random.random((3,2))\n",
    "random_array"
   ]
  },
  {
   "cell_type": "code",
   "execution_count": 74,
   "id": "black-purpose",
   "metadata": {},
   "outputs": [
    {
     "data": {
      "text/plain": [
       "array([[0.77815675, 0.87001215],\n",
       "       [0.97861834, 0.79915856],\n",
       "       [0.46147936, 0.78052918]])"
      ]
     },
     "execution_count": 74,
     "metadata": {},
     "output_type": "execute_result"
    }
   ],
   "source": [
    "# randでも似たようなことが出来るが、引数が異なる\n",
    "random_array = numpy.random.rand(3,2)\n",
    "random_array"
   ]
  },
  {
   "cell_type": "code",
   "execution_count": 76,
   "id": "forward-patio",
   "metadata": {},
   "outputs": [
    {
     "data": {
      "text/plain": [
       "1"
      ]
     },
     "execution_count": 76,
     "metadata": {},
     "output_type": "execute_result"
    }
   ],
   "source": [
    "# 任意範囲の整数を生成することも出来る\n",
    "random_int = numpy.random.randint(1,10)\n",
    "random_int"
   ]
  },
  {
   "cell_type": "code",
   "execution_count": 78,
   "id": "roman-nickname",
   "metadata": {},
   "outputs": [
    {
     "data": {
      "text/plain": [
       "array([[8, 3, 1],\n",
       "       [1, 5, 6]])"
      ]
     },
     "execution_count": 78,
     "metadata": {},
     "output_type": "execute_result"
    }
   ],
   "source": [
    "# 任意範囲の整数で行列も作れる\n",
    "random_int_array = numpy.random.randint(1,10,(2,3))\n",
    "random_int_array"
   ]
  },
  {
   "cell_type": "code",
   "execution_count": 82,
   "id": "absolute-christian",
   "metadata": {},
   "outputs": [
    {
     "data": {
      "text/plain": [
       "array([[4.94741362, 9.89536454, 1.9184033 ],\n",
       "       [2.8798908 , 2.45178566, 6.87797493]])"
      ]
     },
     "execution_count": 82,
     "metadata": {},
     "output_type": "execute_result"
    }
   ],
   "source": [
    "# 任意範囲の小数込みで行列を作れる\n",
    "# 第一、第二引数はデフォルトでは0,1 0以上1未満\n",
    "random_float_array = numpy.random.uniform(1,10,size=(2,3))\n",
    "random_float_array"
   ]
  },
  {
   "cell_type": "markdown",
   "id": "ancient-belfast",
   "metadata": {},
   "source": [
    "上記で出てきた  \n",
    "* random\n",
    "* rand\n",
    "* randint\n",
    "* uniform\n",
    "  \n",
    "これらは、**一様分布**に従って、現れる乱数である  \n",
    "指定した範囲内のどれもが、同程度の確率で現れる乱数である  \n",
    "  \n",
    "一方で、**正規分布に従う乱数の生成も可能**である"
   ]
  },
  {
   "cell_type": "code",
   "execution_count": 84,
   "id": "posted-change",
   "metadata": {},
   "outputs": [
    {
     "data": {
      "text/plain": [
       "array([[-0.30736481, -0.36652394,  1.11971196],\n",
       "       [-0.45792242,  0.4253934 , -0.02797118]])"
      ]
     },
     "execution_count": 84,
     "metadata": {},
     "output_type": "execute_result"
    }
   ],
   "source": [
    "# randnは標準正規分布に従うN M行列を生成する\n",
    "random_array = numpy.random.randn(2,3)\n",
    "random_array"
   ]
  },
  {
   "cell_type": "code",
   "execution_count": 88,
   "id": "alive-master",
   "metadata": {},
   "outputs": [
    {
     "data": {
      "text/plain": [
       "array([[ 7.02729015, 13.05364015, 11.02476219],\n",
       "       [ 6.24734135, 12.77575226,  7.28564153]])"
      ]
     },
     "execution_count": 88,
     "metadata": {},
     "output_type": "execute_result"
    }
   ],
   "source": [
    "# normalでは、平均、標準偏差、サイズを指定して正規分布に従う乱数を生成する\n",
    "random_array = numpy.random.normal(10,3,size=(2,3))\n",
    "random_array"
   ]
  },
  {
   "cell_type": "markdown",
   "id": "brutal-stock",
   "metadata": {},
   "source": [
    "### 同じ要素の数列を作る\n",
    "例えば、初期化等で0埋めがしたいときなどに使える"
   ]
  },
  {
   "cell_type": "code",
   "execution_count": 89,
   "id": "printable-mayor",
   "metadata": {},
   "outputs": [
    {
     "name": "stdout",
     "output_type": "stream",
     "text": [
      "[0. 0. 0.]\n",
      "\n",
      "[[0. 0. 0.]\n",
      " [0. 0. 0.]]\n"
     ]
    }
   ],
   "source": [
    "# zerosで0埋めが出来る\n",
    "zero_array1 = numpy.zeros(3)\n",
    "zero_array2 = numpy.zeros((2,3))\n",
    "\n",
    "print(zero_array1)\n",
    "print()\n",
    "print(zero_array2)"
   ]
  },
  {
   "cell_type": "code",
   "execution_count": 90,
   "id": "fiscal-greensboro",
   "metadata": {},
   "outputs": [
    {
     "name": "stdout",
     "output_type": "stream",
     "text": [
      "[1. 1. 1.]\n",
      "\n",
      "[[1. 1. 1.]\n",
      " [1. 1. 1.]]\n"
     ]
    }
   ],
   "source": [
    "# onesで1埋めが出来る\n",
    "one_array1 = numpy.ones(3)\n",
    "one_array2 = numpy.ones((2,3))\n",
    "\n",
    "print(one_array1)\n",
    "print()\n",
    "print(one_array2)"
   ]
  },
  {
   "cell_type": "markdown",
   "id": "relevant-carrier",
   "metadata": {},
   "source": [
    "### 単位行列を作る\n",
    "Numpyなら簡単に単位行列を作成することが出来る"
   ]
  },
  {
   "cell_type": "code",
   "execution_count": 92,
   "id": "waiting-expansion",
   "metadata": {},
   "outputs": [
    {
     "data": {
      "text/plain": [
       "array([[1., 0., 0.],\n",
       "       [0., 1., 0.],\n",
       "       [0., 0., 1.]])"
      ]
     },
     "execution_count": 92,
     "metadata": {},
     "output_type": "execute_result"
    }
   ],
   "source": [
    "identity_matrix = numpy.eye(3)\n",
    "identity_matrix"
   ]
  },
  {
   "cell_type": "markdown",
   "id": "weird-vacuum",
   "metadata": {},
   "source": [
    "### 指定した値で埋める"
   ]
  },
  {
   "cell_type": "code",
   "execution_count": 94,
   "id": "dominant-austin",
   "metadata": {},
   "outputs": [
    {
     "data": {
      "text/plain": [
       "array([999, 999, 999])"
      ]
     },
     "execution_count": 94,
     "metadata": {},
     "output_type": "execute_result"
    }
   ],
   "source": [
    "full_array = numpy.full(3,999)\n",
    "full_array"
   ]
  },
  {
   "cell_type": "code",
   "execution_count": 95,
   "id": "brown-monkey",
   "metadata": {},
   "outputs": [
    {
     "data": {
      "text/plain": [
       "array([[999, 999, 999, 999, 999],\n",
       "       [999, 999, 999, 999, 999],\n",
       "       [999, 999, 999, 999, 999]])"
      ]
     },
     "execution_count": 95,
     "metadata": {},
     "output_type": "execute_result"
    }
   ],
   "source": [
    "full_array = numpy.full((3,5),999)\n",
    "full_array"
   ]
  },
  {
   "cell_type": "code",
   "execution_count": 97,
   "id": "split-thomas",
   "metadata": {},
   "outputs": [
    {
     "data": {
      "text/plain": [
       "array([[3.14159265, 3.14159265, 3.14159265, 3.14159265, 3.14159265],\n",
       "       [3.14159265, 3.14159265, 3.14159265, 3.14159265, 3.14159265],\n",
       "       [3.14159265, 3.14159265, 3.14159265, 3.14159265, 3.14159265]])"
      ]
     },
     "execution_count": 97,
     "metadata": {},
     "output_type": "execute_result"
    }
   ],
   "source": [
    "# ついでにNumpyが用意しているpiメンバを使って埋める\n",
    "pi_array = numpy.full((3,5),numpy.pi)\n",
    "pi_array"
   ]
  },
  {
   "cell_type": "markdown",
   "id": "medium-convertible",
   "metadata": {},
   "source": [
    "### nan\n",
    "Numpyでは欠損値を意味するものとして**nan**が用意されている  \n",
    "Not a Numberの略  \n",
    "  \n",
    "数値ではないという事を示すが、データ型としては一応floatに分類される  \n",
    "PythonのNoneや空文字が入ると行列演算ができなくなるため、とりあえずの間埋めとして、nanが用意されている"
   ]
  },
  {
   "cell_type": "code",
   "execution_count": 98,
   "id": "expensive-roberts",
   "metadata": {},
   "outputs": [
    {
     "data": {
      "text/plain": [
       "nan"
      ]
     },
     "execution_count": 98,
     "metadata": {},
     "output_type": "execute_result"
    }
   ],
   "source": [
    "numpy.nan"
   ]
  },
  {
   "cell_type": "code",
   "execution_count": 102,
   "id": "specific-migration",
   "metadata": {},
   "outputs": [
    {
     "name": "stdout",
     "output_type": "stream",
     "text": [
      "[ 1.  2. nan]\n",
      "[ 5.  7. nan]\n"
     ]
    }
   ],
   "source": [
    "# nanはfloatに分類されるため、型合わせのために他の数字もfloatになる\n",
    "include_nan = numpy.array([1,2,numpy.nan])\n",
    "print(include_nan)\n",
    "\n",
    "normal_array = numpy.array([4,5,6])\n",
    "\n",
    "print(include_nan + normal_array)"
   ]
  },
  {
   "cell_type": "markdown",
   "id": "mature-priest",
   "metadata": {},
   "source": [
    "### 範囲指定で均等割りデータを作る\n",
    "始まりと終わりと、区切りを指定して、その間を等分割する数列を作成することが出来る"
   ]
  },
  {
   "cell_type": "code",
   "execution_count": 103,
   "id": "dental-pharmacy",
   "metadata": {},
   "outputs": [
    {
     "data": {
      "text/plain": [
       "array([ 1.  ,  3.25,  5.5 ,  7.75, 10.  ])"
      ]
     },
     "execution_count": 103,
     "metadata": {},
     "output_type": "execute_result"
    }
   ],
   "source": [
    "# 1～10を5分割する\n",
    "numpy.linspace(1,10,5)"
   ]
  },
  {
   "cell_type": "code",
   "execution_count": 106,
   "id": "micro-vatican",
   "metadata": {},
   "outputs": [
    {
     "data": {
      "text/plain": [
       "array([ 1.  ,  3.25,  5.5 ,  7.75, 10.  ])"
      ]
     },
     "execution_count": 106,
     "metadata": {},
     "output_type": "execute_result"
    }
   ],
   "source": [
    "# arangeでも同様の事が出来る\n",
    "# ただし、linspaceの方が直感的\n",
    "numpy.arange(1,11,2.25)"
   ]
  },
  {
   "cell_type": "code",
   "execution_count": 107,
   "id": "standard-anaheim",
   "metadata": {},
   "outputs": [
    {
     "data": {
      "text/plain": [
       "array([0.        , 0.16534698, 0.33069396, 0.49604095, 0.66138793,\n",
       "       0.82673491, 0.99208189, 1.15742887, 1.32277585, 1.48812284,\n",
       "       1.65346982, 1.8188168 , 1.98416378, 2.14951076, 2.31485774,\n",
       "       2.48020473, 2.64555171, 2.81089869, 2.97624567, 3.14159265])"
      ]
     },
     "execution_count": 107,
     "metadata": {},
     "output_type": "execute_result"
    }
   ],
   "source": [
    "# 例えばsinグラフを描く場合の、各点を生成したいときに便利\n",
    "numpy.linspace(0,numpy.pi,20)"
   ]
  },
  {
   "cell_type": "markdown",
   "id": "innovative-earth",
   "metadata": {},
   "source": [
    "### 要素間の差分を計算する"
   ]
  },
  {
   "cell_type": "code",
   "execution_count": 108,
   "id": "signal-advance",
   "metadata": {},
   "outputs": [
    {
     "data": {
      "text/plain": [
       "array([ 0,  4, -5,  2])"
      ]
     },
     "execution_count": 108,
     "metadata": {},
     "output_type": "execute_result"
    }
   ],
   "source": [
    "# 右隣の要素との差分を算出する\n",
    "# 右側 - 左側\n",
    "array = numpy.array([2,2,6,1,3])\n",
    "numpy.diff(array)"
   ]
  },
  {
   "cell_type": "markdown",
   "id": "living-platform",
   "metadata": {},
   "source": [
    "### 連結"
   ]
  },
  {
   "cell_type": "code",
   "execution_count": 109,
   "id": "democratic-baltimore",
   "metadata": {},
   "outputs": [
    {
     "data": {
      "text/plain": [
       "array([1, 2, 3, 4, 5, 6])"
      ]
     },
     "execution_count": 109,
     "metadata": {},
     "output_type": "execute_result"
    }
   ],
   "source": [
    "array1 = numpy.array([1,2,3])\n",
    "array2 = numpy.array([4,5,6])\n",
    "\n",
    "numpy.concatenate([array1,array2])"
   ]
  },
  {
   "cell_type": "code",
   "execution_count": 110,
   "id": "legal-gauge",
   "metadata": {},
   "outputs": [
    {
     "data": {
      "text/plain": [
       "array([[1, 2, 3, 4, 5, 6],\n",
       "       [4, 5, 6, 1, 2, 3]])"
      ]
     },
     "execution_count": 110,
     "metadata": {},
     "output_type": "execute_result"
    }
   ],
   "source": [
    "array1 = numpy.array([[1,2,3],[4,5,6]])\n",
    "array2 = numpy.array([[4,5,6],[1,2,3]])\n",
    "\n",
    "# 2次元配列の場合、軸(axis)をもう一軸増やす必要がある\n",
    "numpy.concatenate([array1,array2],axis=1)"
   ]
  },
  {
   "cell_type": "code",
   "execution_count": 111,
   "id": "champion-hearing",
   "metadata": {},
   "outputs": [
    {
     "data": {
      "text/plain": [
       "array([[1, 2, 3],\n",
       "       [4, 5, 6],\n",
       "       [4, 5, 6],\n",
       "       [1, 2, 3]])"
      ]
     },
     "execution_count": 111,
     "metadata": {},
     "output_type": "execute_result"
    }
   ],
   "source": [
    "array1 = numpy.array([[1,2,3],[4,5,6]])\n",
    "array2 = numpy.array([[4,5,6],[1,2,3]])\n",
    "\n",
    "numpy.concatenate([array1,array2])"
   ]
  },
  {
   "cell_type": "code",
   "execution_count": 113,
   "id": "oriental-annotation",
   "metadata": {},
   "outputs": [
    {
     "data": {
      "text/plain": [
       "array([[1, 2, 3, 4, 5, 6],\n",
       "       [4, 5, 6, 1, 2, 3]])"
      ]
     },
     "execution_count": 113,
     "metadata": {},
     "output_type": "execute_result"
    }
   ],
   "source": [
    "array1 = numpy.array([[1,2,3],[4,5,6]])\n",
    "array2 = numpy.array([[4,5,6],[1,2,3]])\n",
    "\n",
    "# hstackで同様の事が出来る\n",
    "# h方向(横方向)に要素を追加という事\n",
    "numpy.hstack([array1,array2])"
   ]
  },
  {
   "cell_type": "code",
   "execution_count": 114,
   "id": "quiet-vault",
   "metadata": {},
   "outputs": [
    {
     "data": {
      "text/plain": [
       "array([[1, 2, 3],\n",
       "       [4, 5, 6],\n",
       "       [4, 5, 6],\n",
       "       [1, 2, 3]])"
      ]
     },
     "execution_count": 114,
     "metadata": {},
     "output_type": "execute_result"
    }
   ],
   "source": [
    "array1 = numpy.array([[1,2,3],[4,5,6]])\n",
    "array2 = numpy.array([[4,5,6],[1,2,3]])\n",
    "\n",
    "# v方向(縦方向)に要素を追加するならvstack\n",
    "numpy.vstack([array1,array2])"
   ]
  },
  {
   "cell_type": "markdown",
   "id": "altered-amplifier",
   "metadata": {},
   "source": [
    "### 分割\n",
    "n次元配列を途中で分割して、n次元配列をm個作るようなこともNumpyならできる"
   ]
  },
  {
   "cell_type": "code",
   "execution_count": 115,
   "id": "solar-links",
   "metadata": {},
   "outputs": [
    {
     "data": {
      "text/plain": [
       "[array([[1, 2],\n",
       "        [4, 5]]),\n",
       " array([[3],\n",
       "        [6]])]"
      ]
     },
     "execution_count": 115,
     "metadata": {},
     "output_type": "execute_result"
    }
   ],
   "source": [
    "array = numpy.array([[1,2,3],[4,5,6]])\n",
    "# 分割する行列と、分割線の位置をリストで渡す\n",
    "# 今回の場合、横方向(h方向)2列目で分割\n",
    "numpy.hsplit(array,[2])"
   ]
  },
  {
   "cell_type": "code",
   "execution_count": 125,
   "id": "successful-inspection",
   "metadata": {},
   "outputs": [
    {
     "data": {
      "text/plain": [
       "[array([[1],\n",
       "        [4]]),\n",
       " array([[2],\n",
       "        [5]]),\n",
       " array([[3],\n",
       "        [6]])]"
      ]
     },
     "execution_count": 125,
     "metadata": {},
     "output_type": "execute_result"
    }
   ],
   "source": [
    "array = numpy.array([[1,2,3],[4,5,6]])\n",
    "# 今回の場合、横方向(h方向)1,2列目で分割\n",
    "numpy.hsplit(array,[1,2])"
   ]
  },
  {
   "cell_type": "code",
   "execution_count": 127,
   "id": "smaller-journey",
   "metadata": {},
   "outputs": [
    {
     "data": {
      "text/plain": [
       "[array([[1, 2, 3]]),\n",
       " array([[4, 5, 6],\n",
       "        [7, 8, 9]])]"
      ]
     },
     "execution_count": 127,
     "metadata": {},
     "output_type": "execute_result"
    }
   ],
   "source": [
    "array = numpy.array([[1,2,3],[4,5,6],[7,8,9]])\n",
    "# もちろん縦分割も可能\n",
    "numpy.vsplit(array,[1])"
   ]
  },
  {
   "cell_type": "code",
   "execution_count": 128,
   "id": "nervous-slope",
   "metadata": {},
   "outputs": [
    {
     "data": {
      "text/plain": [
       "[array([[1, 2, 3]]), array([[4, 5, 6]]), array([[7, 8, 9]])]"
      ]
     },
     "execution_count": 128,
     "metadata": {},
     "output_type": "execute_result"
    }
   ],
   "source": [
    "array = numpy.array([[1,2,3],[4,5,6],[7,8,9]])\n",
    "numpy.vsplit(array,[1,2])"
   ]
  },
  {
   "cell_type": "markdown",
   "id": "composed-leone",
   "metadata": {},
   "source": [
    "### 転置\n",
    "行と列を入れ替える事を転置という"
   ]
  },
  {
   "cell_type": "code",
   "execution_count": 130,
   "id": "amino-shadow",
   "metadata": {},
   "outputs": [
    {
     "data": {
      "text/plain": [
       "array([[1, 4],\n",
       "       [2, 5],\n",
       "       [3, 6]])"
      ]
     },
     "execution_count": 130,
     "metadata": {},
     "output_type": "execute_result"
    }
   ],
   "source": [
    "array = numpy.array([[1,2,3],\n",
    "                     [4,5,6]])\n",
    "\n",
    "# Tメンバにアクセスすることで転置行列が得られる\n",
    "array.T"
   ]
  },
  {
   "cell_type": "markdown",
   "id": "alien-force",
   "metadata": {},
   "source": [
    "### 次元追加"
   ]
  },
  {
   "cell_type": "code",
   "execution_count": 132,
   "id": "prospective-reliance",
   "metadata": {},
   "outputs": [],
   "source": [
    "array = numpy.array([1,2,3])"
   ]
  },
  {
   "cell_type": "code",
   "execution_count": 133,
   "id": "temporal-kidney",
   "metadata": {},
   "outputs": [
    {
     "data": {
      "text/plain": [
       "array([[1, 2, 3]])"
      ]
     },
     "execution_count": 133,
     "metadata": {},
     "output_type": "execute_result"
    }
   ],
   "source": [
    "# 行方向に新しい次元を追加する\n",
    "array[numpy.newaxis,:]"
   ]
  },
  {
   "cell_type": "code",
   "execution_count": 134,
   "id": "primary-register",
   "metadata": {},
   "outputs": [
    {
     "data": {
      "text/plain": [
       "array([[1],\n",
       "       [2],\n",
       "       [3]])"
      ]
     },
     "execution_count": 134,
     "metadata": {},
     "output_type": "execute_result"
    }
   ],
   "source": [
    "# 列方向に新しい次元を追加する\n",
    "array[:,numpy.newaxis]"
   ]
  },
  {
   "cell_type": "markdown",
   "id": "violent-excess",
   "metadata": {},
   "source": [
    "reshapeで次元変更を行えるが、numpy.newaxisを用いる方法は、次元数の入力がいらないという点で便利"
   ]
  },
  {
   "cell_type": "markdown",
   "id": "assumed-sentence",
   "metadata": {},
   "source": [
    "### グリッドデータの生成\n",
    "meshgridメソッドは、2次元上の点に対応する等高線、ヒートマップの作製に便利"
   ]
  },
  {
   "cell_type": "code",
   "execution_count": 138,
   "id": "placed-phenomenon",
   "metadata": {},
   "outputs": [
    {
     "name": "stdout",
     "output_type": "stream",
     "text": [
      "[0 1 2 3]\n",
      "[4 5 6]\n"
     ]
    }
   ],
   "source": [
    "x = numpy.arange(0,4)\n",
    "y = numpy.arange(4,7)\n",
    "\n",
    "print(x)\n",
    "print(y)"
   ]
  },
  {
   "cell_type": "code",
   "execution_count": 139,
   "id": "standard-concept",
   "metadata": {},
   "outputs": [
    {
     "name": "stdout",
     "output_type": "stream",
     "text": [
      "[[0 1 2 3]\n",
      " [0 1 2 3]\n",
      " [0 1 2 3]]\n",
      "[[4 4 4 4]\n",
      " [5 5 5 5]\n",
      " [6 6 6 6]]\n"
     ]
    }
   ],
   "source": [
    "xx,yy = numpy.meshgrid(x,y)\n",
    "\n",
    "print(xx)\n",
    "print(yy)"
   ]
  },
  {
   "attachments": {
    "image.png": {
     "image/png": "[encoded data removed]"
    }
   },
   "cell_type": "markdown",
   "id": "specified-darkness",
   "metadata": {},
   "source": [
    "![image.png](attachment:image.png)  \n",
    "要するにこういう事を行いたい  "
   ]
  },
  {
   "cell_type": "code",
   "execution_count": null,
   "id": "pressed-narrative",
   "metadata": {},
   "outputs": [],
   "source": []
  }
 ],
 "metadata": {
  "kernelspec": {
   "display_name": "Python 3",
   "language": "python",
   "name": "python3"
  },
  "language_info": {
   "codemirror_mode": {
    "name": "ipython",
    "version": 3
   },
   "file_extension": ".py",
   "mimetype": "text/x-python",
   "name": "python",
   "nbconvert_exporter": "python",
   "pygments_lexer": "ipython3",
   "version": "3.7.4"
  }
 },
 "nbformat": 4,
 "nbformat_minor": 5
}
