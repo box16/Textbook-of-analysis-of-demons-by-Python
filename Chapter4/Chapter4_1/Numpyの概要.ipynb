{
 "cells": [
  {
   "cell_type": "markdown",
   "id": "excited-runner",
   "metadata": {},
   "source": [
    "### Numpy\n",
    "Pythonのサードパーティー製パッケージ  \n",
    "配列、行列を効率よく扱えるようになる  \n",
    "  \n",
    "配列用の型**ndarray**  \n",
    "と  \n",
    "行列用の型**matrix**  \n",
    "がある  \n",
    "  \n",
    "配列、行列内は単一の型にそろえる必要がある  \n",
    "Python標準のリストは、複数の型(整数型や文字列型)を詰め込むことが出来るが、  \n",
    "Numpyの方ではそれは出来ない  \n",
    "  \n",
    "ndarray,matrixで指定できる型はint16やfloat32などのNumpy専用の型となる  "
   ]
  }
 ],
 "metadata": {
  "kernelspec": {
   "display_name": "Python 3",
   "language": "python",
   "name": "python3"
  },
  "language_info": {
   "codemirror_mode": {
    "name": "ipython",
    "version": 3
   },
   "file_extension": ".py",
   "mimetype": "text/x-python",
   "name": "python",
   "nbconvert_exporter": "python",
   "pygments_lexer": "ipython3",
   "version": "3.7.4"
  }
 },
 "nbformat": 4,
 "nbformat_minor": 5
}
