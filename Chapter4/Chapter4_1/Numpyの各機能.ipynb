{
 "cells": [
  {
   "cell_type": "code",
   "execution_count": 1,
   "id": "personalized-literature",
   "metadata": {},
   "outputs": [
    {
     "name": "stdout",
     "output_type": "stream",
     "text": [
      "[0 1 2]\n",
      "\n",
      "[[-3 -2 -1]\n",
      " [ 0  1  2]]\n",
      "\n",
      "[[1 2 3]\n",
      " [4 5 6]]\n",
      "\n",
      "[[0 1]\n",
      " [2 3]\n",
      " [4 5]]\n",
      "\n",
      "[-1.         -0.77777778 -0.55555556 -0.33333333 -0.11111111  0.11111111\n",
      "  0.33333333  0.55555556  0.77777778  1.        ]\n",
      "\n"
     ]
    }
   ],
   "source": [
    "import numpy\n",
    "\n",
    "array1 = numpy.arange(3)\n",
    "array2 = numpy.arange(-3,3).reshape((2,3))\n",
    "array3 = numpy.arange(1,7).reshape((2,3))\n",
    "array4 = numpy.arange(6).reshape((3,2))\n",
    "array5 = numpy.linspace(-1,1,10)\n",
    "\n",
    "print(array1)\n",
    "print()\n",
    "print(array2)\n",
    "print()\n",
    "print(array3)\n",
    "print()\n",
    "print(array4)\n",
    "print()\n",
    "print(array5)\n",
    "print()"
   ]
  },
  {
   "cell_type": "markdown",
   "id": "molecular-proposition",
   "metadata": {},
   "source": [
    "# ユニバーサルファンクション\n",
    "配列要素内のデータを一括で変換するNumpy特有の便利機能  \n",
    "Python標準では、forや内包などを用いて行う操作を、メソッド呼び出しのみで済ませる事が出来る"
   ]
  },
  {
   "cell_type": "markdown",
   "id": "going-penalty",
   "metadata": {},
   "source": [
    "### 要素の絶対値を取得"
   ]
  },
  {
   "cell_type": "code",
   "execution_count": 3,
   "id": "binary-violence",
   "metadata": {},
   "outputs": [
    {
     "data": {
      "text/plain": [
       "array([[3, 2, 1],\n",
       "       [0, 1, 2]])"
      ]
     },
     "execution_count": 3,
     "metadata": {},
     "output_type": "execute_result"
    }
   ],
   "source": [
    "numpy.abs(array2)"
   ]
  },
  {
   "cell_type": "code",
   "execution_count": 4,
   "id": "polyphonic-rubber",
   "metadata": {},
   "outputs": [
    {
     "data": {
      "text/plain": [
       "array([1.        , 0.77777778, 0.55555556, 0.33333333, 0.11111111,\n",
       "       0.11111111, 0.33333333, 0.55555556, 0.77777778, 1.        ])"
      ]
     },
     "execution_count": 4,
     "metadata": {},
     "output_type": "execute_result"
    }
   ],
   "source": [
    "numpy.abs(array5)"
   ]
  },
  {
   "cell_type": "markdown",
   "id": "defensive-effect",
   "metadata": {},
   "source": [
    "### 要素の三角関数値を取得"
   ]
  },
  {
   "cell_type": "code",
   "execution_count": 5,
   "id": "disturbed-kenya",
   "metadata": {},
   "outputs": [
    {
     "data": {
      "text/plain": [
       "array([0.        , 0.84147098, 0.90929743])"
      ]
     },
     "execution_count": 5,
     "metadata": {},
     "output_type": "execute_result"
    }
   ],
   "source": [
    "numpy.sin(array1)"
   ]
  },
  {
   "cell_type": "code",
   "execution_count": 7,
   "id": "upset-thomas",
   "metadata": {},
   "outputs": [
    {
     "data": {
      "text/plain": [
       "array([[-0.9899925 , -0.41614684,  0.54030231],\n",
       "       [ 1.        ,  0.54030231, -0.41614684]])"
      ]
     },
     "execution_count": 7,
     "metadata": {},
     "output_type": "execute_result"
    }
   ],
   "source": [
    "numpy.cos(array2)"
   ]
  },
  {
   "cell_type": "code",
   "execution_count": 8,
   "id": "wanted-hudson",
   "metadata": {},
   "outputs": [
    {
     "data": {
      "text/plain": [
       "array([[ 1.55740772, -2.18503986, -0.14254654],\n",
       "       [ 1.15782128, -3.38051501, -0.29100619]])"
      ]
     },
     "execution_count": 8,
     "metadata": {},
     "output_type": "execute_result"
    }
   ],
   "source": [
    "numpy.tan(array3)"
   ]
  },
  {
   "cell_type": "markdown",
   "id": "human-reminder",
   "metadata": {},
   "source": [
    "### 要素の自然対数を取得"
   ]
  },
  {
   "cell_type": "code",
   "execution_count": 10,
   "id": "negative-somewhere",
   "metadata": {},
   "outputs": [
    {
     "data": {
      "text/plain": [
       "array([[0.        , 0.69314718, 1.09861229],\n",
       "       [1.38629436, 1.60943791, 1.79175947]])"
      ]
     },
     "execution_count": 10,
     "metadata": {},
     "output_type": "execute_result"
    }
   ],
   "source": [
    "numpy.log(array3)"
   ]
  },
  {
   "cell_type": "code",
   "execution_count": 12,
   "id": "military-nudist",
   "metadata": {},
   "outputs": [
    {
     "name": "stderr",
     "output_type": "stream",
     "text": [
      "c:\\users\\box16\\appdata\\local\\programs\\python\\python37-32\\lib\\site-packages\\ipykernel_launcher.py:2: RuntimeWarning: divide by zero encountered in log\n",
      "  \n",
      "c:\\users\\box16\\appdata\\local\\programs\\python\\python37-32\\lib\\site-packages\\ipykernel_launcher.py:2: RuntimeWarning: invalid value encountered in log\n",
      "  \n"
     ]
    },
    {
     "data": {
      "text/plain": [
       "array([[       nan,        nan,        nan],\n",
       "       [      -inf, 0.        , 0.69314718]])"
      ]
     },
     "execution_count": 12,
     "metadata": {},
     "output_type": "execute_result"
    }
   ],
   "source": [
    "# 対数関数はx>0の時のみ定義されるため、負の値や0を含むとwarningが出る\n",
    "numpy.log(array2)"
   ]
  },
  {
   "cell_type": "markdown",
   "id": "opponent-drilling",
   "metadata": {},
   "source": [
    "### 要素の常用対数を取得"
   ]
  },
  {
   "cell_type": "code",
   "execution_count": 14,
   "id": "incoming-honolulu",
   "metadata": {},
   "outputs": [
    {
     "data": {
      "text/plain": [
       "array([[0.        , 0.30103   , 0.47712125],\n",
       "       [0.60205999, 0.69897   , 0.77815125]])"
      ]
     },
     "execution_count": 14,
     "metadata": {},
     "output_type": "execute_result"
    }
   ],
   "source": [
    "numpy.log10(array3)"
   ]
  },
  {
   "cell_type": "markdown",
   "id": "appreciated-nashville",
   "metadata": {},
   "source": [
    "### 要素のexpを取得"
   ]
  },
  {
   "cell_type": "code",
   "execution_count": 15,
   "id": "danish-mainland",
   "metadata": {},
   "outputs": [
    {
     "data": {
      "text/plain": [
       "array([1.        , 2.71828183, 7.3890561 ])"
      ]
     },
     "execution_count": 15,
     "metadata": {},
     "output_type": "execute_result"
    }
   ],
   "source": [
    "numpy.exp(array1)"
   ]
  },
  {
   "cell_type": "code",
   "execution_count": 16,
   "id": "scheduled-independence",
   "metadata": {},
   "outputs": [
    {
     "data": {
      "text/plain": [
       "array([0.36787944, 0.45942582, 0.57375342, 0.71653131, 0.89483932,\n",
       "       1.11751907, 1.39561243, 1.742909  , 2.17662993, 2.71828183])"
      ]
     },
     "execution_count": 16,
     "metadata": {},
     "output_type": "execute_result"
    }
   ],
   "source": [
    "numpy.exp(array5)"
   ]
  },
  {
   "cell_type": "markdown",
   "id": "statistical-organic",
   "metadata": {},
   "source": [
    "# ブロードキャスト\n",
    "行列演算が容易に行えるシステム  "
   ]
  },
  {
   "cell_type": "code",
   "execution_count": 21,
   "id": "searching-canal",
   "metadata": {},
   "outputs": [
    {
     "name": "stdout",
     "output_type": "stream",
     "text": [
      "[0 1 2]\n"
     ]
    },
    {
     "data": {
      "text/plain": [
       "array([10, 11, 12])"
      ]
     },
     "execution_count": 21,
     "metadata": {},
     "output_type": "execute_result"
    }
   ],
   "source": [
    "print(array1)\n",
    "array1 + 10"
   ]
  },
  {
   "cell_type": "code",
   "execution_count": 22,
   "id": "extensive-pierce",
   "metadata": {},
   "outputs": [
    {
     "name": "stdout",
     "output_type": "stream",
     "text": [
      "[[-3 -2 -1]\n",
      " [ 0  1  2]]\n",
      "\n",
      "[[1 2 3]\n",
      " [4 5 6]]\n"
     ]
    },
    {
     "data": {
      "text/plain": [
       "array([[-2,  0,  2],\n",
       "       [ 4,  6,  8]])"
      ]
     },
     "execution_count": 22,
     "metadata": {},
     "output_type": "execute_result"
    }
   ],
   "source": [
    "print(array2)\n",
    "print()\n",
    "print(array3)\n",
    "array2 + array3"
   ]
  },
  {
   "cell_type": "code",
   "execution_count": 23,
   "id": "sweet-ottawa",
   "metadata": {},
   "outputs": [
    {
     "name": "stdout",
     "output_type": "stream",
     "text": [
      "[0 1 2]\n",
      "\n",
      "[[-3 -2 -1]\n",
      " [ 0  1  2]]\n"
     ]
    },
    {
     "data": {
      "text/plain": [
       "array([[-3, -1,  1],\n",
       "       [ 0,  2,  4]])"
      ]
     },
     "execution_count": 23,
     "metadata": {},
     "output_type": "execute_result"
    }
   ],
   "source": [
    "# 要素数が合わなくても計算できる\n",
    "print(array1)\n",
    "print()\n",
    "print(array2)\n",
    "array1 + array2"
   ]
  },
  {
   "cell_type": "code",
   "execution_count": 27,
   "id": "decent-proceeding",
   "metadata": {},
   "outputs": [
    {
     "name": "stdout",
     "output_type": "stream",
     "text": [
      "[[0]\n",
      " [1]\n",
      " [2]]\n",
      "\n",
      "[0 1 2]\n"
     ]
    },
    {
     "data": {
      "text/plain": [
       "array([[0, 1, 2],\n",
       "       [1, 2, 3],\n",
       "       [2, 3, 4]])"
      ]
     },
     "execution_count": 27,
     "metadata": {},
     "output_type": "execute_result"
    }
   ],
   "source": [
    "convert_array1 = array1[:,numpy.newaxis]\n",
    "print(convert_array1)\n",
    "print()\n",
    "print(array1)\n",
    "\n",
    "convert_array1 + array1"
   ]
  },
  {
   "cell_type": "code",
   "execution_count": 28,
   "id": "republican-niagara",
   "metadata": {},
   "outputs": [
    {
     "ename": "ValueError",
     "evalue": "operands could not be broadcast together with shapes (3,1) (2,3) ",
     "output_type": "error",
     "traceback": [
      "\u001b[1;31m---------------------------------------------------------------------------\u001b[0m",
      "\u001b[1;31mValueError\u001b[0m                                Traceback (most recent call last)",
      "\u001b[1;32m<ipython-input-28-371bb0e25231>\u001b[0m in \u001b[0;36m<module>\u001b[1;34m\u001b[0m\n\u001b[0;32m      1\u001b[0m \u001b[1;31m# 計算できない場合もある\u001b[0m\u001b[1;33m\u001b[0m\u001b[1;33m\u001b[0m\u001b[1;33m\u001b[0m\u001b[0m\n\u001b[1;32m----> 2\u001b[1;33m \u001b[0mconvert_array1\u001b[0m \u001b[1;33m+\u001b[0m \u001b[0marray2\u001b[0m\u001b[1;33m\u001b[0m\u001b[1;33m\u001b[0m\u001b[0m\n\u001b[0m",
      "\u001b[1;31mValueError\u001b[0m: operands could not be broadcast together with shapes (3,1) (2,3) "
     ]
    }
   ],
   "source": [
    "# 計算できない場合もある\n",
    "convert_array1 + array2"
   ]
  },
  {
   "cell_type": "code",
   "execution_count": 29,
   "id": "acute-developer",
   "metadata": {},
   "outputs": [
    {
     "data": {
      "text/plain": [
       "array([[-2.5, -1.5, -0.5],\n",
       "       [ 0.5,  1.5,  2.5]])"
      ]
     },
     "execution_count": 29,
     "metadata": {},
     "output_type": "execute_result"
    }
   ],
   "source": [
    "# 分散を求める時などに便利な、平均偏差を求める方法\n",
    "array3 - numpy.mean(array3)"
   ]
  },
  {
   "cell_type": "code",
   "execution_count": 30,
   "id": "rental-surge",
   "metadata": {},
   "outputs": [
    {
     "data": {
      "text/plain": [
       "array([[ 0,  2],\n",
       "       [ 4,  6],\n",
       "       [ 8, 10]])"
      ]
     },
     "execution_count": 30,
     "metadata": {},
     "output_type": "execute_result"
    }
   ],
   "source": [
    "array4 * 2"
   ]
  },
  {
   "cell_type": "code",
   "execution_count": 31,
   "id": "characteristic-force",
   "metadata": {},
   "outputs": [
    {
     "data": {
      "text/plain": [
       "array([1.        , 0.60493827, 0.30864198, 0.11111111, 0.01234568,\n",
       "       0.01234568, 0.11111111, 0.30864198, 0.60493827, 1.        ])"
      ]
     },
     "execution_count": 31,
     "metadata": {},
     "output_type": "execute_result"
    }
   ],
   "source": [
    "array5 ** 2"
   ]
  },
  {
   "cell_type": "code",
   "execution_count": 32,
   "id": "invalid-safety",
   "metadata": {},
   "outputs": [
    {
     "data": {
      "text/plain": [
       "array([[3, 3, 3],\n",
       "       [0, 0, 0]])"
      ]
     },
     "execution_count": 32,
     "metadata": {},
     "output_type": "execute_result"
    }
   ],
   "source": [
    "array1 - array2"
   ]
  },
  {
   "cell_type": "code",
   "execution_count": 33,
   "id": "cheap-medication",
   "metadata": {},
   "outputs": [
    {
     "data": {
      "text/plain": [
       "array([[-3, -4, -3],\n",
       "       [ 0,  5, 12]])"
      ]
     },
     "execution_count": 33,
     "metadata": {},
     "output_type": "execute_result"
    }
   ],
   "source": [
    "array2 * array3"
   ]
  },
  {
   "cell_type": "code",
   "execution_count": 35,
   "id": "small-accused",
   "metadata": {},
   "outputs": [
    {
     "data": {
      "text/plain": [
       "array([[-3.        , -1.        , -0.33333333],\n",
       "       [ 0.        ,  0.2       ,  0.33333333]])"
      ]
     },
     "execution_count": 35,
     "metadata": {},
     "output_type": "execute_result"
    }
   ],
   "source": [
    "array2 / array3"
   ]
  },
  {
   "cell_type": "markdown",
   "id": "every-phenomenon",
   "metadata": {},
   "source": [
    "### 行列の割り算で、分母側に0が入り得る時の回避テクニック\n",
    "微小な値を加算して、0ではないが、ほぼ0というように操作する"
   ]
  },
  {
   "cell_type": "code",
   "execution_count": 36,
   "id": "interim-batch",
   "metadata": {},
   "outputs": [
    {
     "name": "stderr",
     "output_type": "stream",
     "text": [
      "c:\\users\\box16\\appdata\\local\\programs\\python\\python37-32\\lib\\site-packages\\ipykernel_launcher.py:1: RuntimeWarning: divide by zero encountered in true_divide\n",
      "  \"\"\"Entry point for launching an IPython kernel.\n"
     ]
    },
    {
     "data": {
      "text/plain": [
       "array([[-0.33333333, -1.        , -3.        ],\n",
       "       [        inf,  5.        ,  3.        ]])"
      ]
     },
     "execution_count": 36,
     "metadata": {},
     "output_type": "execute_result"
    }
   ],
   "source": [
    "array3 / array2"
   ]
  },
  {
   "cell_type": "code",
   "execution_count": 37,
   "id": "convinced-dealer",
   "metadata": {},
   "outputs": [
    {
     "data": {
      "text/plain": [
       "array([[-3.33333444e-01, -1.00000050e+00, -3.00000300e+00],\n",
       "       [ 4.00000000e+06,  4.99999500e+00,  2.99999850e+00]])"
      ]
     },
     "execution_count": 37,
     "metadata": {},
     "output_type": "execute_result"
    }
   ],
   "source": [
    "array3 / (array2 + 1e-6)"
   ]
  },
  {
   "cell_type": "markdown",
   "id": "vietnamese-survey",
   "metadata": {},
   "source": [
    "0で割る以外の計算は、ほぼ同じ値になり、  \n",
    "0で割る計算は置き換えられて、かなり大きな値を算出するようになる(infを意味する)"
   ]
  },
  {
   "cell_type": "markdown",
   "id": "wicked-uruguay",
   "metadata": {},
   "source": [
    "### ドット積\n",
    "ドット積を行う方法は2つある"
   ]
  },
  {
   "cell_type": "code",
   "execution_count": 38,
   "id": "closing-blues",
   "metadata": {},
   "outputs": [
    {
     "data": {
      "text/plain": [
       "array([-4,  5])"
      ]
     },
     "execution_count": 38,
     "metadata": {},
     "output_type": "execute_result"
    }
   ],
   "source": [
    "numpy.dot(array2,array1)"
   ]
  },
  {
   "cell_type": "code",
   "execution_count": 39,
   "id": "accepted-chancellor",
   "metadata": {},
   "outputs": [
    {
     "data": {
      "text/plain": [
       "array([-4,  5])"
      ]
     },
     "execution_count": 39,
     "metadata": {},
     "output_type": "execute_result"
    }
   ],
   "source": [
    "# Python3.5以降で可能な方法\n",
    "array2 @ array1"
   ]
  },
  {
   "cell_type": "code",
   "execution_count": 40,
   "id": "engaged-fortune",
   "metadata": {},
   "outputs": [
    {
     "ename": "ValueError",
     "evalue": "matmul: Input operand 1 has a mismatch in its core dimension 0, with gufunc signature (n?,k),(k,m?)->(n?,m?) (size 2 is different from 3)",
     "output_type": "error",
     "traceback": [
      "\u001b[1;31m---------------------------------------------------------------------------\u001b[0m",
      "\u001b[1;31mValueError\u001b[0m                                Traceback (most recent call last)",
      "\u001b[1;32m<ipython-input-40-e6fcba51c43a>\u001b[0m in \u001b[0;36m<module>\u001b[1;34m\u001b[0m\n\u001b[0;32m      1\u001b[0m \u001b[1;31m# ドット積は行列演算の制約を受けるため、行列の形が重要となる\u001b[0m\u001b[1;33m\u001b[0m\u001b[1;33m\u001b[0m\u001b[1;33m\u001b[0m\u001b[0m\n\u001b[1;32m----> 2\u001b[1;33m \u001b[0marray1\u001b[0m \u001b[1;33m@\u001b[0m \u001b[0marray2\u001b[0m\u001b[1;33m\u001b[0m\u001b[1;33m\u001b[0m\u001b[0m\n\u001b[0m",
      "\u001b[1;31mValueError\u001b[0m: matmul: Input operand 1 has a mismatch in its core dimension 0, with gufunc signature (n?,k),(k,m?)->(n?,m?) (size 2 is different from 3)"
     ]
    }
   ],
   "source": [
    "# ドット積は行列演算の制約を受けるため、行列の形が重要となる\n",
    "array1 @ array2"
   ]
  },
  {
   "cell_type": "markdown",
   "id": "german-creation",
   "metadata": {},
   "source": [
    "ドット演算は  \n",
    "  \n",
    "$N\\times M \\cdot M\\times N = N\\times N$行列  \n",
    "  \n",
    "となる"
   ]
  },
  {
   "cell_type": "code",
   "execution_count": 42,
   "id": "loving-standard",
   "metadata": {},
   "outputs": [
    {
     "name": "stdout",
     "output_type": "stream",
     "text": [
      "(3,)\n",
      "(2, 3)\n",
      "(2, 3)\n",
      "(3, 2)\n",
      "(10,)\n"
     ]
    }
   ],
   "source": [
    "print(array1.shape)\n",
    "print(array2.shape)\n",
    "print(array3.shape)\n",
    "print(array4.shape)\n",
    "print(array5.shape)"
   ]
  },
  {
   "cell_type": "markdown",
   "id": "unexpected-behalf",
   "metadata": {},
   "source": [
    "この場合可能なドット積の組み合わせは  \n",
    "2-1  \n",
    "3-1  \n",
    "2-4  \n",
    "3-4  \n",
    "4-2  \n",
    "4-3"
   ]
  },
  {
   "cell_type": "code",
   "execution_count": 43,
   "id": "offensive-little",
   "metadata": {},
   "outputs": [
    {
     "data": {
      "text/plain": [
       "array([-4,  5])"
      ]
     },
     "execution_count": 43,
     "metadata": {},
     "output_type": "execute_result"
    }
   ],
   "source": [
    "array2 @ array1"
   ]
  },
  {
   "cell_type": "code",
   "execution_count": 44,
   "id": "golden-hacker",
   "metadata": {},
   "outputs": [
    {
     "data": {
      "text/plain": [
       "array([ 8, 17])"
      ]
     },
     "execution_count": 44,
     "metadata": {},
     "output_type": "execute_result"
    }
   ],
   "source": [
    "array3 @ array1"
   ]
  },
  {
   "cell_type": "code",
   "execution_count": 45,
   "id": "temporal-escape",
   "metadata": {},
   "outputs": [
    {
     "data": {
      "text/plain": [
       "array([[ -8, -14],\n",
       "       [ 10,  13]])"
      ]
     },
     "execution_count": 45,
     "metadata": {},
     "output_type": "execute_result"
    }
   ],
   "source": [
    "array2 @ array4"
   ]
  },
  {
   "cell_type": "code",
   "execution_count": 46,
   "id": "interested-account",
   "metadata": {},
   "outputs": [
    {
     "data": {
      "text/plain": [
       "array([[16, 22],\n",
       "       [34, 49]])"
      ]
     },
     "execution_count": 46,
     "metadata": {},
     "output_type": "execute_result"
    }
   ],
   "source": [
    "array3 @ array4"
   ]
  },
  {
   "cell_type": "code",
   "execution_count": 47,
   "id": "numerous-harmony",
   "metadata": {},
   "outputs": [
    {
     "data": {
      "text/plain": [
       "array([[  0,   1,   2],\n",
       "       [ -6,  -1,   4],\n",
       "       [-12,  -3,   6]])"
      ]
     },
     "execution_count": 47,
     "metadata": {},
     "output_type": "execute_result"
    }
   ],
   "source": [
    "array4 @ array2"
   ]
  },
  {
   "cell_type": "code",
   "execution_count": 48,
   "id": "commercial-pharmacology",
   "metadata": {},
   "outputs": [
    {
     "data": {
      "text/plain": [
       "array([[ 4,  5,  6],\n",
       "       [14, 19, 24],\n",
       "       [24, 33, 42]])"
      ]
     },
     "execution_count": 48,
     "metadata": {},
     "output_type": "execute_result"
    }
   ],
   "source": [
    "array4 @ array3"
   ]
  },
  {
   "cell_type": "markdown",
   "id": "inappropriate-running",
   "metadata": {},
   "source": [
    "### 判定・論理値\n",
    "配列とスカラーを演算子で比較すると、それぞれの要素との結果が、行列の形で返ってくる"
   ]
  },
  {
   "cell_type": "code",
   "execution_count": 49,
   "id": "extra-infrared",
   "metadata": {},
   "outputs": [
    {
     "data": {
      "text/plain": [
       "array([False, False,  True])"
      ]
     },
     "execution_count": 49,
     "metadata": {},
     "output_type": "execute_result"
    }
   ],
   "source": [
    "array1 > 1"
   ]
  },
  {
   "cell_type": "code",
   "execution_count": 51,
   "id": "metropolitan-public",
   "metadata": {},
   "outputs": [
    {
     "data": {
      "text/plain": [
       "array([[False, False, False],\n",
       "       [False, False,  True]])"
      ]
     },
     "execution_count": 51,
     "metadata": {},
     "output_type": "execute_result"
    }
   ],
   "source": [
    "array2 > 1"
   ]
  },
  {
   "cell_type": "code",
   "execution_count": 53,
   "id": "unlike-genealogy",
   "metadata": {},
   "outputs": [
    {
     "name": "stdout",
     "output_type": "stream",
     "text": [
      "[[1 2 3]\n",
      " [4 5 6]]\n"
     ]
    },
    {
     "data": {
      "text/plain": [
       "array([[False,  True, False],\n",
       "       [ True, False,  True]])"
      ]
     },
     "execution_count": 53,
     "metadata": {},
     "output_type": "execute_result"
    }
   ],
   "source": [
    "print(array3)\n",
    "array3 % 2 == 0"
   ]
  },
  {
   "cell_type": "code",
   "execution_count": 54,
   "id": "delayed-chess",
   "metadata": {},
   "outputs": [
    {
     "data": {
      "text/plain": [
       "3"
      ]
     },
     "execution_count": 54,
     "metadata": {},
     "output_type": "execute_result"
    }
   ],
   "source": [
    "# nonzeroを用いる事でtrueの数を数えることも出来る\n",
    "numpy.count_nonzero(array3 % 2 == 0)"
   ]
  },
  {
   "cell_type": "code",
   "execution_count": 55,
   "id": "continuous-prototype",
   "metadata": {},
   "outputs": [
    {
     "data": {
      "text/plain": [
       "3"
      ]
     },
     "execution_count": 55,
     "metadata": {},
     "output_type": "execute_result"
    }
   ],
   "source": [
    "# もしくはFalse=0 True=1であるため、全要素の足し算でも同じ結果が得られる\n",
    "numpy.sum(array3 % 2 == 0)"
   ]
  },
  {
   "cell_type": "code",
   "execution_count": 56,
   "id": "fabulous-bolivia",
   "metadata": {},
   "outputs": [
    {
     "data": {
      "text/plain": [
       "True"
      ]
     },
     "execution_count": 56,
     "metadata": {},
     "output_type": "execute_result"
    }
   ],
   "source": [
    "# 判定結果に一つでもTrueがあるか\n",
    "numpy.any(array3 % 2 == 0)"
   ]
  },
  {
   "cell_type": "code",
   "execution_count": 57,
   "id": "encouraging-citation",
   "metadata": {},
   "outputs": [
    {
     "data": {
      "text/plain": [
       "False"
      ]
     },
     "execution_count": 57,
     "metadata": {},
     "output_type": "execute_result"
    }
   ],
   "source": [
    "# 判定結果が全てTrueであるか\n",
    "numpy.all(array3 % 2 == 0)"
   ]
  },
  {
   "cell_type": "code",
   "execution_count": 58,
   "id": "through-trauma",
   "metadata": {},
   "outputs": [
    {
     "data": {
      "text/plain": [
       "array([2, 4, 6])"
      ]
     },
     "execution_count": 58,
     "metadata": {},
     "output_type": "execute_result"
    }
   ],
   "source": [
    "# リスト内包のように、条件に一致するものだけで行列を構成する\n",
    "array3[array3 % 2 == 0]"
   ]
  },
  {
   "cell_type": "code",
   "execution_count": 60,
   "id": "applied-victory",
   "metadata": {},
   "outputs": [
    {
     "data": {
      "text/plain": [
       "array([[False, False, False],\n",
       "       [False, False, False]])"
      ]
     },
     "execution_count": 60,
     "metadata": {},
     "output_type": "execute_result"
    }
   ],
   "source": [
    "# 行列同士の比較\n",
    "# 形がそろっていないと行えない演算\n",
    "array2 == array3"
   ]
  },
  {
   "cell_type": "code",
   "execution_count": 62,
   "id": "confident-memphis",
   "metadata": {},
   "outputs": [
    {
     "data": {
      "text/plain": [
       "array([[False, False, False],\n",
       "       [ True,  True,  True]])"
      ]
     },
     "execution_count": 62,
     "metadata": {},
     "output_type": "execute_result"
    }
   ],
   "source": [
    "array1 == array2"
   ]
  },
  {
   "cell_type": "code",
   "execution_count": 64,
   "id": "after-public",
   "metadata": {},
   "outputs": [
    {
     "name": "stdout",
     "output_type": "stream",
     "text": [
      "[[False False False]\n",
      " [False False False]]\n",
      "\n",
      "[[False False False]\n",
      " [ True  True  True]]\n",
      "\n",
      "[[False False False]\n",
      " [ True  True  True]]\n"
     ]
    }
   ],
   "source": [
    "print((array2 == array3))\n",
    "print()\n",
    "print((array1 == array2))\n",
    "print()\n",
    "print((array2 == array3) | (array1 == array2))"
   ]
  },
  {
   "cell_type": "code",
   "execution_count": 65,
   "id": "heated-finder",
   "metadata": {},
   "outputs": [
    {
     "data": {
      "text/plain": [
       "array([0, 1, 2])"
      ]
     },
     "execution_count": 65,
     "metadata": {},
     "output_type": "execute_result"
    }
   ],
   "source": [
    "array2[(array2 == array3) | (array1 == array2)]"
   ]
  },
  {
   "cell_type": "markdown",
   "id": "experimental-provision",
   "metadata": {},
   "source": [
    "allcloseを用いれば、指定した誤差の範囲内か(close=近いか)を判定できる"
   ]
  },
  {
   "cell_type": "code",
   "execution_count": 66,
   "id": "complimentary-consumer",
   "metadata": {},
   "outputs": [
    {
     "data": {
      "text/plain": [
       "False"
      ]
     },
     "execution_count": 66,
     "metadata": {},
     "output_type": "execute_result"
    }
   ],
   "source": [
    "numpy.allclose(array2,array3)"
   ]
  },
  {
   "cell_type": "code",
   "execution_count": 67,
   "id": "fancy-canberra",
   "metadata": {},
   "outputs": [
    {
     "data": {
      "text/plain": [
       "True"
      ]
     },
     "execution_count": 67,
     "metadata": {},
     "output_type": "execute_result"
    }
   ],
   "source": [
    "# atolで誤差範囲を指定できる\n",
    "numpy.allclose(array2,array3,atol=10)"
   ]
  },
  {
   "cell_type": "markdown",
   "id": "incident-sleep",
   "metadata": {},
   "source": [
    "# Numpyの関数とメソッド"
   ]
  },
  {
   "cell_type": "code",
   "execution_count": 69,
   "id": "wound-pension",
   "metadata": {},
   "outputs": [
    {
     "data": {
      "text/plain": [
       "-3"
      ]
     },
     "execution_count": 69,
     "metadata": {},
     "output_type": "execute_result"
    }
   ],
   "source": [
    "# 要素の合計値を求める\n",
    "numpy.sum(array2)"
   ]
  },
  {
   "cell_type": "code",
   "execution_count": 72,
   "id": "vietnamese-barcelona",
   "metadata": {},
   "outputs": [
    {
     "name": "stdout",
     "output_type": "stream",
     "text": [
      "[[-3 -2 -1]\n",
      " [ 0  1  2]]\n",
      "\n",
      "[[-2.5 -1.5 -0.5]\n",
      " [ 0.5  1.5  2.5]]\n",
      "\n",
      "[[6.25 2.25 0.25]\n",
      " [0.25 2.25 6.25]]\n",
      "\n",
      "17.5\n",
      "\n"
     ]
    }
   ],
   "source": [
    "# データ\n",
    "print(array2)\n",
    "print()\n",
    "# 平均偏差\n",
    "print(array2 - numpy.mean(array2))\n",
    "print()\n",
    "# 平均偏差平方\n",
    "print((array2 - numpy.mean(array2))**2)\n",
    "print()\n",
    "# 平均偏差平方和\n",
    "print(numpy.sum((array2 - numpy.mean(array2))**2))\n",
    "print()"
   ]
  },
  {
   "cell_type": "code",
   "execution_count": 73,
   "id": "waiting-individual",
   "metadata": {},
   "outputs": [
    {
     "data": {
      "text/plain": [
       "-3"
      ]
     },
     "execution_count": 73,
     "metadata": {},
     "output_type": "execute_result"
    }
   ],
   "source": [
    "#sumには二つ方法がある\n",
    "numpy.sum(array2)"
   ]
  },
  {
   "cell_type": "code",
   "execution_count": 74,
   "id": "answering-retail",
   "metadata": {},
   "outputs": [
    {
     "data": {
      "text/plain": [
       "-3"
      ]
     },
     "execution_count": 74,
     "metadata": {},
     "output_type": "execute_result"
    }
   ],
   "source": [
    "array2.sum()"
   ]
  },
  {
   "cell_type": "code",
   "execution_count": null,
   "id": "reserved-samoa",
   "metadata": {},
   "outputs": [],
   "source": []
  }
 ],
 "metadata": {
  "kernelspec": {
   "display_name": "Python 3",
   "language": "python",
   "name": "python3"
  },
  "language_info": {
   "codemirror_mode": {
    "name": "ipython",
    "version": 3
   },
   "file_extension": ".py",
   "mimetype": "text/x-python",
   "name": "python",
   "nbconvert_exporter": "python",
   "pygments_lexer": "ipython3",
   "version": "3.7.4"
  }
 },
 "nbformat": 4,
 "nbformat_minor": 5
}
