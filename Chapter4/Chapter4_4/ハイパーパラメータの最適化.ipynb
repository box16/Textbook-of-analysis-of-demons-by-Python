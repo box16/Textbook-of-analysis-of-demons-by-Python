{
 "cells": [
  {
   "cell_type": "markdown",
   "id": "finite-macintosh",
   "metadata": {},
   "source": [
    "### ハイパーパラメータとは\n",
    "機械学習のアルゴリズムは**ハイパーパラメータ**と呼ばれるものがある  \n",
    "これは、**学習の時に決まる値ではなく、ユーザが指定するパラメータの事**  \n",
    "  \n",
    "例えば、ランダムフォレストにおける、決定木の数、  \n",
    "決定木における深さ  \n",
    "これらは、ハイパーパラメータの一例である  \n",
    "  \n",
    "人が指定する値であるため、不適切である可能性も十分ある  \n",
    "そこで、ハイパーパラメータをどのように決定させるのかという方法の一つに**グリッドサーチ**というものがある  \n",
    "  \n",
    "### グリッドサーチ\n",
    "ハイパーパラメータをいくつか用意しておき、それぞれで学習を行い、結果を評価する  \n",
    "最も良い結果が得られたものを選択するという方法  \n",
    "  \n",
    "単純は単純な方法  \n",
    "  \n",
    "グリッドサーチは何回も学習を行うという点で**公差検証と相性が良い**  \n",
    "N個のハイパーパラメータに対して、M回交差検証を行う場合  \n",
    "$N\\times M$回の学習が行われる "
   ]
  },
  {
   "cell_type": "code",
   "execution_count": 2,
   "id": "known-tuition",
   "metadata": {},
   "outputs": [
    {
     "data": {
      "text/plain": [
       "GridSearchCV(cv=10, estimator=DecisionTreeClassifier(),\n",
       "             param_grid={'max_depth': [3, 4, 5]})"
      ]
     },
     "execution_count": 2,
     "metadata": {},
     "output_type": "execute_result"
    }
   ],
   "source": [
    "from sklearn.datasets import load_iris\n",
    "from sklearn.model_selection import GridSearchCV\n",
    "from sklearn.tree import DecisionTreeClassifier\n",
    "from sklearn.model_selection import train_test_split\n",
    "\n",
    "iris = load_iris()\n",
    "data_set = iris.data\n",
    "label = iris.target\n",
    "\n",
    "train_data,test_data,train_label,test_label = train_test_split(data_set,label,test_size=0.3)\n",
    "\n",
    "# 決定木をインスタンス化\n",
    "decision_tree = DecisionTreeClassifier()\n",
    "\n",
    "# ハイパーパラメータの候補を羅列\n",
    "param_grid = {\"max_depth\":[3,4,5]}\n",
    "\n",
    "# 10分割の交差検証を実行\n",
    "cross_validation = GridSearchCV(decision_tree,param_grid=param_grid,cv=10)\n",
    "cross_validation.fit(train_data,train_label)"
   ]
  },
  {
   "cell_type": "code",
   "execution_count": 3,
   "id": "polish-coffee",
   "metadata": {},
   "outputs": [
    {
     "data": {
      "text/plain": [
       "{'max_depth': 4}"
      ]
     },
     "execution_count": 3,
     "metadata": {},
     "output_type": "execute_result"
    }
   ],
   "source": [
    "# ハイパーパラメータ候補の中で最適なものを確認する\n",
    "cross_validation.best_params_"
   ]
  },
  {
   "cell_type": "code",
   "execution_count": 4,
   "id": "handled-worry",
   "metadata": {},
   "outputs": [
    {
     "data": {
      "text/plain": [
       "DecisionTreeClassifier(max_depth=4)"
      ]
     },
     "execution_count": 4,
     "metadata": {},
     "output_type": "execute_result"
    }
   ],
   "source": [
    "# 最適なモデルを確認する\n",
    "cross_validation.best_estimator_"
   ]
  },
  {
   "cell_type": "code",
   "execution_count": 5,
   "id": "reflected-consumption",
   "metadata": {},
   "outputs": [
    {
     "data": {
      "text/plain": [
       "array([0, 0, 0, 2, 0, 2, 0, 1, 1, 0, 1, 2, 2, 2, 2, 1, 2, 0, 0, 0, 0, 2,\n",
       "       2, 2, 2, 1, 0, 2, 2, 0, 0, 0, 0, 0, 1, 1, 0, 1, 0, 0, 2, 1, 1, 2,\n",
       "       1])"
      ]
     },
     "execution_count": 5,
     "metadata": {},
     "output_type": "execute_result"
    }
   ],
   "source": [
    "# グリッドサーチによって生成されたものの内、最適なものが自動で使われる\n",
    "predict_label = cross_validation.predict(test_data)\n",
    "predict_label"
   ]
  },
  {
   "cell_type": "code",
   "execution_count": 9,
   "id": "mathematical-walnut",
   "metadata": {},
   "outputs": [
    {
     "name": "stdout",
     "output_type": "stream",
     "text": [
      "45\n",
      "45\n",
      "0.9555555555555556\n"
     ]
    }
   ],
   "source": [
    "import numpy\n",
    "print(len(test_label))\n",
    "print(len(predict_label))\n",
    "print(numpy.sum(test_label == predict_label)/len(test_label))"
   ]
  },
  {
   "cell_type": "code",
   "execution_count": null,
   "id": "promotional-palmer",
   "metadata": {},
   "outputs": [],
   "source": []
  }
 ],
 "metadata": {
  "kernelspec": {
   "display_name": "Python 3",
   "language": "python",
   "name": "python3"
  },
  "language_info": {
   "codemirror_mode": {
    "name": "ipython",
    "version": 3
   },
   "file_extension": ".py",
   "mimetype": "text/x-python",
   "name": "python",
   "nbconvert_exporter": "python",
   "pygments_lexer": "ipython3",
   "version": "3.7.4"
  }
 },
 "nbformat": 4,
 "nbformat_minor": 5
}
