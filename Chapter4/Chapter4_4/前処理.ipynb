{
 "cells": [
  {
   "cell_type": "markdown",
   "id": "looking-parade",
   "metadata": {},
   "source": [
    "機械学習のアルゴリズムを用いるより先に、データの特性を理解して前処理を行う事がかなり重要  \n",
    "データサイエンティストの仕事の8～9割はデータ前処理であるとも言われている  \n",
    "  \n",
    "主な作業としては  \n",
    "* 欠損値への対応\n",
    "* カテゴリ変数のエンコード\n",
    "* 特徴量の正規化\n",
    "  \n",
    "データの前処理を行う方法として、pandasをある程度使ったが、ここからはscikit-learnを用いる  \n",
    "  \n",
    "scikit-learnを用いるメリットは  \n",
    "* fit , transform メソッドが使える\n",
    "* scikit-learn全体で統一的なインターフェースである\n",
    "  \n",
    "というところ  \n",
    "  \n",
    "scikit-learnはpythonで機械学習を行う際のデファクトスタンダードとなっている"
   ]
  },
  {
   "cell_type": "markdown",
   "id": "cognitive-jimmy",
   "metadata": {},
   "source": [
    "### 欠損値への対応\n",
    "欠損値は、測定器の不具合、通信機の不具合で発生することが多い。  \n",
    "実際の業務の中で欠損値は必ず遭遇し、その量は膨大。  \n",
    "欠損値があると、今後の学習や統計処理に悪影響を及ぼすため対応が必要  \n",
    "  \n",
    "主な対応方法としては次の通り  \n",
    "* 欠損値を除去する\n",
    "* 欠損値を補完する\n"
   ]
  },
  {
   "cell_type": "code",
   "execution_count": 1,
   "id": "existing-evidence",
   "metadata": {},
   "outputs": [
    {
     "data": {
      "text/html": [
       "<div>\n",
       "<style scoped>\n",
       "    .dataframe tbody tr th:only-of-type {\n",
       "        vertical-align: middle;\n",
       "    }\n",
       "\n",
       "    .dataframe tbody tr th {\n",
       "        vertical-align: top;\n",
       "    }\n",
       "\n",
       "    .dataframe thead th {\n",
       "        text-align: right;\n",
       "    }\n",
       "</style>\n",
       "<table border=\"1\" class=\"dataframe\">\n",
       "  <thead>\n",
       "    <tr style=\"text-align: right;\">\n",
       "      <th></th>\n",
       "      <th>A</th>\n",
       "      <th>B</th>\n",
       "      <th>C</th>\n",
       "    </tr>\n",
       "  </thead>\n",
       "  <tbody>\n",
       "    <tr>\n",
       "      <th>0</th>\n",
       "      <td>1.0</td>\n",
       "      <td>6.0</td>\n",
       "      <td>11</td>\n",
       "    </tr>\n",
       "    <tr>\n",
       "      <th>1</th>\n",
       "      <td>NaN</td>\n",
       "      <td>7.0</td>\n",
       "      <td>12</td>\n",
       "    </tr>\n",
       "    <tr>\n",
       "      <th>2</th>\n",
       "      <td>3.0</td>\n",
       "      <td>8.0</td>\n",
       "      <td>13</td>\n",
       "    </tr>\n",
       "    <tr>\n",
       "      <th>3</th>\n",
       "      <td>4.0</td>\n",
       "      <td>NaN</td>\n",
       "      <td>14</td>\n",
       "    </tr>\n",
       "    <tr>\n",
       "      <th>4</th>\n",
       "      <td>5.0</td>\n",
       "      <td>10.0</td>\n",
       "      <td>15</td>\n",
       "    </tr>\n",
       "  </tbody>\n",
       "</table>\n",
       "</div>"
      ],
      "text/plain": [
       "     A     B   C\n",
       "0  1.0   6.0  11\n",
       "1  NaN   7.0  12\n",
       "2  3.0   8.0  13\n",
       "3  4.0   NaN  14\n",
       "4  5.0  10.0  15"
      ]
     },
     "execution_count": 1,
     "metadata": {},
     "output_type": "execute_result"
    }
   ],
   "source": [
    "import numpy\n",
    "import pandas\n",
    "\n",
    "# サンプルデータセットの作成\n",
    "data_frame = pandas.DataFrame({\"A\":[1,numpy.nan,3,4,5],\n",
    "                               \"B\":[6,7,8,numpy.nan,10],\n",
    "                               \"C\":[11,12,13,14,15],})\n",
    "\n",
    "data_frame"
   ]
  },
  {
   "cell_type": "markdown",
   "id": "concrete-discharge",
   "metadata": {},
   "source": [
    "### 欠損値の除去"
   ]
  },
  {
   "cell_type": "code",
   "execution_count": 2,
   "id": "applied-chest",
   "metadata": {},
   "outputs": [
    {
     "data": {
      "text/html": [
       "<div>\n",
       "<style scoped>\n",
       "    .dataframe tbody tr th:only-of-type {\n",
       "        vertical-align: middle;\n",
       "    }\n",
       "\n",
       "    .dataframe tbody tr th {\n",
       "        vertical-align: top;\n",
       "    }\n",
       "\n",
       "    .dataframe thead th {\n",
       "        text-align: right;\n",
       "    }\n",
       "</style>\n",
       "<table border=\"1\" class=\"dataframe\">\n",
       "  <thead>\n",
       "    <tr style=\"text-align: right;\">\n",
       "      <th></th>\n",
       "      <th>A</th>\n",
       "      <th>B</th>\n",
       "      <th>C</th>\n",
       "    </tr>\n",
       "  </thead>\n",
       "  <tbody>\n",
       "    <tr>\n",
       "      <th>0</th>\n",
       "      <td>False</td>\n",
       "      <td>False</td>\n",
       "      <td>False</td>\n",
       "    </tr>\n",
       "    <tr>\n",
       "      <th>1</th>\n",
       "      <td>True</td>\n",
       "      <td>False</td>\n",
       "      <td>False</td>\n",
       "    </tr>\n",
       "    <tr>\n",
       "      <th>2</th>\n",
       "      <td>False</td>\n",
       "      <td>False</td>\n",
       "      <td>False</td>\n",
       "    </tr>\n",
       "    <tr>\n",
       "      <th>3</th>\n",
       "      <td>False</td>\n",
       "      <td>True</td>\n",
       "      <td>False</td>\n",
       "    </tr>\n",
       "    <tr>\n",
       "      <th>4</th>\n",
       "      <td>False</td>\n",
       "      <td>False</td>\n",
       "      <td>False</td>\n",
       "    </tr>\n",
       "  </tbody>\n",
       "</table>\n",
       "</div>"
      ],
      "text/plain": [
       "       A      B      C\n",
       "0  False  False  False\n",
       "1   True  False  False\n",
       "2  False  False  False\n",
       "3  False   True  False\n",
       "4  False  False  False"
      ]
     },
     "execution_count": 2,
     "metadata": {},
     "output_type": "execute_result"
    }
   ],
   "source": [
    "# 要素に欠損値があるかを調べる\n",
    "data_frame.isnull()"
   ]
  },
  {
   "cell_type": "markdown",
   "id": "modified-burke",
   "metadata": {},
   "source": [
    "isnullを用いると、欠損値がどこにあるのかが分かる  \n",
    "もしこれで欠損値を除去したいのであれば、次のようにできる"
   ]
  },
  {
   "cell_type": "code",
   "execution_count": 4,
   "id": "threatened-citizenship",
   "metadata": {},
   "outputs": [
    {
     "data": {
      "text/html": [
       "<div>\n",
       "<style scoped>\n",
       "    .dataframe tbody tr th:only-of-type {\n",
       "        vertical-align: middle;\n",
       "    }\n",
       "\n",
       "    .dataframe tbody tr th {\n",
       "        vertical-align: top;\n",
       "    }\n",
       "\n",
       "    .dataframe thead th {\n",
       "        text-align: right;\n",
       "    }\n",
       "</style>\n",
       "<table border=\"1\" class=\"dataframe\">\n",
       "  <thead>\n",
       "    <tr style=\"text-align: right;\">\n",
       "      <th></th>\n",
       "      <th>A</th>\n",
       "      <th>B</th>\n",
       "      <th>C</th>\n",
       "    </tr>\n",
       "  </thead>\n",
       "  <tbody>\n",
       "    <tr>\n",
       "      <th>0</th>\n",
       "      <td>1.0</td>\n",
       "      <td>6.0</td>\n",
       "      <td>11</td>\n",
       "    </tr>\n",
       "    <tr>\n",
       "      <th>2</th>\n",
       "      <td>3.0</td>\n",
       "      <td>8.0</td>\n",
       "      <td>13</td>\n",
       "    </tr>\n",
       "    <tr>\n",
       "      <th>4</th>\n",
       "      <td>5.0</td>\n",
       "      <td>10.0</td>\n",
       "      <td>15</td>\n",
       "    </tr>\n",
       "  </tbody>\n",
       "</table>\n",
       "</div>"
      ],
      "text/plain": [
       "     A     B   C\n",
       "0  1.0   6.0  11\n",
       "2  3.0   8.0  13\n",
       "4  5.0  10.0  15"
      ]
     },
     "execution_count": 4,
     "metadata": {},
     "output_type": "execute_result"
    }
   ],
   "source": [
    "drop_nan = data_frame.dropna()\n",
    "drop_nan"
   ]
  },
  {
   "cell_type": "markdown",
   "id": "suburban-tanzania",
   "metadata": {},
   "source": [
    "### 欠損値の補完  \n",
    "欠損値を他の妥当な値で補うという方法もある  \n",
    "pandasではfillnaメソッドでこれを行うことが出来る  \n",
    "もう一つ、scikit-learnのpreprocessingを用いる方法もある"
   ]
  },
  {
   "cell_type": "code",
   "execution_count": 7,
   "id": "authorized-ensemble",
   "metadata": {},
   "outputs": [
    {
     "data": {
      "text/plain": [
       "array([[ 1.  ,  6.  , 11.  ],\n",
       "       [ 3.25,  7.  , 12.  ],\n",
       "       [ 3.  ,  8.  , 13.  ],\n",
       "       [ 4.  ,  7.75, 14.  ],\n",
       "       [ 5.  , 10.  , 15.  ]])"
      ]
     },
     "execution_count": 7,
     "metadata": {},
     "output_type": "execute_result"
    }
   ],
   "source": [
    "from sklearn.impute import SimpleImputer\n",
    "\n",
    "# strategyにmeanを指定することで、平均値による補完を行えるインスタンスを作成する\n",
    "imputer = SimpleImputer(strategy=\"mean\")\n",
    "\n",
    "# 欠損値の補完\n",
    "imputer.fit(data_frame)\n",
    "\n",
    "# 返り値はNumpyの配列になっているところに注意する\n",
    "imputer.transform(data_frame)"
   ]
  },
  {
   "cell_type": "markdown",
   "id": "assumed-copper",
   "metadata": {},
   "source": [
    "# 注意\n",
    "教科書で用いられているImputerはもうサポートされていないらしい  \n",
    "使い方も少し違う  \n",
    "https://qiita.com/yumarule/items/19c81e16c136676a8573"
   ]
  },
  {
   "cell_type": "markdown",
   "id": "mental-muslim",
   "metadata": {},
   "source": [
    "### SimpleImputerの使い方  \n",
    "\n",
    "|引数|説明|\n",
    "|:---:|:---:|\n",
    "|strategy|欠損値の補完方法 mean , median , most_frequent のいずれかを指定できる|"
   ]
  },
  {
   "cell_type": "markdown",
   "id": "distant-class",
   "metadata": {},
   "source": [
    "### カテゴリ変数のエンコーディング\n",
    "カテゴリ変数とは、数値ではないもの扱っている変数である  \n",
    "例えば  \n",
    "テストの選択肢 A,B,Cのいずれかを選んでいる  \n",
    "みたいな割り当てを行っている変数の事"
   ]
  },
  {
   "cell_type": "code",
   "execution_count": 12,
   "id": "healthy-vancouver",
   "metadata": {},
   "outputs": [
    {
     "data": {
      "text/html": [
       "<div>\n",
       "<style scoped>\n",
       "    .dataframe tbody tr th:only-of-type {\n",
       "        vertical-align: middle;\n",
       "    }\n",
       "\n",
       "    .dataframe tbody tr th {\n",
       "        vertical-align: top;\n",
       "    }\n",
       "\n",
       "    .dataframe thead th {\n",
       "        text-align: right;\n",
       "    }\n",
       "</style>\n",
       "<table border=\"1\" class=\"dataframe\">\n",
       "  <thead>\n",
       "    <tr style=\"text-align: right;\">\n",
       "      <th></th>\n",
       "      <th>A</th>\n",
       "      <th>B</th>\n",
       "    </tr>\n",
       "  </thead>\n",
       "  <tbody>\n",
       "    <tr>\n",
       "      <th>0</th>\n",
       "      <td>1</td>\n",
       "      <td>a</td>\n",
       "    </tr>\n",
       "    <tr>\n",
       "      <th>1</th>\n",
       "      <td>2</td>\n",
       "      <td>a</td>\n",
       "    </tr>\n",
       "    <tr>\n",
       "      <th>2</th>\n",
       "      <td>3</td>\n",
       "      <td>c</td>\n",
       "    </tr>\n",
       "    <tr>\n",
       "      <th>3</th>\n",
       "      <td>4</td>\n",
       "      <td>b</td>\n",
       "    </tr>\n",
       "    <tr>\n",
       "      <th>4</th>\n",
       "      <td>5</td>\n",
       "      <td>e</td>\n",
       "    </tr>\n",
       "    <tr>\n",
       "      <th>5</th>\n",
       "      <td>6</td>\n",
       "      <td>c</td>\n",
       "    </tr>\n",
       "  </tbody>\n",
       "</table>\n",
       "</div>"
      ],
      "text/plain": [
       "   A  B\n",
       "0  1  a\n",
       "1  2  a\n",
       "2  3  c\n",
       "3  4  b\n",
       "4  5  e\n",
       "5  6  c"
      ]
     },
     "execution_count": 12,
     "metadata": {},
     "output_type": "execute_result"
    }
   ],
   "source": [
    "category = pandas.DataFrame({\"A\":[1,2,3,4,5,6],\n",
    "                             \"B\":[\"a\",\"a\",\"c\",\"b\",\"e\",\"c\"],})\n",
    "category"
   ]
  },
  {
   "cell_type": "markdown",
   "id": "reduced-palestinian",
   "metadata": {},
   "source": [
    "こういったカテゴリ変数を数値に変換する方法には主に2つある  \n",
    "* カテゴリ変数のエンコーディング  \n",
    "* One-hotエンコーディング"
   ]
  },
  {
   "cell_type": "markdown",
   "id": "radical-excerpt",
   "metadata": {},
   "source": [
    "### カテゴリ変数のエンコーディング\n",
    "a -> 0  \n",
    "b -> 1  \n",
    "c -> 2  \n",
    "みたいに数字を割り当てる事"
   ]
  },
  {
   "cell_type": "code",
   "execution_count": 13,
   "id": "handled-company",
   "metadata": {},
   "outputs": [
    {
     "data": {
      "text/plain": [
       "array([0, 0, 2, 1, 3, 2])"
      ]
     },
     "execution_count": 13,
     "metadata": {},
     "output_type": "execute_result"
    }
   ],
   "source": [
    "from sklearn.preprocessing import LabelEncoder\n",
    "label_encoder = LabelEncoder()\n",
    "\n",
    "label_encoder.fit(category[\"B\"])\n",
    "\n",
    "label_encoder.transform(category[\"B\"])"
   ]
  },
  {
   "cell_type": "code",
   "execution_count": 14,
   "id": "green-realtor",
   "metadata": {},
   "outputs": [
    {
     "data": {
      "text/plain": [
       "array(['a', 'b', 'c', 'e'], dtype=object)"
      ]
     },
     "execution_count": 14,
     "metadata": {},
     "output_type": "execute_result"
    }
   ],
   "source": [
    "# 変換される前の値を確認する\n",
    "label_encoder.classes_"
   ]
  },
  {
   "cell_type": "markdown",
   "id": "respected-field",
   "metadata": {},
   "source": [
    "### one-hotエンコーディング\n",
    "カテゴリの種類数分、列を増やし、該当する列に1をそれ以外に0を割り当てるエンコード  \n",
    "機械学習分野ではよく用いられる方法  \n",
    "one-hotエンコーディングは**ダミー化**とも呼ばれ、エンコードされた値の事を**ダミー変数**とも呼ぶ  \n",
    "  \n",
    "one-hotエンコーディングに関しては、scikit-learn,pandasどちらでも対応できるが、  \n",
    "pandasの方が見通しが良い"
   ]
  },
  {
   "cell_type": "code",
   "execution_count": 25,
   "id": "overall-definition",
   "metadata": {},
   "outputs": [
    {
     "data": {
      "text/plain": [
       "array([[1., 0., 0., 0., 1.],\n",
       "       [1., 0., 0., 0., 2.],\n",
       "       [0., 0., 1., 0., 3.],\n",
       "       [0., 1., 0., 0., 4.],\n",
       "       [0., 0., 0., 1., 5.],\n",
       "       [0., 0., 1., 0., 6.]])"
      ]
     },
     "execution_count": 25,
     "metadata": {},
     "output_type": "execute_result"
    }
   ],
   "source": [
    "from sklearn.preprocessing import LabelEncoder, OneHotEncoder\n",
    "from sklearn.compose import ColumnTransformer\n",
    "\n",
    "label_encoder = LabelEncoder()\n",
    "one_hot_encoder = ColumnTransformer([(\"one-hot-encoding\", OneHotEncoder(),\n",
    "                         [1])], remainder='passthrough')\n",
    "\n",
    "category_copy = category.copy()\n",
    "\n",
    "category_copy[\"B\"] = label_encoder.fit_transform(category_copy[\"B\"])\n",
    "one_hot_encoder.fit_transform(category_copy)"
   ]
  },
  {
   "cell_type": "markdown",
   "id": "stuffed-journey",
   "metadata": {},
   "source": [
    "# 注意\n",
    "OneHotEncoderの方も仕様がだいぶ変わっている  \n",
    "https://network-beginner.xyz/onehotencoder_categorical_features_typeerror"
   ]
  },
  {
   "cell_type": "markdown",
   "id": "presidential-tucson",
   "metadata": {},
   "source": [
    "one-hotエンコーディングを行うと、疎行列が生成される  \n",
    "(多くの成分が0である行列。反対に多くの成分が何かしらの値であるものを密行列という。)  "
   ]
  },
  {
   "cell_type": "markdown",
   "id": "composite-discharge",
   "metadata": {},
   "source": [
    "### 特徴量の正規化\n",
    "ある一つの行列内に、2ケタの数値と4ケタの数値が混合しているとする  \n",
    "この時、行列演算を行うと4ケタの数値の影響力が大きすぎて他のデータが軽視されかねない  \n",
    "  \n",
    "これを防ぐために、**特徴量の正規化**というものがある  \n",
    "数値間の大小関係は変えずに、1ケタサイズに数値変換するような処理である  \n",
    "  \n",
    "これには主に二つの方法がある  \n",
    "* 分散正規化(標準化)\n",
    "* 最小最大正規化\n"
   ]
  },
  {
   "cell_type": "markdown",
   "id": "million-alberta",
   "metadata": {},
   "source": [
    "### 分散正規化(標準化)\n",
    "  \n",
    "$x' = \\frac{x-\\mu}{\\sigma}$  \n",
    "$\\mu$は平均  \n",
    "$\\sigma$は標準偏差である  \n",
    "  \n",
    "それぞれのデータを上記のような式にかけて、変換を行うと、  \n",
    "平均0,分散1のデータに変換される"
   ]
  },
  {
   "cell_type": "code",
   "execution_count": 26,
   "id": "egyptian-inflation",
   "metadata": {},
   "outputs": [
    {
     "data": {
      "text/html": [
       "<div>\n",
       "<style scoped>\n",
       "    .dataframe tbody tr th:only-of-type {\n",
       "        vertical-align: middle;\n",
       "    }\n",
       "\n",
       "    .dataframe tbody tr th {\n",
       "        vertical-align: top;\n",
       "    }\n",
       "\n",
       "    .dataframe thead th {\n",
       "        text-align: right;\n",
       "    }\n",
       "</style>\n",
       "<table border=\"1\" class=\"dataframe\">\n",
       "  <thead>\n",
       "    <tr style=\"text-align: right;\">\n",
       "      <th></th>\n",
       "      <th>A</th>\n",
       "      <th>b</th>\n",
       "    </tr>\n",
       "  </thead>\n",
       "  <tbody>\n",
       "    <tr>\n",
       "      <th>0</th>\n",
       "      <td>1</td>\n",
       "      <td>100</td>\n",
       "    </tr>\n",
       "    <tr>\n",
       "      <th>1</th>\n",
       "      <td>2</td>\n",
       "      <td>200</td>\n",
       "    </tr>\n",
       "    <tr>\n",
       "      <th>2</th>\n",
       "      <td>3</td>\n",
       "      <td>500</td>\n",
       "    </tr>\n",
       "    <tr>\n",
       "      <th>3</th>\n",
       "      <td>4</td>\n",
       "      <td>800</td>\n",
       "    </tr>\n",
       "    <tr>\n",
       "      <th>4</th>\n",
       "      <td>5</td>\n",
       "      <td>1000</td>\n",
       "    </tr>\n",
       "  </tbody>\n",
       "</table>\n",
       "</div>"
      ],
      "text/plain": [
       "   A     b\n",
       "0  1   100\n",
       "1  2   200\n",
       "2  3   500\n",
       "3  4   800\n",
       "4  5  1000"
      ]
     },
     "execution_count": 26,
     "metadata": {},
     "output_type": "execute_result"
    }
   ],
   "source": [
    "data_frame = pandas.DataFrame({\"A\":[1,2,3,4,5],\n",
    "                               \"b\":[100,200,500,800,1000],})\n",
    "data_frame"
   ]
  },
  {
   "cell_type": "code",
   "execution_count": 28,
   "id": "front-corpus",
   "metadata": {},
   "outputs": [
    {
     "data": {
      "text/plain": [
       "array([[-1.41421356, -1.22474487],\n",
       "       [-0.70710678, -0.93313895],\n",
       "       [ 0.        , -0.05832118],\n",
       "       [ 0.70710678,  0.81649658],\n",
       "       [ 1.41421356,  1.39970842]])"
      ]
     },
     "execution_count": 28,
     "metadata": {},
     "output_type": "execute_result"
    }
   ],
   "source": [
    "from sklearn.preprocessing import StandardScaler\n",
    "\n",
    "# scikit-learnを用いれば3行で標準化が可能となる\n",
    "std_scaler = StandardScaler()\n",
    "std_scaler.fit(data_frame)\n",
    "std_scaler.transform(data_frame)"
   ]
  },
  {
   "cell_type": "markdown",
   "id": "cutting-aberdeen",
   "metadata": {},
   "source": [
    "### 最小最大正規化\n",
    "  \n",
    "$x' = \\frac{x-x_{min}}{x_{max}-x_{min}}$\n",
    "  \n",
    "$x_{min}$はデータ中の最小値  \n",
    "$x_{max}$はデータ中の最大値である  \n",
    "  \n",
    "これを行うことで、  \n",
    "1～0の間で正規化される  "
   ]
  },
  {
   "cell_type": "code",
   "execution_count": 29,
   "id": "broadband-warehouse",
   "metadata": {},
   "outputs": [
    {
     "data": {
      "text/plain": [
       "array([[0.        , 0.        ],\n",
       "       [0.25      , 0.11111111],\n",
       "       [0.5       , 0.44444444],\n",
       "       [0.75      , 0.77777778],\n",
       "       [1.        , 1.        ]])"
      ]
     },
     "execution_count": 29,
     "metadata": {},
     "output_type": "execute_result"
    }
   ],
   "source": [
    "from sklearn.preprocessing import MinMaxScaler\n",
    "\n",
    "# scikit-learnを用いれば3行で標準化が可能となる\n",
    "mm_scaler = MinMaxScaler()\n",
    "mm_scaler.fit(data_frame)\n",
    "mm_scaler.transform(data_frame)"
   ]
  },
  {
   "cell_type": "code",
   "execution_count": null,
   "id": "early-listing",
   "metadata": {},
   "outputs": [],
   "source": []
  }
 ],
 "metadata": {
  "kernelspec": {
   "display_name": "Python 3",
   "language": "python",
   "name": "python3"
  },
  "language_info": {
   "codemirror_mode": {
    "name": "ipython",
    "version": 3
   },
   "file_extension": ".py",
   "mimetype": "text/x-python",
   "name": "python",
   "nbconvert_exporter": "python",
   "pygments_lexer": "ipython3",
   "version": "3.7.4"
  }
 },
 "nbformat": 4,
 "nbformat_minor": 5
}
