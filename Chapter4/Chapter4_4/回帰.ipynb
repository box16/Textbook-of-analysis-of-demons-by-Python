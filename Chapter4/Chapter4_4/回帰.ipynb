{
 "cells": [
  {
   "cell_type": "markdown",
   "id": "binding-smooth",
   "metadata": {},
   "source": [
    "### 回帰とは\n",
    "  \n",
    "回帰は**目的変数** を **説明変数(機械学習分野では特徴量)** で説明するタスク  \n",
    "  \n",
    "例えば、数学のテストの点数(目的変数)を自宅学習の時間(説明変数)で説明する  \n",
    "というようなタスク  \n",
    "  \n",
    "これによって、自宅学習の時間から、数学のテストを推定するというような事が可能になる  \n",
    "(あくまで、数字上の話)  \n",
    "  \n",
    "回帰には複数パターンがあるが、最も単純な**線形回帰**は次の式で一般化できる  \n",
    "  \n",
    "$ y = a_0 + \\Sigma_{i=1}^n a_ix_i$  \n",
    "  \n",
    "$a_0$は切片、バイアス  \n",
    "$a_i$が回帰係数、$x_i$が説明変数  \n",
    "$y$が目的変数  \n",
    "となる  \n",
    "  \n",
    "線形と呼ばれる理由は、それぞれの説明変数が1次式の和(直線の和)となるからである  \n",
    "説明変数が1つの時(n=1)、**単回帰**  \n",
    "説明変数が2つ以上の時、**重回帰**  \n",
    "と呼ばれる"
   ]
  },
  {
   "cell_type": "markdown",
   "id": "basic-blair",
   "metadata": {},
   "source": [
    "scikit-learnで線形回帰を行ってみる  \n",
    "また、用いるデータセットはBostonとする  \n",
    "  \n",
    "Bostonは米国ボストンの住宅の価格と14個の説明変数が記録されている  \n",
    "  \n",
    "つまり、ボストンの住宅の価格を目的変数とし、それを14個のデータを用いて説明するという事になる"
   ]
  },
  {
   "cell_type": "code",
   "execution_count": 3,
   "id": "hearing-socket",
   "metadata": {},
   "outputs": [
    {
     "data": {
      "text/plain": [
       "LinearRegression()"
      ]
     },
     "execution_count": 3,
     "metadata": {},
     "output_type": "execute_result"
    }
   ],
   "source": [
    "from sklearn.linear_model import LinearRegression\n",
    "from sklearn.datasets import load_boston\n",
    "from sklearn.model_selection import train_test_split\n",
    "\n",
    "boston = load_boston()\n",
    "data_set = boston.data\n",
    "label = boston.target\n",
    "\n",
    "train_data,test_data,train_label,test_label = train_test_split(data_set,label,test_size=0.3)\n",
    "\n",
    "linear_regression = LinearRegression()\n",
    "linear_regression.fit(train_data,train_label)"
   ]
  },
  {
   "cell_type": "code",
   "execution_count": 5,
   "id": "sacred-feeling",
   "metadata": {},
   "outputs": [
    {
     "data": {
      "text/plain": [
       "array([21.14139354, 21.07676528, 24.69547308, 24.10760257, 25.40471581,\n",
       "       37.7317833 , 31.02296239, 23.93790949, 21.71218961, 25.98508046,\n",
       "       14.5627082 , 11.91456409, 17.22607378, 30.75715218, 23.19661799,\n",
       "       23.10542431, 13.86635031, 24.64386242,  8.79544753, 12.15920288,\n",
       "       13.64134405, 24.89237697, 18.88118237, 28.19060945, 22.12237224,\n",
       "       11.11622653, 36.34998156, 30.5252502 , 34.33815072, 32.26487703,\n",
       "       24.77998628, 16.95501589, 28.13938001, 24.22573368, 17.02335444,\n",
       "       20.65036652,  8.22292007, 25.64879475,  5.94281828, 40.10676854,\n",
       "       19.68220704,  3.78133577, 17.84636231, 20.59486994, 18.94103458,\n",
       "       30.54451382, 16.73175994, 24.90893767, 12.2666309 , 10.17550228,\n",
       "       43.0969049 , 11.58272504, 13.91448151, 44.34767025, 23.06523563,\n",
       "       31.1619725 , 27.83748009, 15.92542375, 24.3826725 , 20.98310652,\n",
       "       19.03952523, 19.40330233, 25.64714829, 25.28289924, 18.01791746,\n",
       "       22.33221659, 24.97742999, 32.93043143, 23.40061508, 32.95483363,\n",
       "       18.20701947, 21.15857487, 15.86068956, 20.66705544, 24.15147831,\n",
       "       22.83202358, 13.9085777 ,  2.6924551 , 21.22440885, 24.56194191,\n",
       "       20.77802764, 14.36537466, 34.08750818, 35.52226758, 19.35132999,\n",
       "       20.48045333, 29.44693523, 32.81920813,  5.67477449, 17.13052684,\n",
       "       17.05438606, 27.16452509, 24.38402153, 30.45141378, 27.47752456,\n",
       "       23.5635859 , 31.15295128, 26.6713469 , 35.79680881,  5.74498796,\n",
       "       28.85944317, 19.0808183 , 25.86544368, 22.24901531, 13.72642687,\n",
       "       23.10994861, 16.90291819, 19.77828727, 18.16692203, 27.53903872,\n",
       "       41.46483294, 38.58036741, 17.098577  , 18.33156197,  5.33020152,\n",
       "       13.06139704,  5.62104609, 20.087721  , 25.11969387, 31.42567736,\n",
       "       24.76191376, 24.79331984, 34.65538028, 40.24962722, 29.13181813,\n",
       "       21.53738616, 32.44769   , 17.14543343,  8.93963779, 24.02634456,\n",
       "       26.97852949, 15.35175655, 27.4092935 , 22.93001081, 19.98461542,\n",
       "       22.83206858, 16.88301108, 16.42836217, 17.32085009, 20.34757401,\n",
       "       22.82751802, 16.88256618, 19.84694729, 17.80325391, 35.24820929,\n",
       "       21.28859558, 16.95539256, 21.75300307, 28.71099723, 23.71309506,\n",
       "       11.72951799, 16.8684908 ])"
      ]
     },
     "execution_count": 5,
     "metadata": {},
     "output_type": "execute_result"
    }
   ],
   "source": [
    "label_predict = linear_regression.predict(test_data)\n",
    "label_predict"
   ]
  },
  {
   "cell_type": "code",
   "execution_count": 6,
   "id": "valued-listening",
   "metadata": {},
   "outputs": [
    {
     "data": {
      "image/png": "[encoded data removed]",
      "text/plain": [
       "<Figure size 432x288 with 1 Axes>"
      ]
     },
     "metadata": {
      "needs_background": "light"
     },
     "output_type": "display_data"
    }
   ],
   "source": [
    "import matplotlib.pyplot as pyplot\n",
    "\n",
    "canvas,sub_plots = pyplot.subplots()\n",
    "\n",
    "# 予測値と、実測値で散布図を描く y=x の形が理想\n",
    "sub_plots.scatter(label_predict,test_label)\n",
    "sub_plots.plot((0,50),(0,50),linestyle=\"dashed\",color=\"red\")\n",
    "sub_plots.set_xlabel(\"predict\")\n",
    "sub_plots.set_ylabel(\"actual\")\n",
    "pyplot.show()"
   ]
  },
  {
   "cell_type": "markdown",
   "id": "infectious-watch",
   "metadata": {},
   "source": [
    "大体上手くいっていることが分かる"
   ]
  },
  {
   "cell_type": "code",
   "execution_count": null,
   "id": "basic-washington",
   "metadata": {},
   "outputs": [],
   "source": []
  }
 ],
 "metadata": {
  "kernelspec": {
   "display_name": "Python 3",
   "language": "python",
   "name": "python3"
  },
  "language_info": {
   "codemirror_mode": {
    "name": "ipython",
    "version": 3
   },
   "file_extension": ".py",
   "mimetype": "text/x-python",
   "name": "python",
   "nbconvert_exporter": "python",
   "pygments_lexer": "ipython3",
   "version": "3.7.4"
  }
 },
 "nbformat": 4,
 "nbformat_minor": 5
}
