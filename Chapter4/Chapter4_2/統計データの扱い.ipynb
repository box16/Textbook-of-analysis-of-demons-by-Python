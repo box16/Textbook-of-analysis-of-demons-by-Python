{
 "cells": [
  {
   "cell_type": "code",
   "execution_count": 1,
   "id": "interpreted-wilson",
   "metadata": {},
   "outputs": [],
   "source": [
    "import pandas\n",
    "import numpy"
   ]
  },
  {
   "cell_type": "code",
   "execution_count": 2,
   "id": "desirable-notification",
   "metadata": {},
   "outputs": [
    {
     "data": {
      "text/html": [
       "<div>\n",
       "<style scoped>\n",
       "    .dataframe tbody tr th:only-of-type {\n",
       "        vertical-align: middle;\n",
       "    }\n",
       "\n",
       "    .dataframe tbody tr th {\n",
       "        vertical-align: top;\n",
       "    }\n",
       "\n",
       "    .dataframe thead th {\n",
       "        text-align: right;\n",
       "    }\n",
       "</style>\n",
       "<table border=\"1\" class=\"dataframe\">\n",
       "  <thead>\n",
       "    <tr style=\"text-align: right;\">\n",
       "      <th></th>\n",
       "      <th>歩数</th>\n",
       "      <th>摂取カロリー</th>\n",
       "      <th>歩数/カロリー</th>\n",
       "      <th>運動指数</th>\n",
       "    </tr>\n",
       "    <tr>\n",
       "      <th>date</th>\n",
       "      <th></th>\n",
       "      <th></th>\n",
       "      <th></th>\n",
       "      <th></th>\n",
       "    </tr>\n",
       "  </thead>\n",
       "  <tbody>\n",
       "    <tr>\n",
       "      <th>2017-04-01</th>\n",
       "      <td>5439</td>\n",
       "      <td>2500.0</td>\n",
       "      <td>2.175600</td>\n",
       "      <td>Low</td>\n",
       "    </tr>\n",
       "    <tr>\n",
       "      <th>2017-04-02</th>\n",
       "      <td>2510</td>\n",
       "      <td>2300.0</td>\n",
       "      <td>1.091304</td>\n",
       "      <td>Low</td>\n",
       "    </tr>\n",
       "    <tr>\n",
       "      <th>2017-04-03</th>\n",
       "      <td>10238</td>\n",
       "      <td>1950.0</td>\n",
       "      <td>5.250256</td>\n",
       "      <td>Middle</td>\n",
       "    </tr>\n",
       "    <tr>\n",
       "      <th>2017-04-04</th>\n",
       "      <td>8209</td>\n",
       "      <td>1850.0</td>\n",
       "      <td>4.437297</td>\n",
       "      <td>Middle</td>\n",
       "    </tr>\n",
       "    <tr>\n",
       "      <th>2017-04-05</th>\n",
       "      <td>9434</td>\n",
       "      <td>1930.0</td>\n",
       "      <td>4.888083</td>\n",
       "      <td>Middle</td>\n",
       "    </tr>\n",
       "    <tr>\n",
       "      <th>2017-04-06</th>\n",
       "      <td>7593</td>\n",
       "      <td>1800.0</td>\n",
       "      <td>4.218333</td>\n",
       "      <td>Middle</td>\n",
       "    </tr>\n",
       "    <tr>\n",
       "      <th>2017-04-07</th>\n",
       "      <td>9320</td>\n",
       "      <td>1940.0</td>\n",
       "      <td>4.804124</td>\n",
       "      <td>Middle</td>\n",
       "    </tr>\n",
       "    <tr>\n",
       "      <th>2017-04-08</th>\n",
       "      <td>4873</td>\n",
       "      <td>2300.0</td>\n",
       "      <td>2.118696</td>\n",
       "      <td>Low</td>\n",
       "    </tr>\n",
       "    <tr>\n",
       "      <th>2017-04-09</th>\n",
       "      <td>12045</td>\n",
       "      <td>1950.0</td>\n",
       "      <td>6.176923</td>\n",
       "      <td>High</td>\n",
       "    </tr>\n",
       "    <tr>\n",
       "      <th>2017-04-10</th>\n",
       "      <td>7493</td>\n",
       "      <td>1850.0</td>\n",
       "      <td>4.050270</td>\n",
       "      <td>Middle</td>\n",
       "    </tr>\n",
       "    <tr>\n",
       "      <th>2017-04-11</th>\n",
       "      <td>7289</td>\n",
       "      <td>1930.0</td>\n",
       "      <td>3.776684</td>\n",
       "      <td>Middle</td>\n",
       "    </tr>\n",
       "    <tr>\n",
       "      <th>2017-04-12</th>\n",
       "      <td>6481</td>\n",
       "      <td>2300.0</td>\n",
       "      <td>2.817826</td>\n",
       "      <td>Low</td>\n",
       "    </tr>\n",
       "    <tr>\n",
       "      <th>2017-04-13</th>\n",
       "      <td>10287</td>\n",
       "      <td>1800.0</td>\n",
       "      <td>5.715000</td>\n",
       "      <td>Middle</td>\n",
       "    </tr>\n",
       "    <tr>\n",
       "      <th>2017-04-14</th>\n",
       "      <td>8043</td>\n",
       "      <td>1940.0</td>\n",
       "      <td>4.145876</td>\n",
       "      <td>Middle</td>\n",
       "    </tr>\n",
       "    <tr>\n",
       "      <th>2017-04-15</th>\n",
       "      <td>7435</td>\n",
       "      <td>2300.0</td>\n",
       "      <td>3.232609</td>\n",
       "      <td>Middle</td>\n",
       "    </tr>\n",
       "    <tr>\n",
       "      <th>2017-04-16</th>\n",
       "      <td>7529</td>\n",
       "      <td>2300.0</td>\n",
       "      <td>3.273478</td>\n",
       "      <td>Middle</td>\n",
       "    </tr>\n",
       "    <tr>\n",
       "      <th>2017-04-17</th>\n",
       "      <td>8031</td>\n",
       "      <td>1940.0</td>\n",
       "      <td>4.139691</td>\n",
       "      <td>Middle</td>\n",
       "    </tr>\n",
       "    <tr>\n",
       "      <th>2017-04-18</th>\n",
       "      <td>8475</td>\n",
       "      <td>2300.0</td>\n",
       "      <td>3.684783</td>\n",
       "      <td>Middle</td>\n",
       "    </tr>\n",
       "    <tr>\n",
       "      <th>2017-04-19</th>\n",
       "      <td>8132</td>\n",
       "      <td>1950.0</td>\n",
       "      <td>4.170256</td>\n",
       "      <td>Middle</td>\n",
       "    </tr>\n",
       "    <tr>\n",
       "      <th>2017-04-20</th>\n",
       "      <td>15328</td>\n",
       "      <td>1800.0</td>\n",
       "      <td>8.515556</td>\n",
       "      <td>High</td>\n",
       "    </tr>\n",
       "    <tr>\n",
       "      <th>2017-04-21</th>\n",
       "      <td>12849</td>\n",
       "      <td>1940.0</td>\n",
       "      <td>6.623196</td>\n",
       "      <td>High</td>\n",
       "    </tr>\n",
       "    <tr>\n",
       "      <th>2017-04-22</th>\n",
       "      <td>4029</td>\n",
       "      <td>2300.0</td>\n",
       "      <td>1.751739</td>\n",
       "      <td>Low</td>\n",
       "    </tr>\n",
       "    <tr>\n",
       "      <th>2017-04-23</th>\n",
       "      <td>3890</td>\n",
       "      <td>1950.0</td>\n",
       "      <td>1.994872</td>\n",
       "      <td>Low</td>\n",
       "    </tr>\n",
       "    <tr>\n",
       "      <th>2017-04-24</th>\n",
       "      <td>8093</td>\n",
       "      <td>1850.0</td>\n",
       "      <td>4.374595</td>\n",
       "      <td>Middle</td>\n",
       "    </tr>\n",
       "    <tr>\n",
       "      <th>2017-04-25</th>\n",
       "      <td>7823</td>\n",
       "      <td>1950.0</td>\n",
       "      <td>4.011795</td>\n",
       "      <td>Middle</td>\n",
       "    </tr>\n",
       "    <tr>\n",
       "      <th>2017-04-26</th>\n",
       "      <td>7492</td>\n",
       "      <td>1850.0</td>\n",
       "      <td>4.049730</td>\n",
       "      <td>Middle</td>\n",
       "    </tr>\n",
       "    <tr>\n",
       "      <th>2017-04-27</th>\n",
       "      <td>7203</td>\n",
       "      <td>1930.0</td>\n",
       "      <td>3.732124</td>\n",
       "      <td>Middle</td>\n",
       "    </tr>\n",
       "    <tr>\n",
       "      <th>2017-04-28</th>\n",
       "      <td>7302</td>\n",
       "      <td>1850.0</td>\n",
       "      <td>3.947027</td>\n",
       "      <td>Middle</td>\n",
       "    </tr>\n",
       "    <tr>\n",
       "      <th>2017-04-29</th>\n",
       "      <td>6033</td>\n",
       "      <td>2300.0</td>\n",
       "      <td>2.623043</td>\n",
       "      <td>Low</td>\n",
       "    </tr>\n",
       "    <tr>\n",
       "      <th>2017-04-30</th>\n",
       "      <td>4093</td>\n",
       "      <td>1950.0</td>\n",
       "      <td>2.098974</td>\n",
       "      <td>Low</td>\n",
       "    </tr>\n",
       "  </tbody>\n",
       "</table>\n",
       "</div>"
      ],
      "text/plain": [
       "               歩数  摂取カロリー   歩数/カロリー    運動指数\n",
       "date                                       \n",
       "2017-04-01   5439  2500.0  2.175600     Low\n",
       "2017-04-02   2510  2300.0  1.091304     Low\n",
       "2017-04-03  10238  1950.0  5.250256  Middle\n",
       "2017-04-04   8209  1850.0  4.437297  Middle\n",
       "2017-04-05   9434  1930.0  4.888083  Middle\n",
       "2017-04-06   7593  1800.0  4.218333  Middle\n",
       "2017-04-07   9320  1940.0  4.804124  Middle\n",
       "2017-04-08   4873  2300.0  2.118696     Low\n",
       "2017-04-09  12045  1950.0  6.176923    High\n",
       "2017-04-10   7493  1850.0  4.050270  Middle\n",
       "2017-04-11   7289  1930.0  3.776684  Middle\n",
       "2017-04-12   6481  2300.0  2.817826     Low\n",
       "2017-04-13  10287  1800.0  5.715000  Middle\n",
       "2017-04-14   8043  1940.0  4.145876  Middle\n",
       "2017-04-15   7435  2300.0  3.232609  Middle\n",
       "2017-04-16   7529  2300.0  3.273478  Middle\n",
       "2017-04-17   8031  1940.0  4.139691  Middle\n",
       "2017-04-18   8475  2300.0  3.684783  Middle\n",
       "2017-04-19   8132  1950.0  4.170256  Middle\n",
       "2017-04-20  15328  1800.0  8.515556    High\n",
       "2017-04-21  12849  1940.0  6.623196    High\n",
       "2017-04-22   4029  2300.0  1.751739     Low\n",
       "2017-04-23   3890  1950.0  1.994872     Low\n",
       "2017-04-24   8093  1850.0  4.374595  Middle\n",
       "2017-04-25   7823  1950.0  4.011795  Middle\n",
       "2017-04-26   7492  1850.0  4.049730  Middle\n",
       "2017-04-27   7203  1930.0  3.732124  Middle\n",
       "2017-04-28   7302  1850.0  3.947027  Middle\n",
       "2017-04-29   6033  2300.0  2.623043     Low\n",
       "2017-04-30   4093  1950.0  2.098974     Low"
      ]
     },
     "execution_count": 2,
     "metadata": {},
     "output_type": "execute_result"
    }
   ],
   "source": [
    "health = pandas.read_pickle(\"health_data_20210327.pickle\")\n",
    "health"
   ]
  },
  {
   "cell_type": "markdown",
   "id": "mounted-robertson",
   "metadata": {},
   "source": [
    "### 基本統計量をそれぞれ算出する"
   ]
  },
  {
   "cell_type": "code",
   "execution_count": 3,
   "id": "literary-mexico",
   "metadata": {},
   "outputs": [
    {
     "data": {
      "text/plain": [
       "2500.0"
      ]
     },
     "execution_count": 3,
     "metadata": {},
     "output_type": "execute_result"
    }
   ],
   "source": [
    "# 最大値\n",
    "health.loc[:,\"摂取カロリー\"].max()"
   ]
  },
  {
   "cell_type": "code",
   "execution_count": 4,
   "id": "supreme-wagon",
   "metadata": {},
   "outputs": [
    {
     "data": {
      "text/plain": [
       "1800.0"
      ]
     },
     "execution_count": 4,
     "metadata": {},
     "output_type": "execute_result"
    }
   ],
   "source": [
    "# 最小値\n",
    "health.loc[:,\"摂取カロリー\"].min()"
   ]
  },
  {
   "cell_type": "code",
   "execution_count": 5,
   "id": "swiss-format",
   "metadata": {},
   "outputs": [
    {
     "data": {
      "text/plain": [
       "0    2300.0\n",
       "dtype: float32"
      ]
     },
     "execution_count": 5,
     "metadata": {},
     "output_type": "execute_result"
    }
   ],
   "source": [
    "# 最頻値\n",
    "health.loc[:,\"摂取カロリー\"].mode()"
   ]
  },
  {
   "cell_type": "code",
   "execution_count": 6,
   "id": "united-lloyd",
   "metadata": {},
   "outputs": [
    {
     "data": {
      "text/plain": [
       "2026.6666"
      ]
     },
     "execution_count": 6,
     "metadata": {},
     "output_type": "execute_result"
    }
   ],
   "source": [
    "# 平均値\n",
    "health.loc[:,\"摂取カロリー\"].mean()"
   ]
  },
  {
   "cell_type": "code",
   "execution_count": 7,
   "id": "institutional-monkey",
   "metadata": {},
   "outputs": [
    {
     "data": {
      "text/plain": [
       "1945.0"
      ]
     },
     "execution_count": 7,
     "metadata": {},
     "output_type": "execute_result"
    }
   ],
   "source": [
    "# 中央値\n",
    "health.loc[:,\"摂取カロリー\"].median()"
   ]
  },
  {
   "cell_type": "code",
   "execution_count": 8,
   "id": "velvet-james",
   "metadata": {},
   "outputs": [
    {
     "data": {
      "text/plain": [
       "205.54944"
      ]
     },
     "execution_count": 8,
     "metadata": {},
     "output_type": "execute_result"
    }
   ],
   "source": [
    "# 標本標準偏差\n",
    "health.loc[:,\"摂取カロリー\"].std()"
   ]
  },
  {
   "cell_type": "code",
   "execution_count": 9,
   "id": "fifth-cotton",
   "metadata": {},
   "outputs": [
    {
     "data": {
      "text/plain": [
       "202.09459"
      ]
     },
     "execution_count": 9,
     "metadata": {},
     "output_type": "execute_result"
    }
   ],
   "source": [
    "# 母標準偏差\n",
    "# ddof=0で母標準偏差、ddof=1(default)で標本標準偏差\n",
    "health.loc[:,\"摂取カロリー\"].std(ddof=0)"
   ]
  },
  {
   "cell_type": "code",
   "execution_count": 10,
   "id": "statewide-asset",
   "metadata": {},
   "outputs": [
    {
     "data": {
      "text/plain": [
       "30"
      ]
     },
     "execution_count": 10,
     "metadata": {},
     "output_type": "execute_result"
    }
   ],
   "source": [
    "# 項目数\n",
    "health.loc[:,\"摂取カロリー\"].count()"
   ]
  },
  {
   "cell_type": "code",
   "execution_count": 11,
   "id": "severe-circle",
   "metadata": {},
   "outputs": [
    {
     "data": {
      "text/plain": [
       "歩数         9\n",
       "摂取カロリー     9\n",
       "歩数/カロリー    9\n",
       "運動指数       9\n",
       "dtype: int64"
      ]
     },
     "execution_count": 11,
     "metadata": {},
     "output_type": "execute_result"
    }
   ],
   "source": [
    "health[health.loc[:,\"摂取カロリー\"]>=health.loc[:,\"摂取カロリー\"].mean()].count()"
   ]
  },
  {
   "cell_type": "markdown",
   "id": "freelance-salvation",
   "metadata": {},
   "source": [
    "### 要約"
   ]
  },
  {
   "cell_type": "code",
   "execution_count": 12,
   "id": "french-sport",
   "metadata": {},
   "outputs": [
    {
     "data": {
      "text/html": [
       "<div>\n",
       "<style scoped>\n",
       "    .dataframe tbody tr th:only-of-type {\n",
       "        vertical-align: middle;\n",
       "    }\n",
       "\n",
       "    .dataframe tbody tr th {\n",
       "        vertical-align: top;\n",
       "    }\n",
       "\n",
       "    .dataframe thead th {\n",
       "        text-align: right;\n",
       "    }\n",
       "</style>\n",
       "<table border=\"1\" class=\"dataframe\">\n",
       "  <thead>\n",
       "    <tr style=\"text-align: right;\">\n",
       "      <th></th>\n",
       "      <th>歩数</th>\n",
       "      <th>摂取カロリー</th>\n",
       "      <th>歩数/カロリー</th>\n",
       "    </tr>\n",
       "  </thead>\n",
       "  <tbody>\n",
       "    <tr>\n",
       "      <th>count</th>\n",
       "      <td>30.000000</td>\n",
       "      <td>30.000000</td>\n",
       "      <td>30.000000</td>\n",
       "    </tr>\n",
       "    <tr>\n",
       "      <th>mean</th>\n",
       "      <td>7766.366667</td>\n",
       "      <td>2026.666626</td>\n",
       "      <td>3.929658</td>\n",
       "    </tr>\n",
       "    <tr>\n",
       "      <th>std</th>\n",
       "      <td>2689.269308</td>\n",
       "      <td>205.549438</td>\n",
       "      <td>1.563674</td>\n",
       "    </tr>\n",
       "    <tr>\n",
       "      <th>min</th>\n",
       "      <td>2510.000000</td>\n",
       "      <td>1800.000000</td>\n",
       "      <td>1.091304</td>\n",
       "    </tr>\n",
       "    <tr>\n",
       "      <th>25%</th>\n",
       "      <td>6661.500000</td>\n",
       "      <td>1870.000000</td>\n",
       "      <td>2.921522</td>\n",
       "    </tr>\n",
       "    <tr>\n",
       "      <th>50%</th>\n",
       "      <td>7561.000000</td>\n",
       "      <td>1945.000000</td>\n",
       "      <td>4.030762</td>\n",
       "    </tr>\n",
       "    <tr>\n",
       "      <th>75%</th>\n",
       "      <td>8408.500000</td>\n",
       "      <td>2300.000000</td>\n",
       "      <td>4.421622</td>\n",
       "    </tr>\n",
       "    <tr>\n",
       "      <th>max</th>\n",
       "      <td>15328.000000</td>\n",
       "      <td>2500.000000</td>\n",
       "      <td>8.515556</td>\n",
       "    </tr>\n",
       "  </tbody>\n",
       "</table>\n",
       "</div>"
      ],
      "text/plain": [
       "                 歩数       摂取カロリー    歩数/カロリー\n",
       "count     30.000000    30.000000  30.000000\n",
       "mean    7766.366667  2026.666626   3.929658\n",
       "std     2689.269308   205.549438   1.563674\n",
       "min     2510.000000  1800.000000   1.091304\n",
       "25%     6661.500000  1870.000000   2.921522\n",
       "50%     7561.000000  1945.000000   4.030762\n",
       "75%     8408.500000  2300.000000   4.421622\n",
       "max    15328.000000  2500.000000   8.515556"
      ]
     },
     "execution_count": 12,
     "metadata": {},
     "output_type": "execute_result"
    }
   ],
   "source": [
    "# describeを用いれば、得られたデータの大体の統計値が表示される\n",
    "health.describe()"
   ]
  },
  {
   "cell_type": "markdown",
   "id": "reliable-vienna",
   "metadata": {},
   "source": [
    "### 相関係数"
   ]
  },
  {
   "cell_type": "code",
   "execution_count": 13,
   "id": "boring-quarterly",
   "metadata": {},
   "outputs": [
    {
     "data": {
      "text/html": [
       "<div>\n",
       "<style scoped>\n",
       "    .dataframe tbody tr th:only-of-type {\n",
       "        vertical-align: middle;\n",
       "    }\n",
       "\n",
       "    .dataframe tbody tr th {\n",
       "        vertical-align: top;\n",
       "    }\n",
       "\n",
       "    .dataframe thead th {\n",
       "        text-align: right;\n",
       "    }\n",
       "</style>\n",
       "<table border=\"1\" class=\"dataframe\">\n",
       "  <thead>\n",
       "    <tr style=\"text-align: right;\">\n",
       "      <th></th>\n",
       "      <th>歩数</th>\n",
       "      <th>摂取カロリー</th>\n",
       "      <th>歩数/カロリー</th>\n",
       "    </tr>\n",
       "  </thead>\n",
       "  <tbody>\n",
       "    <tr>\n",
       "      <th>歩数</th>\n",
       "      <td>1.000000</td>\n",
       "      <td>-0.498703</td>\n",
       "      <td>0.982828</td>\n",
       "    </tr>\n",
       "    <tr>\n",
       "      <th>摂取カロリー</th>\n",
       "      <td>-0.498703</td>\n",
       "      <td>1.000000</td>\n",
       "      <td>-0.636438</td>\n",
       "    </tr>\n",
       "    <tr>\n",
       "      <th>歩数/カロリー</th>\n",
       "      <td>0.982828</td>\n",
       "      <td>-0.636438</td>\n",
       "      <td>1.000000</td>\n",
       "    </tr>\n",
       "  </tbody>\n",
       "</table>\n",
       "</div>"
      ],
      "text/plain": [
       "               歩数    摂取カロリー   歩数/カロリー\n",
       "歩数       1.000000 -0.498703  0.982828\n",
       "摂取カロリー  -0.498703  1.000000 -0.636438\n",
       "歩数/カロリー  0.982828 -0.636438  1.000000"
      ]
     },
     "execution_count": 13,
     "metadata": {},
     "output_type": "execute_result"
    }
   ],
   "source": [
    "# それぞれの相関係数表を作成する\n",
    "health.corr()"
   ]
  },
  {
   "cell_type": "markdown",
   "id": "falling-steps",
   "metadata": {},
   "source": [
    "### 散布図行列\n",
    "相関係数表を基に、それぞれの組み合わせで散布図を作成する  \n",
    "グラフの表示を行うにはまず、マジックコマンドを実行する必要がある"
   ]
  },
  {
   "cell_type": "code",
   "execution_count": 14,
   "id": "angry-austria",
   "metadata": {},
   "outputs": [],
   "source": [
    "%matplotlib inline"
   ]
  },
  {
   "cell_type": "code",
   "execution_count": 15,
   "id": "compact-governor",
   "metadata": {},
   "outputs": [],
   "source": [
    "from pandas.plotting import scatter_matrix"
   ]
  },
  {
   "cell_type": "code",
   "execution_count": 20,
   "id": "junior-craps",
   "metadata": {},
   "outputs": [
    {
     "data": {
      "image/png": "[encoded data removed]",
      "text/plain": [
       "<Figure size 432x288 with 9 Axes>"
      ]
     },
     "metadata": {
      "needs_background": "light"
     },
     "output_type": "display_data"
    }
   ],
   "source": [
    "_ = scatter_matrix(health)"
   ]
  },
  {
   "cell_type": "markdown",
   "id": "mineral-heavy",
   "metadata": {},
   "source": [
    "scatter_matrixでは同じ列同士はそのデータの分布を示す"
   ]
  },
  {
   "cell_type": "markdown",
   "id": "entire-clinic",
   "metadata": {},
   "source": [
    "### DataFrame ⇔ ndarray変換\n",
    "pandasのDataFrameはNumpyのndarrayをベースとして、機能を拡張している  \n",
    "基本的に、機械学習ライブラリでは、DataFrameがそのまま使える  \n",
    "しかし、一部ライブラリでは、Numpyのndarrayを要求するケースもある  \n",
    "  \n",
    "これに対応するため、DataFrame ⇔ ndarray変換が出来ると便利である"
   ]
  },
  {
   "cell_type": "code",
   "execution_count": 22,
   "id": "cheap-problem",
   "metadata": {},
   "outputs": [
    {
     "data": {
      "text/html": [
       "<div>\n",
       "<style scoped>\n",
       "    .dataframe tbody tr th:only-of-type {\n",
       "        vertical-align: middle;\n",
       "    }\n",
       "\n",
       "    .dataframe tbody tr th {\n",
       "        vertical-align: top;\n",
       "    }\n",
       "\n",
       "    .dataframe thead th {\n",
       "        text-align: right;\n",
       "    }\n",
       "</style>\n",
       "<table border=\"1\" class=\"dataframe\">\n",
       "  <thead>\n",
       "    <tr style=\"text-align: right;\">\n",
       "      <th></th>\n",
       "      <th>歩数</th>\n",
       "      <th>摂取カロリー</th>\n",
       "    </tr>\n",
       "    <tr>\n",
       "      <th>date</th>\n",
       "      <th></th>\n",
       "      <th></th>\n",
       "    </tr>\n",
       "  </thead>\n",
       "  <tbody>\n",
       "    <tr>\n",
       "      <th>2017-04-01</th>\n",
       "      <td>5439</td>\n",
       "      <td>2500.0</td>\n",
       "    </tr>\n",
       "    <tr>\n",
       "      <th>2017-04-02</th>\n",
       "      <td>2510</td>\n",
       "      <td>2300.0</td>\n",
       "    </tr>\n",
       "    <tr>\n",
       "      <th>2017-04-03</th>\n",
       "      <td>10238</td>\n",
       "      <td>1950.0</td>\n",
       "    </tr>\n",
       "    <tr>\n",
       "      <th>2017-04-04</th>\n",
       "      <td>8209</td>\n",
       "      <td>1850.0</td>\n",
       "    </tr>\n",
       "    <tr>\n",
       "      <th>2017-04-05</th>\n",
       "      <td>9434</td>\n",
       "      <td>1930.0</td>\n",
       "    </tr>\n",
       "    <tr>\n",
       "      <th>2017-04-06</th>\n",
       "      <td>7593</td>\n",
       "      <td>1800.0</td>\n",
       "    </tr>\n",
       "    <tr>\n",
       "      <th>2017-04-07</th>\n",
       "      <td>9320</td>\n",
       "      <td>1940.0</td>\n",
       "    </tr>\n",
       "    <tr>\n",
       "      <th>2017-04-08</th>\n",
       "      <td>4873</td>\n",
       "      <td>2300.0</td>\n",
       "    </tr>\n",
       "    <tr>\n",
       "      <th>2017-04-09</th>\n",
       "      <td>12045</td>\n",
       "      <td>1950.0</td>\n",
       "    </tr>\n",
       "    <tr>\n",
       "      <th>2017-04-10</th>\n",
       "      <td>7493</td>\n",
       "      <td>1850.0</td>\n",
       "    </tr>\n",
       "    <tr>\n",
       "      <th>2017-04-11</th>\n",
       "      <td>7289</td>\n",
       "      <td>1930.0</td>\n",
       "    </tr>\n",
       "    <tr>\n",
       "      <th>2017-04-12</th>\n",
       "      <td>6481</td>\n",
       "      <td>2300.0</td>\n",
       "    </tr>\n",
       "    <tr>\n",
       "      <th>2017-04-13</th>\n",
       "      <td>10287</td>\n",
       "      <td>1800.0</td>\n",
       "    </tr>\n",
       "    <tr>\n",
       "      <th>2017-04-14</th>\n",
       "      <td>8043</td>\n",
       "      <td>1940.0</td>\n",
       "    </tr>\n",
       "    <tr>\n",
       "      <th>2017-04-15</th>\n",
       "      <td>7435</td>\n",
       "      <td>2300.0</td>\n",
       "    </tr>\n",
       "    <tr>\n",
       "      <th>2017-04-16</th>\n",
       "      <td>7529</td>\n",
       "      <td>2300.0</td>\n",
       "    </tr>\n",
       "    <tr>\n",
       "      <th>2017-04-17</th>\n",
       "      <td>8031</td>\n",
       "      <td>1940.0</td>\n",
       "    </tr>\n",
       "    <tr>\n",
       "      <th>2017-04-18</th>\n",
       "      <td>8475</td>\n",
       "      <td>2300.0</td>\n",
       "    </tr>\n",
       "    <tr>\n",
       "      <th>2017-04-19</th>\n",
       "      <td>8132</td>\n",
       "      <td>1950.0</td>\n",
       "    </tr>\n",
       "    <tr>\n",
       "      <th>2017-04-20</th>\n",
       "      <td>15328</td>\n",
       "      <td>1800.0</td>\n",
       "    </tr>\n",
       "    <tr>\n",
       "      <th>2017-04-21</th>\n",
       "      <td>12849</td>\n",
       "      <td>1940.0</td>\n",
       "    </tr>\n",
       "    <tr>\n",
       "      <th>2017-04-22</th>\n",
       "      <td>4029</td>\n",
       "      <td>2300.0</td>\n",
       "    </tr>\n",
       "    <tr>\n",
       "      <th>2017-04-23</th>\n",
       "      <td>3890</td>\n",
       "      <td>1950.0</td>\n",
       "    </tr>\n",
       "    <tr>\n",
       "      <th>2017-04-24</th>\n",
       "      <td>8093</td>\n",
       "      <td>1850.0</td>\n",
       "    </tr>\n",
       "    <tr>\n",
       "      <th>2017-04-25</th>\n",
       "      <td>7823</td>\n",
       "      <td>1950.0</td>\n",
       "    </tr>\n",
       "    <tr>\n",
       "      <th>2017-04-26</th>\n",
       "      <td>7492</td>\n",
       "      <td>1850.0</td>\n",
       "    </tr>\n",
       "    <tr>\n",
       "      <th>2017-04-27</th>\n",
       "      <td>7203</td>\n",
       "      <td>1930.0</td>\n",
       "    </tr>\n",
       "    <tr>\n",
       "      <th>2017-04-28</th>\n",
       "      <td>7302</td>\n",
       "      <td>1850.0</td>\n",
       "    </tr>\n",
       "    <tr>\n",
       "      <th>2017-04-29</th>\n",
       "      <td>6033</td>\n",
       "      <td>2300.0</td>\n",
       "    </tr>\n",
       "    <tr>\n",
       "      <th>2017-04-30</th>\n",
       "      <td>4093</td>\n",
       "      <td>1950.0</td>\n",
       "    </tr>\n",
       "  </tbody>\n",
       "</table>\n",
       "</div>"
      ],
      "text/plain": [
       "               歩数  摂取カロリー\n",
       "date                     \n",
       "2017-04-01   5439  2500.0\n",
       "2017-04-02   2510  2300.0\n",
       "2017-04-03  10238  1950.0\n",
       "2017-04-04   8209  1850.0\n",
       "2017-04-05   9434  1930.0\n",
       "2017-04-06   7593  1800.0\n",
       "2017-04-07   9320  1940.0\n",
       "2017-04-08   4873  2300.0\n",
       "2017-04-09  12045  1950.0\n",
       "2017-04-10   7493  1850.0\n",
       "2017-04-11   7289  1930.0\n",
       "2017-04-12   6481  2300.0\n",
       "2017-04-13  10287  1800.0\n",
       "2017-04-14   8043  1940.0\n",
       "2017-04-15   7435  2300.0\n",
       "2017-04-16   7529  2300.0\n",
       "2017-04-17   8031  1940.0\n",
       "2017-04-18   8475  2300.0\n",
       "2017-04-19   8132  1950.0\n",
       "2017-04-20  15328  1800.0\n",
       "2017-04-21  12849  1940.0\n",
       "2017-04-22   4029  2300.0\n",
       "2017-04-23   3890  1950.0\n",
       "2017-04-24   8093  1850.0\n",
       "2017-04-25   7823  1950.0\n",
       "2017-04-26   7492  1850.0\n",
       "2017-04-27   7203  1930.0\n",
       "2017-04-28   7302  1850.0\n",
       "2017-04-29   6033  2300.0\n",
       "2017-04-30   4093  1950.0"
      ]
     },
     "execution_count": 22,
     "metadata": {},
     "output_type": "execute_result"
    }
   ],
   "source": [
    "health.loc[:,[\"歩数\",\"摂取カロリー\"]]"
   ]
  },
  {
   "cell_type": "code",
   "execution_count": 23,
   "id": "excessive-protection",
   "metadata": {},
   "outputs": [
    {
     "data": {
      "text/plain": [
       "array([[ 5439.,  2500.],\n",
       "       [ 2510.,  2300.],\n",
       "       [10238.,  1950.],\n",
       "       [ 8209.,  1850.],\n",
       "       [ 9434.,  1930.],\n",
       "       [ 7593.,  1800.],\n",
       "       [ 9320.,  1940.],\n",
       "       [ 4873.,  2300.],\n",
       "       [12045.,  1950.],\n",
       "       [ 7493.,  1850.],\n",
       "       [ 7289.,  1930.],\n",
       "       [ 6481.,  2300.],\n",
       "       [10287.,  1800.],\n",
       "       [ 8043.,  1940.],\n",
       "       [ 7435.,  2300.],\n",
       "       [ 7529.,  2300.],\n",
       "       [ 8031.,  1940.],\n",
       "       [ 8475.,  2300.],\n",
       "       [ 8132.,  1950.],\n",
       "       [15328.,  1800.],\n",
       "       [12849.,  1940.],\n",
       "       [ 4029.,  2300.],\n",
       "       [ 3890.,  1950.],\n",
       "       [ 8093.,  1850.],\n",
       "       [ 7823.,  1950.],\n",
       "       [ 7492.,  1850.],\n",
       "       [ 7203.,  1930.],\n",
       "       [ 7302.,  1850.],\n",
       "       [ 6033.,  2300.],\n",
       "       [ 4093.,  1950.]])"
      ]
     },
     "execution_count": 23,
     "metadata": {},
     "output_type": "execute_result"
    }
   ],
   "source": [
    "# valuesでndarrayで表示する\n",
    "health.loc[:,[\"歩数\",\"摂取カロリー\"]].values"
   ]
  },
  {
   "cell_type": "code",
   "execution_count": null,
   "id": "musical-drawing",
   "metadata": {},
   "outputs": [],
   "source": []
  }
 ],
 "metadata": {
  "kernelspec": {
   "display_name": "Python 3",
   "language": "python",
   "name": "python3"
  },
  "language_info": {
   "codemirror_mode": {
    "name": "ipython",
    "version": 3
   },
   "file_extension": ".py",
   "mimetype": "text/x-python",
   "name": "python",
   "nbconvert_exporter": "python",
   "pygments_lexer": "ipython3",
   "version": "3.7.4"
  }
 },
 "nbformat": 4,
 "nbformat_minor": 5
}
