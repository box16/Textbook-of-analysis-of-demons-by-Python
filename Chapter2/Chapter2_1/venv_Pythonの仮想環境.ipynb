{
 "cells": [
  {
   "cell_type": "markdown",
   "id": "honest-microphone",
   "metadata": {},
   "source": [
    "# 2.1.2venv:Pythonの仮想環境\n",
    "\n",
    "venvとは<br>\n",
    "* venvはPythonの仮想環境を作成するモジュール\n",
    "* AプロジェクトとBプロジェクトで用いているパッケージのバージョンが異なる時、どちらかが不具合を起こす可能性がある\n",
    "* 仮想環境は、AプロジェクトとBプロジェクトを切り分けて、それぞれが用いるパッケージを独立に設ける仕組みの事\n"
   ]
  }
 ],
 "metadata": {
  "kernelspec": {
   "display_name": "Python 3",
   "language": "python",
   "name": "python3"
  },
  "language_info": {
   "codemirror_mode": {
    "name": "ipython",
    "version": 3
   },
   "file_extension": ".py",
   "mimetype": "text/x-python",
   "name": "python",
   "nbconvert_exporter": "python",
   "pygments_lexer": "ipython3",
   "version": "3.7.4"
  }
 },
 "nbformat": 4,
 "nbformat_minor": 5
}
