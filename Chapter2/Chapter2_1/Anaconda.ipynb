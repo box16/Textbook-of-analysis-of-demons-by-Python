{
 "cells": [
  {
   "cell_type": "markdown",
   "id": "southwest-broad",
   "metadata": {},
   "source": [
    "# 2.1.4Anaconda\n",
    "\n",
    "Anaconda<br>\n",
    "* Pythonディストリビューション(全部入りのPython)\n",
    "* パッケージ管理システムでpip,venvを統合した様なもの\n",
    "* 最初からJupyter NotebookやNumpy等がインストールされている\n",
    "\n",
    "Anacondaを利用するメリット、デメリット<br>\n",
    "* メリット\n",
    "    *  condaコマンドというのがvenv,pipを統合したようなコマンド\n",
    "    * 初学者には便利\n",
    "* デメリット\n",
    "    * condaでインストールするパッケージはPyPIではなく、Anaconda社独自のもの\n",
    "        * これが最新と比べると若干古かったり、そもそも無かったりする場合もある\n",
    "        * pipインストールすると、conda環境がごくまれに壊れる場合もある"
   ]
  }
 ],
 "metadata": {
  "kernelspec": {
   "display_name": "Python 3",
   "language": "python",
   "name": "python3"
  },
  "language_info": {
   "codemirror_mode": {
    "name": "ipython",
    "version": 3
   },
   "file_extension": ".py",
   "mimetype": "text/x-python",
   "name": "python",
   "nbconvert_exporter": "python",
   "pygments_lexer": "ipython3",
   "version": "3.7.4"
  }
 },
 "nbformat": 4,
 "nbformat_minor": 5
}
