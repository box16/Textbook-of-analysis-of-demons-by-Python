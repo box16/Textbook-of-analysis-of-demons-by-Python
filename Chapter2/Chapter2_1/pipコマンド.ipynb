{
 "cells": [
  {
   "cell_type": "markdown",
   "id": "forty-operation",
   "metadata": {},
   "source": [
    "# 2.1.3pipコマンド\n",
    "\n",
    "pip<br>\n",
    "* Pythonで使えるサードパーティー製パッケージをインストールするためのツール\n",
    "* サードパーティー製パッケージはPyPIというサイトで公開されている\n",
    "* pip install ~~ とすることで、PyPIのパッケージをインストール出来る\n",
    "\n",
    "インストール<br>\n",
    "`pip install numpy`\n",
    "\n",
    "アンインストール<br>\n",
    "`pip uninstall numpy`\n",
    "\n",
    "特定のバージョンでインストール<br>\n",
    "`pip install numpy==1.14.1`\n",
    "\n",
    "インストール済みのパッケージを更新<br>\n",
    "`pip install -U numpy`\n",
    "\n",
    "pip自体を更新<br>\n",
    "`pip install -U pip`\n",
    "\n",
    "インストール済みのパッケージ一覧を表示<br>\n",
    "`pip list`\n",
    "\n",
    "アップデート可能なパッケージの一覧を表示<br>\n",
    "`pip list -o`\n",
    "\n",
    "現在インストール済みのパッケージとそのバージョンをファイルに出力<br>\n",
    "`pip freeze > requirements.txt`\n",
    "\n",
    "ファイルを元に必要なパッケージのインストール<br>\n",
    "`pip install -r quirements.txt`"
   ]
  }
 ],
 "metadata": {
  "kernelspec": {
   "display_name": "Python 3",
   "language": "python",
   "name": "python3"
  },
  "language_info": {
   "codemirror_mode": {
    "name": "ipython",
    "version": 3
   },
   "file_extension": ".py",
   "mimetype": "text/x-python",
   "name": "python",
   "nbconvert_exporter": "python",
   "pygments_lexer": "ipython3",
   "version": "3.7.4"
  }
 },
 "nbformat": 4,
 "nbformat_minor": 5
}
