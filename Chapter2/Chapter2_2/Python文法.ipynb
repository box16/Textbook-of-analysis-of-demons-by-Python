{
 "cells": [
  {
   "cell_type": "markdown",
   "id": "divided-dubai",
   "metadata": {},
   "source": [
    "# 2.2.1Python文法\n",
    "\n",
    "Pythonの文法の設計思想<br>\n",
    "* シンプルで読みやすいコードが書けること\n",
    "\n",
    "インデント<br>\n",
    "* Pythonはコードのブロック構造をインデントで表現する"
   ]
  },
  {
   "cell_type": "code",
   "execution_count": 1,
   "id": "neutral-validity",
   "metadata": {},
   "outputs": [
    {
     "name": "stdout",
     "output_type": "stream",
     "text": [
      "0\n",
      "1\n",
      "2\n",
      "3\n",
      "4\n",
      "5\n",
      "6\n",
      "7\n",
      "8\n",
      "9\n"
     ]
    }
   ],
   "source": [
    "for i in range(0,10):\n",
    "    print(i)"
   ]
  },
  {
   "cell_type": "markdown",
   "id": "white-monkey",
   "metadata": {},
   "source": [
    "コーディング規約<br>\n",
    "* Pythonの標準のコーディング規約はPEP8(ペップエイト)と呼ばれている\n",
    "* [https://www.python.org/dev/peps/pep-0008/](https://www.python.org/dev/peps/pep-0008/)\n",
    "* PythonプログラマーはこのPEP8に準拠したコーディングを心がける\n",
    "\n",
    "pycodestyle<br>\n",
    "* pycodestyleというツールを用いれば、作成したPythonファイルがPEP8に違反していないかをチェックできる\n",
    "`pip install pycodestyle`\n",
    "`pycodestyle ~~.py`\n",
    "\n",
    "Flake8<br>\n",
    "* 定義したが使用していない変数、importしたが使用していないモジュールが無いかをチェックするツール\n",
    "`pip install flake8`\n",
    "`flake8 ~~.py`"
   ]
  }
 ],
 "metadata": {
  "kernelspec": {
   "display_name": "Python 3",
   "language": "python",
   "name": "python3"
  },
  "language_info": {
   "codemirror_mode": {
    "name": "ipython",
    "version": 3
   },
   "file_extension": ".py",
   "mimetype": "text/x-python",
   "name": "python",
   "nbconvert_exporter": "python",
   "pygments_lexer": "ipython3",
   "version": "3.7.4"
  }
 },
 "nbformat": 4,
 "nbformat_minor": 5
}
