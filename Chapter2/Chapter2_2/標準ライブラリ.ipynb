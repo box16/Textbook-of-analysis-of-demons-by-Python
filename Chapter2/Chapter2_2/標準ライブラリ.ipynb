{
 "cells": [
  {
   "cell_type": "markdown",
   "id": "tested-crisis",
   "metadata": {},
   "source": [
    "# 正規表現モジュール"
   ]
  },
  {
   "cell_type": "code",
   "execution_count": 11,
   "id": "elementary-malaysia",
   "metadata": {},
   "outputs": [],
   "source": [
    "import re\n",
    "prog = re.compile(\"(P(yth|l)|Z)o[pn]e?\")#正規表現オブジェクトの生成"
   ]
  },
  {
   "cell_type": "code",
   "execution_count": 12,
   "id": "driven-vanilla",
   "metadata": {},
   "outputs": [
    {
     "data": {
      "text/plain": [
       "<re.Match object; span=(0, 6), match='Python'>"
      ]
     },
     "execution_count": 12,
     "metadata": {},
     "output_type": "execute_result"
    }
   ],
   "source": [
    "prog.search(\"Python\")"
   ]
  },
  {
   "cell_type": "code",
   "execution_count": 13,
   "id": "musical-china",
   "metadata": {},
   "outputs": [
    {
     "data": {
      "text/plain": [
       "<re.Match object; span=(0, 3), match='Zop'>"
      ]
     },
     "execution_count": 13,
     "metadata": {},
     "output_type": "execute_result"
    }
   ],
   "source": [
    "prog.search(\"Zopne\")"
   ]
  },
  {
   "cell_type": "code",
   "execution_count": 14,
   "id": "numerous-traffic",
   "metadata": {},
   "outputs": [],
   "source": [
    "prog.search(\"Ploe\")"
   ]
  },
  {
   "cell_type": "markdown",
   "id": "uniform-average",
   "metadata": {},
   "source": [
    "# ログモジュール"
   ]
  },
  {
   "cell_type": "code",
   "execution_count": 1,
   "id": "conscious-classic",
   "metadata": {},
   "outputs": [],
   "source": [
    "import logging\n",
    "\n",
    "#example.logにINFO以上のレベルのログを指定フォーマットで記録\n",
    "logging.basicConfig(filename=\"example.log\",\n",
    "                    level=logging.INFO,\n",
    "                    format=\"%(asctime)s:%(levelname)s:%(message)s\")\n",
    "\n",
    "logging.debug(\"Debugレベル\")\n",
    "logging.info(\"Infoレベル\")\n",
    "logging.warning(\"Warningレベル\")\n",
    "logging.error(\"Errorレベル\")\n",
    "logging.critical(\"Criticalレベル\")"
   ]
  },
  {
   "cell_type": "code",
   "execution_count": 8,
   "id": "first-lafayette",
   "metadata": {},
   "outputs": [
    {
     "data": {
      "text/plain": [
       "['2021-03-19 10:13:18,877:INFO:Infoレベル',\n",
       " '2021-03-19 10:13:18,880:WARNING:Warningレベル',\n",
       " '2021-03-19 10:13:18,880:ERROR:Errorレベル',\n",
       " '2021-03-19 10:13:18,880:CRITICAL:Criticalレベル',\n",
       " '']"
      ]
     },
     "execution_count": 8,
     "metadata": {},
     "output_type": "execute_result"
    }
   ],
   "source": [
    "result = \"\"\n",
    "with open(\"example.log\",\"r\") as f:\n",
    "    result = f.read()\n",
    "result.split(\"\\n\")"
   ]
  },
  {
   "cell_type": "markdown",
   "id": "third-trade",
   "metadata": {},
   "source": [
    "# 日付関連モジュール"
   ]
  },
  {
   "cell_type": "code",
   "execution_count": 19,
   "id": "alive-winning",
   "metadata": {},
   "outputs": [
    {
     "data": {
      "text/plain": [
       "'2021-03-19T10:20:11.702606'"
      ]
     },
     "execution_count": 19,
     "metadata": {},
     "output_type": "execute_result"
    }
   ],
   "source": [
    "from datetime import datetime,date\n",
    "\n",
    "datetime.now()#現在日時の取得"
   ]
  },
  {
   "cell_type": "code",
   "execution_count": 20,
   "id": "located-playlist",
   "metadata": {},
   "outputs": [
    {
     "data": {
      "text/plain": [
       "datetime.date(2021, 3, 19)"
      ]
     },
     "execution_count": 20,
     "metadata": {},
     "output_type": "execute_result"
    }
   ],
   "source": [
    "date.today()#今日の日付までを取得。時間は取得しない"
   ]
  },
  {
   "cell_type": "code",
   "execution_count": 21,
   "id": "piano-hungarian",
   "metadata": {},
   "outputs": [
    {
     "data": {
      "text/plain": [
       "datetime.timedelta(days=4489)"
      ]
     },
     "execution_count": 21,
     "metadata": {},
     "output_type": "execute_result"
    }
   ],
   "source": [
    "date.today() - date(2008,12,3)#日付計算"
   ]
  },
  {
   "cell_type": "code",
   "execution_count": 22,
   "id": "fallen-stretch",
   "metadata": {},
   "outputs": [
    {
     "data": {
      "text/plain": [
       "'2021-03-19T10:20:36.227618'"
      ]
     },
     "execution_count": 22,
     "metadata": {},
     "output_type": "execute_result"
    }
   ],
   "source": [
    "datetime.now().isoformat()#isoフォーマットで現在日時を取得"
   ]
  },
  {
   "cell_type": "code",
   "execution_count": 25,
   "id": "secure-month",
   "metadata": {},
   "outputs": [
    {
     "data": {
      "text/plain": [
       "'2021/03/19'"
      ]
     },
     "execution_count": 25,
     "metadata": {},
     "output_type": "execute_result"
    }
   ],
   "source": [
    "date.today().strftime(\"%Y/%m/%d\")#日付を文字列に変換"
   ]
  },
  {
   "cell_type": "code",
   "execution_count": 27,
   "id": "excess-tokyo",
   "metadata": {},
   "outputs": [
    {
     "data": {
      "text/plain": [
       "datetime.datetime(2018, 7, 11, 0, 0)"
      ]
     },
     "execution_count": 27,
     "metadata": {},
     "output_type": "execute_result"
    }
   ],
   "source": [
    "datetime.strptime(\"2018-7-11-\",\"%Y-%m-%d-\")#文字列を日付に変換"
   ]
  },
  {
   "cell_type": "markdown",
   "id": "excess-toyota",
   "metadata": {},
   "source": [
    "# データシリアライズ化モジュール"
   ]
  },
  {
   "cell_type": "code",
   "execution_count": 30,
   "id": "intended-associate",
   "metadata": {},
   "outputs": [
    {
     "data": {
      "text/plain": [
       "{'today': datetime.date(2021, 3, 19), 'delta': datetime.timedelta(days=-808)}"
      ]
     },
     "execution_count": 30,
     "metadata": {},
     "output_type": "execute_result"
    }
   ],
   "source": [
    "import pickle\n",
    "from datetime import datetime,date\n",
    "\n",
    "#何かしらのデータを定義\n",
    "_date = {\"today\" :date.today(), \n",
    "         \"delta\" :date(2019,1,1) - date.today()}\n",
    "\n",
    "#データを直列化。(バイト化)\n",
    "pickle.dumps(_date)\n",
    "\n",
    "#バイト化したデータをファイルに書き込み(バイト書き込みモード)\n",
    "with open(\"date.pkl\",\"wb\") as f:\n",
    "    pickle.dump(_date,f)\n",
    "\n",
    "#バイト化されたデータを読み込み(バイト読み込みモード)\n",
    "with open(\"date.pkl\",\"rb\") as f:\n",
    "    new_date = pickle.load(f)\n",
    "\n",
    "new_date"
   ]
  },
  {
   "cell_type": "markdown",
   "id": "logical-blocking",
   "metadata": {},
   "source": [
    "# ファイルパスモジュール"
   ]
  },
  {
   "cell_type": "code",
   "execution_count": 41,
   "id": "adjustable-mileage",
   "metadata": {},
   "outputs": [
    {
     "data": {
      "text/plain": [
       "WindowsPath('.')"
      ]
     },
     "execution_count": 41,
     "metadata": {},
     "output_type": "execute_result"
    }
   ],
   "source": [
    "from pathlib import Path\n",
    "\n",
    "p = Path()#Pathオブジェクトを現在のファイルパスで作成\n",
    "p"
   ]
  },
  {
   "cell_type": "code",
   "execution_count": 45,
   "id": "amber-aside",
   "metadata": {},
   "outputs": [
    {
     "data": {
      "text/plain": [
       "'sample\\ntest\\nhere'"
      ]
     },
     "execution_count": 45,
     "metadata": {},
     "output_type": "execute_result"
    }
   ],
   "source": [
    "for filepath in p.glob(\"*.txt\"):#.txtを末尾に含む全ファイルを読み込む\n",
    "    with open(filepath,encoding=\"utf-8\") as f:\n",
    "        data = f.read()\n",
    "data"
   ]
  },
  {
   "cell_type": "code",
   "execution_count": 48,
   "id": "apart-solomon",
   "metadata": {},
   "outputs": [
    {
     "data": {
      "text/plain": [
       "True"
      ]
     },
     "execution_count": 48,
     "metadata": {},
     "output_type": "execute_result"
    }
   ],
   "source": [
    "p = Path(\"sample_dir\")#.指定ディレクトリを基準にファイルパスオブジェクトを作成\n",
    "p/\"sample.txt\"#Pathオブジェクトの/演算子はパス作成になる\n",
    "\n",
    "p.exists()"
   ]
  },
  {
   "cell_type": "code",
   "execution_count": 49,
   "id": "banned-trash",
   "metadata": {},
   "outputs": [
    {
     "data": {
      "text/plain": [
       "False"
      ]
     },
     "execution_count": 49,
     "metadata": {},
     "output_type": "execute_result"
    }
   ],
   "source": [
    "p = Path(\"date.pkl\")\n",
    "p.exists()\n",
    "p.is_dir()"
   ]
  }
 ],
 "metadata": {
  "kernelspec": {
   "display_name": "Python 3",
   "language": "python",
   "name": "python3"
  },
  "language_info": {
   "codemirror_mode": {
    "name": "ipython",
    "version": 3
   },
   "file_extension": ".py",
   "mimetype": "text/x-python",
   "name": "python",
   "nbconvert_exporter": "python",
   "pygments_lexer": "ipython3",
   "version": "3.7.4"
  }
 },
 "nbformat": 4,
 "nbformat_minor": 5
}
