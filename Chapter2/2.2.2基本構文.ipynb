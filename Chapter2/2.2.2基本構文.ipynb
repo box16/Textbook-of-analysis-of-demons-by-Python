{
 "cells": [
  {
   "cell_type": "markdown",
   "id": "uniform-belly",
   "metadata": {},
   "source": [
    "# ジェネレーター式\n",
    "\n",
    "リスト内包と似た表記で、()で囲むとジェネレータ式と呼ばれるものになる\n",
    "これは、イテレータを持つオブジェクトを生成する"
   ]
  },
  {
   "cell_type": "code",
   "execution_count": 1,
   "id": "refined-continent",
   "metadata": {},
   "outputs": [
    {
     "data": {
      "text/plain": [
       "['__class__',\n",
       " '__del__',\n",
       " '__delattr__',\n",
       " '__dir__',\n",
       " '__doc__',\n",
       " '__eq__',\n",
       " '__format__',\n",
       " '__ge__',\n",
       " '__getattribute__',\n",
       " '__gt__',\n",
       " '__hash__',\n",
       " '__init__',\n",
       " '__init_subclass__',\n",
       " '__iter__',\n",
       " '__le__',\n",
       " '__lt__',\n",
       " '__name__',\n",
       " '__ne__',\n",
       " '__new__',\n",
       " '__next__',\n",
       " '__qualname__',\n",
       " '__reduce__',\n",
       " '__reduce_ex__',\n",
       " '__repr__',\n",
       " '__setattr__',\n",
       " '__sizeof__',\n",
       " '__str__',\n",
       " '__subclasshook__',\n",
       " 'close',\n",
       " 'gi_code',\n",
       " 'gi_frame',\n",
       " 'gi_running',\n",
       " 'gi_yieldfrom',\n",
       " 'send',\n",
       " 'throw']"
      ]
     },
     "execution_count": 1,
     "metadata": {},
     "output_type": "execute_result"
    }
   ],
   "source": [
    "_generator = (x*x for x in range(100000))\n",
    "dir(_generator)"
   ]
  },
  {
   "cell_type": "code",
   "execution_count": 2,
   "id": "global-light",
   "metadata": {},
   "outputs": [
    {
     "data": {
      "text/plain": [
       "0"
      ]
     },
     "execution_count": 2,
     "metadata": {},
     "output_type": "execute_result"
    }
   ],
   "source": [
    "next(_generator)"
   ]
  },
  {
   "cell_type": "code",
   "execution_count": 3,
   "id": "infinite-magazine",
   "metadata": {},
   "outputs": [
    {
     "data": {
      "text/plain": [
       "1"
      ]
     },
     "execution_count": 3,
     "metadata": {},
     "output_type": "execute_result"
    }
   ],
   "source": [
    "next(_generator)"
   ]
  },
  {
   "cell_type": "code",
   "execution_count": 4,
   "id": "bottom-spotlight",
   "metadata": {},
   "outputs": [
    {
     "data": {
      "text/plain": [
       "4"
      ]
     },
     "execution_count": 4,
     "metadata": {},
     "output_type": "execute_result"
    }
   ],
   "source": [
    "next(_generator)"
   ]
  },
  {
   "cell_type": "code",
   "execution_count": 9,
   "id": "political-polyester",
   "metadata": {},
   "outputs": [
    {
     "data": {
      "text/plain": [
       "'close() -> raise GeneratorExit inside generator.'"
      ]
     },
     "execution_count": 9,
     "metadata": {},
     "output_type": "execute_result"
    }
   ],
   "source": [
    "_generator.close.__doc__"
   ]
  },
  {
   "cell_type": "code",
   "execution_count": 10,
   "id": "impossible-lighter",
   "metadata": {},
   "outputs": [],
   "source": [
    "_generator.close()"
   ]
  },
  {
   "cell_type": "code",
   "execution_count": 11,
   "id": "popular-moisture",
   "metadata": {},
   "outputs": [
    {
     "ename": "StopIteration",
     "evalue": "",
     "output_type": "error",
     "traceback": [
      "\u001b[1;31m---------------------------------------------------------------------------\u001b[0m",
      "\u001b[1;31mStopIteration\u001b[0m                             Traceback (most recent call last)",
      "\u001b[1;32m<ipython-input-11-a2c3b3c657a0>\u001b[0m in \u001b[0;36m<module>\u001b[1;34m\u001b[0m\n\u001b[1;32m----> 1\u001b[1;33m \u001b[0mnext\u001b[0m\u001b[1;33m(\u001b[0m\u001b[0m_generator\u001b[0m\u001b[1;33m)\u001b[0m\u001b[1;33m\u001b[0m\u001b[1;33m\u001b[0m\u001b[0m\n\u001b[0m",
      "\u001b[1;31mStopIteration\u001b[0m: "
     ]
    }
   ],
   "source": [
    "next(_generator)"
   ]
  },
  {
   "cell_type": "markdown",
   "id": "hazardous-above",
   "metadata": {},
   "source": [
    "# 文字列操作"
   ]
  },
  {
   "cell_type": "code",
   "execution_count": 12,
   "id": "approximate-stadium",
   "metadata": {},
   "outputs": [],
   "source": [
    "s1 = \"hello python\""
   ]
  },
  {
   "cell_type": "code",
   "execution_count": 13,
   "id": "unlike-omaha",
   "metadata": {},
   "outputs": [
    {
     "data": {
      "text/plain": [
       "'HELLO PYTHON'"
      ]
     },
     "execution_count": 13,
     "metadata": {},
     "output_type": "execute_result"
    }
   ],
   "source": [
    "s1.upper()#大文字化"
   ]
  },
  {
   "cell_type": "code",
   "execution_count": 14,
   "id": "valuable-talent",
   "metadata": {},
   "outputs": [
    {
     "data": {
      "text/plain": [
       "'hello python'"
      ]
     },
     "execution_count": 14,
     "metadata": {},
     "output_type": "execute_result"
    }
   ],
   "source": [
    "s1.lower()#小文字化"
   ]
  },
  {
   "cell_type": "code",
   "execution_count": 15,
   "id": "steady-housing",
   "metadata": {},
   "outputs": [
    {
     "data": {
      "text/plain": [
       "'Hello Python'"
      ]
     },
     "execution_count": 15,
     "metadata": {},
     "output_type": "execute_result"
    }
   ],
   "source": [
    "s1.title()#単語の一文字目を大文字化、以降を小文字化"
   ]
  },
  {
   "cell_type": "code",
   "execution_count": 17,
   "id": "defined-answer",
   "metadata": {},
   "outputs": [
    {
     "data": {
      "text/plain": [
       "'Hi python'"
      ]
     },
     "execution_count": 17,
     "metadata": {},
     "output_type": "execute_result"
    }
   ],
   "source": [
    "s1.replace(\"hello\",\"Hi\")#helloの部分をHiに置き換え"
   ]
  },
  {
   "cell_type": "code",
   "execution_count": 18,
   "id": "artificial-hebrew",
   "metadata": {},
   "outputs": [],
   "source": [
    "s2 = \" spam ham eggs \""
   ]
  },
  {
   "cell_type": "code",
   "execution_count": 19,
   "id": "removable-performer",
   "metadata": {},
   "outputs": [
    {
     "data": {
      "text/plain": [
       "['spam', 'ham', 'eggs']"
      ]
     },
     "execution_count": 19,
     "metadata": {},
     "output_type": "execute_result"
    }
   ],
   "source": [
    "s2.split()#空白文字で分割"
   ]
  },
  {
   "cell_type": "code",
   "execution_count": 20,
   "id": "derived-sound",
   "metadata": {},
   "outputs": [
    {
     "data": {
      "text/plain": [
       "'spam ham eggs'"
      ]
     },
     "execution_count": 20,
     "metadata": {},
     "output_type": "execute_result"
    }
   ],
   "source": [
    "s2.strip()#先頭と末尾の空白をすべて削除"
   ]
  },
  {
   "cell_type": "code",
   "execution_count": 21,
   "id": "medical-toner",
   "metadata": {},
   "outputs": [],
   "source": [
    "s3 = \"sample.jpg\""
   ]
  },
  {
   "cell_type": "code",
   "execution_count": 22,
   "id": "built-executive",
   "metadata": {},
   "outputs": [
    {
     "data": {
      "text/plain": [
       "True"
      ]
     },
     "execution_count": 22,
     "metadata": {},
     "output_type": "execute_result"
    }
   ],
   "source": [
    "s3.endswith((\"jpg\",\"png\",\"gif\"))#文字列の末尾をチェック。一致するものが有ればTrue"
   ]
  },
  {
   "cell_type": "code",
   "execution_count": 23,
   "id": "voluntary-breast",
   "metadata": {},
   "outputs": [
    {
     "data": {
      "text/plain": [
       "True"
      ]
     },
     "execution_count": 23,
     "metadata": {},
     "output_type": "execute_result"
    }
   ],
   "source": [
    "\"12345\".isdigit()#数字の文字列であるかをチェック。数字の文字列ならTrue"
   ]
  },
  {
   "cell_type": "code",
   "execution_count": 24,
   "id": "breathing-substance",
   "metadata": {},
   "outputs": [
    {
     "data": {
      "text/plain": [
       "10"
      ]
     },
     "execution_count": 24,
     "metadata": {},
     "output_type": "execute_result"
    }
   ],
   "source": [
    "len(s3)#文字列の長さを取得"
   ]
  },
  {
   "cell_type": "code",
   "execution_count": 25,
   "id": "varied-crime",
   "metadata": {},
   "outputs": [
    {
     "data": {
      "text/plain": [
       "True"
      ]
     },
     "execution_count": 25,
     "metadata": {},
     "output_type": "execute_result"
    }
   ],
   "source": [
    "\"py\" in s1 #任意の文字列が対象の文字列内に含まれているかをチェック。含まれていればTrue"
   ]
  },
  {
   "cell_type": "code",
   "execution_count": 26,
   "id": "vital-philip",
   "metadata": {},
   "outputs": [
    {
     "data": {
      "text/plain": [
       "'red-blue-yellow-black'"
      ]
     },
     "execution_count": 26,
     "metadata": {},
     "output_type": "execute_result"
    }
   ],
   "source": [
    "\"-\".join([\"red\",\"blue\",\"yellow\",\"black\"])#渡したリストの各要素を指定文字(この場合-)で連結する"
   ]
  },
  {
   "cell_type": "code",
   "execution_count": null,
   "id": "behavioral-poultry",
   "metadata": {},
   "outputs": [],
   "source": []
  }
 ],
 "metadata": {
  "kernelspec": {
   "display_name": "Python 3",
   "language": "python",
   "name": "python3"
  },
  "language_info": {
   "codemirror_mode": {
    "name": "ipython",
    "version": 3
   },
   "file_extension": ".py",
   "mimetype": "text/x-python",
   "name": "python",
   "nbconvert_exporter": "python",
   "pygments_lexer": "ipython3",
   "version": "3.7.4"
  }
 },
 "nbformat": 4,
 "nbformat_minor": 5
}
