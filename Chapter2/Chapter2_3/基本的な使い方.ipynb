{
 "cells": [
  {
   "cell_type": "markdown",
   "id": "measured-squad",
   "metadata": {},
   "source": [
    "# 2.3.3基本的な使い方\n",
    "\n",
    "Jupyter Notebookの起動<br>\n",
    "* $ jupyter notebook\n",
    "* これでPython実行用のローカルホストが立ち上がる\n",
    "* [http://localhost:8888/tree](http://localhost:8888/tree)\n",
    "\n",
    "Jupyter Notebookの基本<br>\n",
    "* Notebookという1つの単位\n",
    "* 拡張子が.ipynbと呼ばれる\n",
    "* Jupyter Notebook上のNewボタンから作成することで作られる\n",
    "* ドキュメントはMarkDown形式で記述する\n",
    "* PythonはIPythonをベースとして実行される\n",
    "* 自動保存がされる"
   ]
  }
 ],
 "metadata": {
  "kernelspec": {
   "display_name": "Python 3",
   "language": "python",
   "name": "python3"
  },
  "language_info": {
   "codemirror_mode": {
    "name": "ipython",
    "version": 3
   },
   "file_extension": ".py",
   "mimetype": "text/x-python",
   "name": "python",
   "nbconvert_exporter": "python",
   "pygments_lexer": "ipython3",
   "version": "3.7.4"
  }
 },
 "nbformat": 4,
 "nbformat_minor": 5
}
