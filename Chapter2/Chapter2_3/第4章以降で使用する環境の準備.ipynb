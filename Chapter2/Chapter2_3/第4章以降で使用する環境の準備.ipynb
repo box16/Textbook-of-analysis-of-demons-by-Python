{
 "cells": [
  {
   "cell_type": "markdown",
   "id": "electoral-arcade",
   "metadata": {},
   "source": [
    "# 2.3.5第4章以降で使用する環境の準備\n",
    "\n",
    "numpy<br>\n",
    "scipy<br>\n",
    "pandas<br>\n",
    "matplotlib<br>\n",
    "scikit-learn<br>\n",
    "これらをインストールする<br>\n",
    "\n",
    "また、pandasがデータの入出力を行うためのパッケージをインストールする<br>\n",
    "xlrd<br>\n",
    "openpyxl<br>\n",
    "lxml<br>\n"
   ]
  }
 ],
 "metadata": {
  "kernelspec": {
   "display_name": "Python 3",
   "language": "python",
   "name": "python3"
  },
  "language_info": {
   "codemirror_mode": {
    "name": "ipython",
    "version": 3
   },
   "file_extension": ".py",
   "mimetype": "text/x-python",
   "name": "python",
   "nbconvert_exporter": "python",
   "pygments_lexer": "ipython3",
   "version": "3.7.4"
  }
 },
 "nbformat": 4,
 "nbformat_minor": 5
}
