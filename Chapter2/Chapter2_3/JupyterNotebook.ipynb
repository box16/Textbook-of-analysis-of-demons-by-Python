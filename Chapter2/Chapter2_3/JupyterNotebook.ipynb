{
 "cells": [
  {
   "cell_type": "markdown",
   "id": "informative-alert",
   "metadata": {},
   "source": [
    "# 2.3.1JupyterNotebookとは\n",
    "\n",
    "Jupyter Notebook<br>\n",
    "* オープンソースのデータ分析、可視化、機械学習用ツール\n",
    "* Webアプリとして提供される\n",
    "* つまるところ、Web上でPythonの実行環境を構築、動作する仕組み\n",
    "* 実はPythonだけではなく、Julia,Python,Rなどが使える\n",
    "* Jupyterはこれらから取られた側面もある\n",
    "\n",
    "Jupyter Notebookの良い所<br>\n",
    "* Notebookという単位で、プログラムとその結果とドキュメントをまとめる事が出来る\n",
    "* ドキュメントはMarkDown記法で書かれる\n",
    "* pandas,Matplotlibなどのデータ可視化ツールもいい感じに表示してくれる\n"
   ]
  }
 ],
 "metadata": {
  "kernelspec": {
   "display_name": "Python 3",
   "language": "python",
   "name": "python3"
  },
  "language_info": {
   "codemirror_mode": {
    "name": "ipython",
    "version": 3
   },
   "file_extension": ".py",
   "mimetype": "text/x-python",
   "name": "python",
   "nbconvert_exporter": "python",
   "pygments_lexer": "ipython3",
   "version": "3.7.4"
  }
 },
 "nbformat": 4,
 "nbformat_minor": 5
}
