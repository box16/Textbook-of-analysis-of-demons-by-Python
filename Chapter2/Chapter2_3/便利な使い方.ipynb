{
 "cells": [
  {
   "cell_type": "markdown",
   "id": "complicated-cheat",
   "metadata": {},
   "source": [
    "# 時間計測マジックコマンド"
   ]
  },
  {
   "cell_type": "code",
   "execution_count": 3,
   "id": "aboriginal-traffic",
   "metadata": {},
   "outputs": [
    {
     "name": "stdout",
     "output_type": "stream",
     "text": [
      "714 µs ± 31.5 µs per loop (mean ± std. dev. of 10 runs, 1000 loops each)\n"
     ]
    }
   ],
   "source": [
    "# 1000回実行を10セット行って時間を計測する\n",
    "%timeit -n 1000 -r 10 [x*x for x in range(10000)]"
   ]
  },
  {
   "cell_type": "code",
   "execution_count": 2,
   "id": "macro-excellence",
   "metadata": {},
   "outputs": [
    {
     "name": "stdout",
     "output_type": "stream",
     "text": [
      "1.22 ms ± 60.9 µs per loop (mean ± std. dev. of 10 runs, 1000 loops each)\n"
     ]
    }
   ],
   "source": [
    "%%timeit -n 1000 -r 10\n",
    "\n",
    "ret = []\n",
    "for x in range(10000):\n",
    "    ret.append(x*x)"
   ]
  },
  {
   "cell_type": "markdown",
   "id": "unauthorized-jenny",
   "metadata": {},
   "source": [
    "# OSコマンド"
   ]
  },
  {
   "cell_type": "code",
   "execution_count": 4,
   "id": "constant-broad",
   "metadata": {},
   "outputs": [
    {
     "name": "stdout",
     "output_type": "stream",
     "text": [
      "Package             Version\n",
      "------------------- ---------\n",
      "argon2-cffi         20.1.0\n",
      "async-generator     1.10\n",
      "attrs               20.3.0\n",
      "backcall            0.2.0\n",
      "beautifulsoup4      4.8.0\n",
      "bleach              3.3.0\n",
      "certifi             2019.9.11\n",
      "cffi                1.14.5\n",
      "chardet             3.0.4\n",
      "colorama            0.4.4\n",
      "decorator           4.4.2\n",
      "defusedxml          0.7.1\n",
      "entrypoints         0.3\n",
      "idna                2.8\n",
      "importlib-metadata  3.7.3\n",
      "ipykernel           5.5.0\n",
      "ipython             7.21.0\n",
      "ipython-genutils    0.2.0\n",
      "ipywidgets          7.6.3\n",
      "jedi                0.18.0\n",
      "Jinja2              2.11.3\n",
      "jsonschema          3.2.0\n",
      "jupyter             1.0.0\n",
      "jupyter-client      6.1.12\n",
      "jupyter-console     6.3.0\n",
      "jupyter-core        4.7.1\n",
      "jupyterlab-pygments 0.1.2\n",
      "jupyterlab-widgets  1.0.0\n",
      "lxml                4.4.1\n",
      "MarkupSafe          1.1.1\n",
      "mistune             0.8.4\n",
      "nbclient            0.5.3\n",
      "nbconvert           6.0.7\n",
      "nbformat            5.1.2\n",
      "nest-asyncio        1.5.1\n",
      "notebook            6.2.0\n",
      "oauthlib            3.1.0\n",
      "packaging           20.9\n",
      "pandocfilters       1.4.3\n",
      "parso               0.8.1\n",
      "pickleshare         0.7.5\n",
      "pip                 21.0.1\n",
      "prometheus-client   0.9.0\n",
      "prompt-toolkit      3.0.17\n",
      "pycparser           2.20\n",
      "Pygments            2.8.1\n",
      "pyparsing           2.4.7\n",
      "pyrsistent          0.17.3\n",
      "PySocks             1.7.1\n",
      "python-dateutil     2.8.1\n",
      "pywin32             300\n",
      "pywinpty            0.5.7\n",
      "pyzmq               22.0.3\n",
      "qtconsole           5.0.3\n",
      "QtPy                1.9.0\n",
      "requests            2.22.0\n",
      "requests-oauthlib   1.3.0\n",
      "Send2Trash          1.5.0\n",
      "setuptools          40.8.0\n",
      "six                 1.14.0\n",
      "soupsieve           1.9.4\n",
      "style               1.1.0\n",
      "terminado           0.9.3\n",
      "testpath            0.4.4\n",
      "tornado             6.1\n",
      "traitlets           5.0.5\n",
      "tweepy              3.8.0\n",
      "typing-extensions   3.7.4.3\n",
      "update              0.0.1\n",
      "urllib3             1.25.6\n",
      "wcwidth             0.2.5\n",
      "webencodings        0.5.1\n",
      "widgetsnbextension  3.5.1\n",
      "zipp                3.4.1\n"
     ]
    }
   ],
   "source": [
    "! pip list"
   ]
  },
  {
   "cell_type": "markdown",
   "id": "still-cookie",
   "metadata": {},
   "source": [
    "Download<br>\n",
    "* Jupyter NotebookのFileメニューから、HTML形式やMarkDown形式でのダウンロードも可能\n",
    "* pandocとLaTeXがインストールされていればPDF形式でもダウンロード可能\n",
    "\n",
    "Notebookの実体はJsonであるため、Gitにpushすれば見た目そのままで表示できる<br>"
   ]
  }
 ],
 "metadata": {
  "kernelspec": {
   "display_name": "Python 3",
   "language": "python",
   "name": "python3"
  },
  "language_info": {
   "codemirror_mode": {
    "name": "ipython",
    "version": 3
   },
   "file_extension": ".py",
   "mimetype": "text/x-python",
   "name": "python",
   "nbconvert_exporter": "python",
   "pygments_lexer": "ipython3",
   "version": "3.7.4"
  }
 },
 "nbformat": 4,
 "nbformat_minor": 5
}
