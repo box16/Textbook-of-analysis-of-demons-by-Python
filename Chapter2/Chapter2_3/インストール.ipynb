{
 "cells": [
  {
   "cell_type": "markdown",
   "id": "compliant-winner",
   "metadata": {},
   "source": [
    "# 2.3.2インストール\n",
    "\n",
    "仮想環境の作成<br>\n",
    "`python3 -m venv venv`<br>\n",
    "\n",
    "仮想環境のアクティベート<br>\n",
    "`source venv/bin/activate`<br>\n",
    "\n",
    "jupyter notebookのインストール<br>\n",
    "`pip install jupyter`<br>"
   ]
  },
  {
   "cell_type": "code",
   "execution_count": null,
   "id": "organizational-monte",
   "metadata": {},
   "outputs": [],
   "source": []
  }
 ],
 "metadata": {
  "kernelspec": {
   "display_name": "Python 3",
   "language": "python",
   "name": "python3"
  },
  "language_info": {
   "codemirror_mode": {
    "name": "ipython",
    "version": 3
   },
   "file_extension": ".py",
   "mimetype": "text/x-python",
   "name": "python",
   "nbconvert_exporter": "python",
   "pygments_lexer": "ipython3",
   "version": "3.7.4"
  }
 },
 "nbformat": 4,
 "nbformat_minor": 5
}
