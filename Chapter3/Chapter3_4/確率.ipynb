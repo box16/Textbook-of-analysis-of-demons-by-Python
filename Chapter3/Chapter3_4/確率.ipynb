{
 "cells": [
  {
   "cell_type": "markdown",
   "id": "ordinary-subscription",
   "metadata": {},
   "source": [
    "### 確率の基礎\n",
    "6面体のサイコロ(各目の出る確率は同様に確からしいとする)を考える  \n",
    "これから、3の目が出る確率はどれくらいか  \n",
    "  \n",
    "まず、サイコロの**全事象**を考える  \n",
    "全事象とは、取り得るすべての事象の事  \n",
    "  \n",
    "$U = \\{1,2,3,4,5,6\\}$  \n",
    "  \n",
    "そして、サイコロを振るという行為から、全事象Ｕのどれかが現れるという確率は以下のようになる  \n",
    "  \n",
    "$P(U) = 1$  \n",
    "  \n",
    "次に、事象Ａを次のように定義する  \n",
    "  \n",
    "$A = \\{3\\}$  \n",
    "  \n",
    "この場合の確率は  \n",
    "  \n",
    "$P(A) = \\frac{1}{6}$  \n",
    "  \n",
    "次に事象Ｂを次のように定義する  \n",
    "  \n",
    "$B = \\{2,4,6\\}$  \n",
    "  \n",
    "この場合の確率は  \n",
    "  \n",
    "$P(B) = \\frac{1}{3}$  \n"
   ]
  },
  {
   "cell_type": "markdown",
   "id": "blind-worry",
   "metadata": {},
   "source": [
    "### 条件付き確率\n",
    "条件付き確率とは、**事象Ａが起きたという前提の基で、事象Ｂが起きる確率**の事  \n",
    "具体的に以下の式で定義される  \n",
    "  \n",
    "$P_A(B) = \\frac{P(A \\cap B)}{P(A)}$  \n",
    "  \n",
    "分母に事象Ａの確率  \n",
    "分子に事象Ａかつ、事象Ｂの確率をとる  \n",
    "つまり、全事象領域をAに限定したうえで、Bでもある事象がどれくらい発生するかを算出している  \n",
    "A = Bなら$P_A(B)$は1となる  \n",
    "  \n",
    "例えば、サイコロを振ったときに、何らかの操作で偶数しか出ないとなった。  \n",
    "その時に、6である確率はどれくらいか  \n",
    "$A = \\{2,4,6\\}$  \n",
    "$B = \\{6\\}$  \n",
    "  \n",
    "$P_A(B) = \\frac{P(A \\cap B)}{P(A)} = \\frac{1/6}{1/2} = \\frac{1}{3}$  \n",
    "  \n",
    "この条件付き確率の式は、**ベイズの定理**の基本となっており、データ解析手法の主軸となる考え方でもある"
   ]
  },
  {
   "cell_type": "code",
   "execution_count": null,
   "id": "elect-animal",
   "metadata": {},
   "outputs": [],
   "source": []
  }
 ],
 "metadata": {
  "kernelspec": {
   "display_name": "Python 3",
   "language": "python",
   "name": "python3"
  },
  "language_info": {
   "codemirror_mode": {
    "name": "ipython",
    "version": 3
   },
   "file_extension": ".py",
   "mimetype": "text/x-python",
   "name": "python",
   "nbconvert_exporter": "python",
   "pygments_lexer": "ipython3",
   "version": "3.7.4"
  }
 },
 "nbformat": 4,
 "nbformat_minor": 5
}
