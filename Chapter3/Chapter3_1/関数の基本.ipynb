{
 "cells": [
  {
   "cell_type": "markdown",
   "id": "confused-makeup",
   "metadata": {},
   "source": [
    "# 3.1.3関数の基本\n",
    "\n",
    "数学の関数と、プログラムの関数はよく似ている<br>\n",
    "* 変数を受け取り、演算をし、結果を返す\n",
    "\n",
    "関数の書き方<br>\n",
    "* 数学上では関数はfやgといった1文字で表されることが多い\n",
    "* $f(x) = x^2 + 1$\n",
    "* この関数fはxという値を受け取り、それの二乗に1を加えたものを返す\n",
    "* 実装を行うとすれば次のようになる"
   ]
  },
  {
   "cell_type": "code",
   "execution_count": 2,
   "id": "supposed-valuable",
   "metadata": {},
   "outputs": [],
   "source": [
    "def f(x):\n",
    "    return x**2 + 1"
   ]
  },
  {
   "cell_type": "code",
   "execution_count": 3,
   "id": "spread-palestinian",
   "metadata": {},
   "outputs": [
    {
     "data": {
      "text/plain": [
       "101"
      ]
     },
     "execution_count": 3,
     "metadata": {},
     "output_type": "execute_result"
    }
   ],
   "source": [
    "f(10)"
   ]
  },
  {
   "cell_type": "markdown",
   "id": "plastic-raising",
   "metadata": {},
   "source": [
    "* プログラムの関数と同じように、数式の関数も複数の引数を貰うことがある\n",
    "* $f(x,y) = x^2 - y^2 + 2$\n",
    "\n",
    "特殊な関数<br>\n",
    "* ある関数が複数の数式からなることもある\n",
    "* 場合分けと呼ばれる\n",
    "* $f(x) = \\left \\{ \\begin{array}{lll}0 & x>1 \\\\1 & 0\\leq x \\leq 1 \\\\ 0 & x < 0\\end{array}\\right.$\n",
    "* 上記の式の場合は\n",
    "* $f(x) = \\left \\{ \\begin{array}{ll}0 & otherwise \\\\1 & 0\\leq x \\leq 1 \\end{array}\\right.$\n",
    "* と書くことも出来る\n",
    "* 実装を行うとすれば次のようになる"
   ]
  },
  {
   "cell_type": "code",
   "execution_count": 5,
   "id": "polished-flooring",
   "metadata": {},
   "outputs": [],
   "source": [
    "def f(x):\n",
    "    if((0 <= x) and (x <= 1)):\n",
    "        return 1\n",
    "    else:\n",
    "        return 0"
   ]
  },
  {
   "cell_type": "code",
   "execution_count": 6,
   "id": "residential-bikini",
   "metadata": {},
   "outputs": [
    {
     "data": {
      "text/plain": [
       "1"
      ]
     },
     "execution_count": 6,
     "metadata": {},
     "output_type": "execute_result"
    }
   ],
   "source": [
    "f(1)"
   ]
  },
  {
   "cell_type": "code",
   "execution_count": 7,
   "id": "about-granny",
   "metadata": {},
   "outputs": [
    {
     "data": {
      "text/plain": [
       "0"
      ]
     },
     "execution_count": 7,
     "metadata": {},
     "output_type": "execute_result"
    }
   ],
   "source": [
    "f(10)"
   ]
  },
  {
   "cell_type": "markdown",
   "id": "civilian-demonstration",
   "metadata": {},
   "source": [
    "指数関数<br>\n",
    "* 入力された値がある数値のべき乗に用いられる場合、指数関数と呼ばれる\n",
    "* $f(x) = 2^x$\n",
    "* この時の2の事を底と呼ぶ\n",
    "* ネイピア数が底となる関数が多い\n",
    "* $f(x) = e^x$\n",
    "* 底が1より大きい指数関数は次のような形を取る\n",
    "* [![Image](https://gyazo.com/365847d2573e0834891d196c42fe869f/thumb/1000)](https://gyazo.com/365847d2573e0834891d196c42fe869f)\n",
    "\n",
    "シグモイド関数<br>\n",
    "* 指数関数を応用した関数\n",
    "* Deep Learningに置いてよく使われる関数\n",
    "* $f(x) =\\frac{1}{1+e^{-x}}$\n",
    "* 形は次のようなものになる\n",
    "* [![Image](https://gyazo.com/381895ddec2d705d13b5926de8a9c463/thumb/1000)](https://gyazo.com/381895ddec2d705d13b5926de8a9c463)\n",
    "* 最小値0 最大値1を連続的に遷移する式となる\n",
    "* 実際には漸近して行くだけで、0,1にはならない\n",
    "\n",
    "対数関数<br>\n",
    "* 次のような形で表される式を対数関数と呼ぶ\n",
    "* $f(x) = log_2x$\n",
    "* 例えば、この関数に8を入力した場合、3が返ってくる\n",
    "* これは、$2^3 = 8$であるため\n",
    "* つまり、2を底にxになる指数部を求める関数となる\n",
    "\n",
    "自然対数<br>\n",
    "* 対数関数において、底がネイピア数の時、自然対数と呼ばれる\n",
    "* $f(x) = log_ex = lnx$\n",
    "\n",
    "常用対数<br>\n",
    "* 対数関数において、底が10の時、常用対数と呼ばれる\n",
    "* 普通に10が書かれる場合があるが、省略されることもある\n",
    "* 省略されたときはその業界によって底を2と解釈するか10と解釈するかで分かれる\n",
    "* 無難に10、2を付けた方が誤解が少ない\n",
    "* $ f(x) = log_{10}x$\n",
    "\n",
    "対数関数のグラフ<br>\n",
    "* 対数関数のグラフは次のような形になる\n",
    "* [![Image](https://gyazo.com/af78d55e0392eed8066bac857ba476bd/thumb/1000)](https://gyazo.com/af78d55e0392eed8066bac857ba476bd)\n",
    "* xが正の領域のみで、対数関数は定義できる\n",
    "* $log_2x$の場合、2を底にxとなる数字を考える時、xが負の値だとそれを実現できるものは無い\n",
    "* 底が負の値である時の対数関数は連続的ではないため一般には考えられない\n",
    "* ただし、複素領域まで考えれば話は別\n",
    "\n",
    "三角関数<br>\n",
    "* 角度が$\\theta$の坂を距離1進んだ時の、水平方向と、垂直方向の進行距離はどれくらいになっているか\n",
    "* この時の角度の大きさを引数に、水平方向への進み具合(もしくは垂直方向)を返り値に持つ関数を三角関数という\n",
    "* [![Image](https://gyazo.com/ea0b54558264b40a2dc5a5d6b2c951f4/thumb/1000)](https://gyazo.com/ea0b54558264b40a2dc5a5d6b2c951f4)\n",
    "* この場合、角度がきついほど、垂直方向への進行量は増える\n",
    "* 角度が緩いほど水平方向への進行量は増える\n",
    "* 三平方の定理より、斜辺の長さは一定であるため、水平方向と垂直方向の2乗の和は常に1となる(どちらかが大きくなればバランスを取るため、もう片方は小さくなる)\n",
    "* 三角関数においては、弧度法と呼ばれる角度の捉え方をする\n",
    "* 円1周 = 360度を2π2\\pi2πとする方法\n",
    "* 角度$\\theta$に対して\n",
    "* 水平方向 $\\cos\\theta$\n",
    "* 垂直方向 $\\sin\\theta$\n",
    "* 傾きの大きさ $\\tan\\theta$\n",
    "* と定義される\n",
    "* これらの定義から\n",
    "* $\\tan\\theta = \\frac{\\sin\\theta}{\\cos\\theta}$\n",
    "* と解釈できる\n",
    "* 仮に、垂直方向の距離をhと置くと\n",
    "* $h = \\sin\\theta$\n",
    "* と表せる\n",
    "* では、距離hを出すために必要な角度が欲しい場合はどうするか\n",
    "* $\\theta = \\sin^{-1}h = \\arcsin h$\n",
    "* となる\n",
    "* 同じ意味を表現する方法が2つあるだけの話\n",
    "\n",
    "双曲線関数<br>\n",
    "* 指数関数を応用して次のような関数を双曲線関数という\n",
    "* $\\sinh x = \\frac{e^x - e^{-x}}{2}$\n",
    "* 読み方 : ハイパボリックサイン\n",
    "* $\\cosh x = \\frac{e^x + e^{-x}}{2}$\n",
    "* 読み方 : ハイパボリックコサイン\n",
    "* $\\tanh x = \\frac{\\sinh x}{\\cosh x}$\n",
    "* 読み方 : ハイパボリックタンジェント\n",
    "* [![Image](https://gyazo.com/315b19b34c8f8c16d79264c841cc85c3/thumb/1000)](https://gyazo.com/315b19b34c8f8c16d79264c841cc85c3)\n",
    "* coshの方は懸垂線とも呼ばれ、ロープのたわみを表現することが出来る"
   ]
  }
 ],
 "metadata": {
  "kernelspec": {
   "display_name": "Python 3",
   "language": "python",
   "name": "python3"
  },
  "language_info": {
   "codemirror_mode": {
    "name": "ipython",
    "version": 3
   },
   "file_extension": ".py",
   "mimetype": "text/x-python",
   "name": "python",
   "nbconvert_exporter": "python",
   "pygments_lexer": "ipython3",
   "version": "3.7.4"
  }
 },
 "nbformat": 4,
 "nbformat_minor": 5
}
