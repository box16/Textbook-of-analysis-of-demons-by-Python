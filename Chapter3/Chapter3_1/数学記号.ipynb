{
 "cells": [
  {
   "cell_type": "markdown",
   "id": "concerned-diagnosis",
   "metadata": {},
   "source": [
    "# 3.1.2数学記号\n",
    "\n",
    "Pythonで言うところのforに該当する数学記号は幾つかある<br>\n",
    "\n",
    "足し算の繰り返し<br>\n",
    "* $ \\Sigma_{i=1}^n x_i $\n",
    "* 記号にはシグマの大文字を用いる\n",
    "* i=1から始まり,i=nまでxを足し続ける\n",
    "* プログラム上では実現不可能な無限大まで足すという表現を数式では扱う事も出来る\n",
    "* $\\Sigma_{n=1}^{\\infty} \\frac{1}{4^n} = \\frac{1}{3}$\n",
    "\n",
    "掛け算の繰り返し<br>\n",
    "* $\\Pi_{i=1}^{n} x_i$\n",
    "* パイの大文字で掛け算の繰り返しを表現できる\n",
    "* 基本的に足し算の繰り返しと同じ処理を行う\n",
    "\n",
    "\n",
    "円周率<br>\n",
    "* 直径が1の円の円周の長さ\n",
    "* 数学では$pi$という記号で表す\n",
    "* 実際の数字としては3.1415...と無限に数が続く\n",
    "\n",
    "ネイピア数(自然対数の底)<br>\n",
    "* 微分積分を扱う解析学の分野では重要な役割を持つ定数\n",
    "* 以下で定義できる\n",
    "* $e = \\Sigma_{n=0}^{\\infty}\\frac{1}{n!}$\n",
    "* 具体的な数字としてはe=2.71828と無限に続く"
   ]
  },
  {
   "cell_type": "code",
   "execution_count": null,
   "id": "regular-barbados",
   "metadata": {},
   "outputs": [],
   "source": []
  }
 ],
 "metadata": {
  "kernelspec": {
   "display_name": "Python 3",
   "language": "python",
   "name": "python3"
  },
  "language_info": {
   "codemirror_mode": {
    "name": "ipython",
    "version": 3
   },
   "file_extension": ".py",
   "mimetype": "text/x-python",
   "name": "python",
   "nbconvert_exporter": "python",
   "pygments_lexer": "ipython3",
   "version": "3.7.4"
  }
 },
 "nbformat": 4,
 "nbformat_minor": 5
}
