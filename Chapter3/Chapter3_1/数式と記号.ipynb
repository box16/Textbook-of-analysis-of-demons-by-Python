{
 "cells": [
  {
   "cell_type": "markdown",
   "id": "committed-acrobat",
   "metadata": {},
   "source": [
    "# 3.1.1数式と記号\n",
    "\n",
    "ギリシア文字<br>\n",
    "* [![Image](https://gyazo.com/4b78502be21e562f9a1382e2694972f8/thumb/1000)](https://gyazo.com/4b78502be21e562f9a1382e2694972f8)\n",
    "\n",
    "集合<br>\n",
    "* 数のまとまりの事を集合と呼ぶ\n",
    "* Pythonではsetと呼ばれるデータ構造と対応する\n",
    "* ある要素xが集合Sに属していることを次のように示す\n",
    "* $x \\in S$\n",
    "* 集合の中身(上記の例でいうとS)の中身は具体的に書くことが出来る\n",
    "* $A = \\{1,2,3,4\\}$\n",
    "* $B = \\{2,4,6,8\\}$\n",
    "* この場合は、次の関係が成り立つ\n",
    "* $8 \\in B$ $3 \\notin B$ $3 \\in A$\n",
    "\n",
    "積集合<br>\n",
    "* ある2つの集合の共通の集合の事\n",
    "* $A = \\{1,2,3,4\\}$\n",
    "* $B = \\{2,4,6,8\\}$\n",
    "* これの場合は、\n",
    "* $A \\cap B = \\{2,4\\}$\n",
    "\n",
    "和集合<br>\n",
    "* ある2つの集合の総数の集合の事\n",
    "* $A = \\{1,2,3,4\\}$\n",
    "* $B = \\{2,4,6,8\\}$\n",
    "* これの場合は、\n",
    "* $A \\cup B = \\{1,2,3,4,6,8\\}$\n",
    "\n",
    "空集合<br>\n",
    "* なにも無い集合の事\n",
    "* $\\emptyset$\n",
    "* この記号で表す\n",
    "\n",
    "数のまとまり<br>\n",
    "* 例えばn個の数のまとまりの表現は以下の二通りがある\n",
    "* $x_1,x_2...x_n$\n",
    "* $x_i(i=1,...n)$\n"
   ]
  }
 ],
 "metadata": {
  "kernelspec": {
   "display_name": "Python 3",
   "language": "python",
   "name": "python3"
  },
  "language_info": {
   "codemirror_mode": {
    "name": "ipython",
    "version": 3
   },
   "file_extension": ".py",
   "mimetype": "text/x-python",
   "name": "python",
   "nbconvert_exporter": "python",
   "pygments_lexer": "ipython3",
   "version": "3.7.4"
  }
 },
 "nbformat": 4,
 "nbformat_minor": 5
}
