{
 "cells": [
  {
   "cell_type": "markdown",
   "id": "proprietary-costume",
   "metadata": {},
   "source": [
    "### $y = 2$\n",
    "  \n",
    "この式は、xの値に寄らず、yの値が一定に決まっている  \n",
    "つまり傾きがないため、  \n",
    "$\\frac{dy}{dx} = 0$  \n",
    "となる  \n",
    "  \n",
    "**定数の微分は必ず0となる**  \n",
    "  \n",
    "### $f(x) = x^n + C$\n",
    "  \n",
    "この式を微分すると次のようになる\n",
    "$f'(d) = nx^{n-1}$  \n",
    "Cは定数であるため、微分すると消える  \n",
    "  \n",
    "### $f(x) = \\frac{1}{2}x^2$\n",
    "  \n",
    "これは、上記のルールを適用すると  \n",
    "$f'(x) = x$  \n",
    "となる\n",
    "  \n",
    "### $\\int x^n dx$\n",
    "  \n",
    "微分のルールを基に考えると積分も可能となる  \n",
    "積分は微分の逆方向の変換であると捉えて(微分して$x^n$になるものと考えて)  \n",
    "$\\int x^n dx = \\frac{1}{n+1}x^{n+1} + C$  \n",
    "  \n",
    "Cの部分は定数であり、たとえ何が入っても微分時に0になる  \n",
    "また、上記の積分のように積分範囲が決められていないものを**不定積分**という  "
   ]
  },
  {
   "cell_type": "markdown",
   "id": "fitted-eight",
   "metadata": {},
   "source": [
    "### いろいろな関数の微分と積分\n",
    "  \n",
    "#### $f(x) = e^x$\n",
    "この式の場合、微分しても全く形が変わらない  \n",
    "底がeの時のみこの性質は成り立つ  \n",
    "この性質が解析学で重要な役割を持つ  \n",
    "また、積分をしても変わらないが、積分定数がついてくる  \n",
    "  \n",
    "#### 三角関数\n",
    "$(\\sin x)' = \\cos x$  \n",
    "$(\\cos x)' = -\\sin x$  \n",
    "  \n",
    "#### 自然対数\n",
    "$(\\log x)' = \\frac{1}{x}$  \n",
    "ただし、x>0の時のみ成立する  \n",
    "  \n",
    "また、これから$\\frac{1}{x}$の時の積分も考える事が出来る  \n",
    "$\\int \\frac{1}{x}dx = log|x| + C$  \n",
    "絶対値がついてくるところに注意"
   ]
  }
 ],
 "metadata": {
  "kernelspec": {
   "display_name": "Python 3",
   "language": "python",
   "name": "python3"
  },
  "language_info": {
   "codemirror_mode": {
    "name": "ipython",
    "version": 3
   },
   "file_extension": ".py",
   "mimetype": "text/x-python",
   "name": "python",
   "nbconvert_exporter": "python",
   "pygments_lexer": "ipython3",
   "version": "3.7.4"
  }
 },
 "nbformat": 4,
 "nbformat_minor": 5
}
